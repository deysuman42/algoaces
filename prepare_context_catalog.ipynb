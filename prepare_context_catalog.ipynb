{
 "cells": [
  {
   "cell_type": "code",
   "execution_count": 30,
   "id": "ef79f631",
   "metadata": {},
   "outputs": [
    {
     "name": "stdout",
     "output_type": "stream",
     "text": [
      "The autoreload extension is already loaded. To reload it, use:\n",
      "  %reload_ext autoreload\n"
     ]
    }
   ],
   "source": [
    "%load_ext autoreload\n",
    "%autoreload 2"
   ]
  },
  {
   "cell_type": "code",
   "execution_count": 31,
   "id": "7ec76c0a",
   "metadata": {},
   "outputs": [],
   "source": [
    "# Add the parent directory of 'bin' to the system path\n",
    "import sys\n",
    "import os\n",
    "# Get the current notebook's directory\n",
    "notebook_dir = os.getcwd()\n",
    "\n",
    "# Add the 'bin' directory to the system path\n",
    "sys.path.append(os.path.abspath(os.path.join(notebook_dir, \"./bin\")))\n"
   ]
  },
  {
   "cell_type": "code",
   "execution_count": 49,
   "id": "cc96dc20",
   "metadata": {},
   "outputs": [],
   "source": [
    "import pandas as pd\n",
    "import streamlit as st\n",
    "\n",
    "from chunking import load_data, chunk_docs_recursive\n",
    "from vectordb import get_vector_db, add_documents_to_vector_db, create_document_list, get_vector_db_from_persist_directory\n",
    "from retrievar import vector_retrievar_with_source, ensemble_retriever, get_context"
   ]
  },
  {
   "cell_type": "code",
   "execution_count": 33,
   "id": "eb83e446",
   "metadata": {},
   "outputs": [],
   "source": [
    "file_path = \"./data/sample_data.xlsx\""
   ]
  },
  {
   "cell_type": "code",
   "execution_count": 34,
   "id": "dfc80420",
   "metadata": {},
   "outputs": [],
   "source": [
    "# Set OpenAI API key\n",
    "openai_api_key = st.secrets[\"OPENAI_API_KEY\"]\n",
    "os.environ[\"OPENAI_API_KEY\"] = openai_api_key"
   ]
  },
  {
   "cell_type": "code",
   "execution_count": 35,
   "id": "a56b5433",
   "metadata": {},
   "outputs": [],
   "source": [
    "# Helper function for printing docs\n",
    "def pretty_print_docs(docs):\n",
    "    print(\n",
    "        f\"\\n{'-' * 100}\\n\".join(\n",
    "            [f\"Document {i + 1}:\\n\\n\" + d.page_content for i, d in enumerate(docs)]\n",
    "        )\n",
    "    )"
   ]
  },
  {
   "cell_type": "markdown",
   "id": "9668dca5",
   "metadata": {},
   "source": [
    "### Chunking"
   ]
  },
  {
   "cell_type": "code",
   "execution_count": 36,
   "id": "f2086b28",
   "metadata": {},
   "outputs": [],
   "source": [
    "# Load the data from the Excel file\n",
    "docs = load_data(file_path)"
   ]
  },
  {
   "cell_type": "code",
   "execution_count": 37,
   "id": "242d5f72",
   "metadata": {},
   "outputs": [],
   "source": [
    "# docs"
   ]
  },
  {
   "cell_type": "code",
   "execution_count": 39,
   "id": "29e97824",
   "metadata": {},
   "outputs": [],
   "source": [
    "# Chunk the documents\n",
    "chunked_docs = chunk_docs_recursive(docs, chunk_size=5000, chunk_overlap=0)\n",
    "# chunked_docs\n"
   ]
  },
  {
   "cell_type": "code",
   "execution_count": 57,
   "id": "8d441a9d",
   "metadata": {},
   "outputs": [],
   "source": [
    "import pickle\n",
    "def save_docs_pickle(docs, path=\"./data/chunked_rows.pkl\"):\n",
    "    with open(path, \"wb\") as f:\n",
    "        pickle.dump(docs, f)\n",
    "save_docs_pickle(chunked_docs)"
   ]
  },
  {
   "cell_type": "code",
   "execution_count": 41,
   "id": "e3de1d2b",
   "metadata": {},
   "outputs": [
    {
     "data": {
      "text/plain": [
       "{'source': './data/sample_data.xlsx',\n",
       " 'filename': 'sample_data.xlsx',\n",
       " 'file_directory': './data',\n",
       " 'last_modified': '2025-05-10T15:29:59',\n",
       " 'filetype': 'application/vnd.openxmlformats-officedocument.spreadsheetml.sheet',\n",
       " 'languages': ['eng'],\n",
       " 'page_number': 1,\n",
       " 'page_name': 'Daily DFR',\n",
       " 'text_as_html': '<table border=\"1\" class=\"dataframe\">\\n  <tbody>\\n    <tr>\\n      <td>REPORT_DATE</td>\\n      <td>START_TIME</td>\\n      <td>FINISH_TIME</td>\\n      <td>ELAPSED_HOURS</td>\\n    </tr>\\n    <tr>\\n      <td>2022-05-11</td>\\n      <td>13:27:19</td>\\n      <td>20:08:41</td>\\n      <td>7.05</td>\\n    </tr>\\n    <tr>\\n      <td>2022-05-12</td>\\n      <td>05:44:47</td>\\n      <td>23:56:24</td>\\n      <td>1.42</td>\\n    </tr>\\n    <tr>\\n      <td>2022-05-14</td>\\n      <td>08:36:18</td>\\n      <td>13:32:16</td>\\n      <td>9.47</td>\\n    </tr>\\n    <tr>\\n      <td>2022-05-15</td>\\n      <td>00:50:14</td>\\n      <td>16:46:59</td>\\n      <td>8.83</td>\\n    </tr>\\n    <tr>\\n      <td>2022-05-16</td>\\n      <td>08:17:38</td>\\n      <td>16:29:38</td>\\n      <td>11.24</td>\\n    </tr>\\n    <tr>\\n      <td>2022-05-17</td>\\n      <td>20:22:18</td>\\n      <td>16:48:58</td>\\n      <td>11.12</td>\\n    </tr>\\n    <tr>\\n      <td>2022-05-18</td>\\n      <td>11:35:32</td>\\n      <td>14:19:16</td>\\n      <td>2.56</td>\\n    </tr>\\n    <tr>\\n      <td>2022-05-22</td>\\n      <td>09:34:08</td>\\n      <td>22:30:48</td>\\n      <td>3.11</td>\\n    </tr>\\n    <tr>\\n      <td>2022-05-23</td>\\n      <td>05:11:13</td>\\n      <td>17:26:05</td>\\n      <td>6.66</td>\\n    </tr>\\n    <tr>\\n      <td>2022-05-24</td>\\n      <td>13:42:57</td>\\n      <td>03:04:29</td>\\n      <td>3.5</td>\\n    </tr>\\n    <tr>\\n      <td>2022-05-25</td>\\n      <td>05:13:08</td>\\n      <td>01:56:44</td>\\n      <td>4.7</td>\\n    </tr>\\n    <tr>\\n      <td>2022-05-27</td>\\n      <td>11:21:35</td>\\n      <td>17:18:43</td>\\n      <td>6.06</td>\\n    </tr>\\n    <tr>\\n      <td>2022-05-28</td>\\n      <td>17:36:42</td>\\n      <td>07:57:40</td>\\n      <td>11.31</td>\\n    </tr>\\n    <tr>\\n      <td>2022-05-29</td>\\n      <td>10:18:30</td>\\n      <td>06:33:58</td>\\n      <td>8.94</td>\\n    </tr>\\n    <tr>\\n      <td>2022-05-31</td>\\n      <td>00:24:05</td>\\n      <td>03:57:04</td>\\n      <td>3.99</td>\\n    </tr>\\n    <tr>\\n      <td>2022-06-02</td>\\n      <td>13:23:00</td>\\n      <td>03:12:18</td>\\n      <td>4.82</td>\\n    </tr>\\n    <tr>\\n      <td>2022-06-08</td>\\n      <td>22:01:54</td>\\n      <td>07:02:31</td>\\n      <td>1.23</td>\\n    </tr>\\n    <tr>\\n      <td>2022-06-14</td>\\n      <td>14:10:08</td>\\n      <td>04:28:12</td>\\n      <td>10.41</td>\\n    </tr>\\n    <tr>\\n      <td>2022-06-17</td>\\n      <td>17:53:43</td>\\n      <td>09:54:46</td>\\n      <td>5.26</td>\\n    </tr>\\n    <tr>\\n      <td>2022-06-19</td>\\n      <td>05:22:03</td>\\n      <td>06:04:56</td>\\n      <td>2.49</td>\\n    </tr>\\n    <tr>\\n      <td>2022-06-20</td>\\n      <td>18:20:33</td>\\n      <td>18:31:19</td>\\n      <td>10.15</td>\\n    </tr>\\n    <tr>\\n      <td>2022-06-22</td>\\n      <td>10:38:05</td>\\n      <td>11:56:04</td>\\n      <td>10.17</td>\\n    </tr>\\n    <tr>\\n      <td>2022-06-23</td>\\n      <td>12:51:00</td>\\n      <td>04:40:36</td>\\n      <td>6.05</td>\\n    </tr>\\n    <tr>\\n      <td>2022-06-25</td>\\n      <td>12:03:46</td>\\n      <td>02:43:00</td>\\n      <td>4.35</td>\\n    </tr>\\n    <tr>\\n      <td>2022-06-27</td>\\n      <td>19:09:09</td>\\n      <td>16:01:20</td>\\n      <td>9.81</td>\\n    </tr>\\n    <tr>\\n      <td>2022-06-28</td>\\n      <td>06:49:27</td>\\n      <td>04:08:18</td>\\n      <td>4.1</td>\\n    </tr>\\n    <tr>\\n      <td>2022-07-04</td>\\n      <td>00:00:53</td>\\n      <td>04:05:08</td>\\n      <td>10.79</td>\\n    </tr>\\n    <tr>\\n      <td>2022-07-05</td>\\n      <td>19:11:27</td>\\n      <td>10:51:50</td>\\n      <td>7.3</td>\\n    </tr>\\n    <tr>\\n      <td>2022-07-08</td>\\n      <td>09:49:07</td>\\n      <td>07:19:22</td>\\n      <td>5.43</td>\\n    </tr>\\n    <tr>\\n      <td>2022-07-10</td>\\n      <td>13:50:38</td>\\n      <td>06:48:45</td>\\n      <td>7.63</td>\\n    </tr>\\n    <tr>\\n      <td>2022-07-14</td>\\n      <td>17:17:23</td>\\n      <td>20:49:32</td>\\n      <td>10.54</td>\\n    </tr>\\n    <tr>\\n      <td>2022-07-15</td>\\n      <td>20:50:56</td>\\n      <td>15:36:47</td>\\n      <td>9.83</td>\\n    </tr>\\n    <tr>\\n      <td>2022-07-18</td>\\n      <td>03:44:04</td>\\n      <td>00:57:37</td>\\n      <td>2.08</td>\\n    </tr>\\n    <tr>\\n      <td>2022-07-23</td>\\n      <td>01:07:24</td>\\n      <td>19:37:28</td>\\n      <td>10.65</td>\\n    </tr>\\n    <tr>\\n      <td>2022-07-24</td>\\n      <td>13:23:13</td>\\n      <td>00:08:04</td>\\n      <td>7.03</td>\\n    </tr>\\n    <tr>\\n      <td>2022-07-25</td>\\n      <td>05:18:19</td>\\n      <td>10:11:49</td>\\n      <td>9.15</td>\\n    </tr>\\n    <tr>\\n      <td>2022-07-26</td>\\n      <td>12:58:54</td>\\n      <td>04:31:27</td>\\n      <td>8.2</td>\\n    </tr>\\n    <tr>\\n      <td>2022-07-28</td>\\n      <td>08:54:04</td>\\n      <td>04:00:58</td>\\n      <td>10.37</td>\\n    </tr>\\n    <tr>\\n      <td>2022-07-29</td>\\n      <td>06:48:04</td>\\n      <td>09:18:46</td>\\n      <td>10.76</td>\\n    </tr>\\n    <tr>\\n      <td>2022-07-31</td>\\n      <td>13:39:16</td>\\n      <td>23:42:18</td>\\n      <td>5.39</td>\\n    </tr>\\n    <tr>\\n      <td>2022-08-02</td>\\n      <td>21:12:59</td>\\n      <td>01:50:15</td>\\n      <td>10.63</td>\\n    </tr>\\n    <tr>\\n      <td>2022-08-03</td>\\n      <td>09:55:39</td>\\n      <td>03:03:24</td>\\n      <td>11.98</td>\\n    </tr>\\n    <tr>\\n      <td>2022-08-08</td>\\n      <td>05:05:22</td>\\n      <td>18:40:40</td>\\n      <td>9.54</td>\\n    </tr>\\n    <tr>\\n      <td>2022-08-12</td>\\n      <td>05:03:30</td>\\n      <td>04:39:09</td>\\n      <td>4.64</td>\\n    </tr>\\n    <tr>\\n      <td>2022-08-13</td>\\n      <td>07:11:10</td>\\n      <td>10:57:22</td>\\n      <td>5.86</td>\\n    </tr>\\n    <tr>\\n      <td>2022-08-24</td>\\n      <td>01:06:17</td>\\n      <td>14:28:14</td>\\n      <td>3.27</td>\\n    </tr>\\n    <tr>\\n      <td>2022-08-25</td>\\n      <td>01:09:13</td>\\n      <td>13:05:18</td>\\n      <td>6.08</td>\\n    </tr>\\n    <tr>\\n      <td>2022-08-26</td>\\n      <td>03:36:09</td>\\n      <td>17:03:14</td>\\n      <td>10.77</td>\\n    </tr>\\n    <tr>\\n      <td>2022-08-27</td>\\n      <td>06:53:27</td>\\n      <td>07:21:01</td>\\n      <td>8.27</td>\\n    </tr>\\n    <tr>\\n      <td>2022-09-03</td>\\n      <td>08:19:24</td>\\n      <td>10:54:31</td>\\n      <td>10.58</td>\\n    </tr>\\n    <tr>\\n      <td>2022-09-04</td>\\n      <td>06:33:32</td>\\n      <td>06:52:32</td>\\n      <td>6.18</td>\\n    </tr>\\n    <tr>\\n      <td>2022-09-06</td>\\n      <td>18:44:48</td>\\n      <td>11:44:22</td>\\n      <td>11.13</td>\\n    </tr>\\n    <tr>\\n      <td>2022-09-08</td>\\n      <td>21:09:02</td>\\n      <td>03:18:59</td>\\n      <td>9.48</td>\\n    </tr>\\n    <tr>\\n      <td>2022-09-09</td>\\n      <td>12:35:19</td>\\n      <td>10:30:06</td>\\n      <td>11</td>\\n    </tr>\\n    <tr>\\n      <td>2022-09-13</td>\\n      <td>23:36:18</td>\\n      <td>14:42:34</td>\\n      <td>11.48</td>\\n    </tr>\\n    <tr>\\n      <td>2022-09-14</td>\\n      <td>00:24:55</td>\\n      <td>16:11:56</td>\\n      <td>5.53</td>\\n    </tr>\\n    <tr>\\n      <td>2022-09-19</td>\\n      <td>10:58:24</td>\\n      <td>06:36:26</td>\\n      <td>4.96</td>\\n    </tr>\\n    <tr>\\n      <td>2022-09-20</td>\\n      <td>16:10:25</td>\\n      <td>02:21:55</td>\\n      <td>1.93</td>\\n    </tr>\\n    <tr>\\n      <td>2022-09-22</td>\\n      <td>01:20:28</td>\\n      <td>20:04:22</td>\\n      <td>9.46</td>\\n    </tr>\\n    <tr>\\n      <td>2022-09-23</td>\\n      <td>18:13:13</td>\\n      <td>00:26:41</td>\\n      <td>10.94</td>\\n    </tr>\\n    <tr>\\n      <td>2022-09-27</td>\\n      <td>10:58:10</td>\\n      <td>17:23:23</td>\\n      <td>3.86</td>\\n    </tr>\\n    <tr>\\n      <td>2022-09-29</td>\\n      <td>00:01:31</td>\\n      <td>15:19:26</td>\\n      <td>3.52</td>\\n    </tr>\\n    <tr>\\n      <td>2022-10-03</td>\\n      <td>13:10:39</td>\\n      <td>12:36:59</td>\\n      <td>8.25</td>\\n    </tr>\\n    <tr>\\n      <td>2022-10-04</td>\\n      <td>23:45:09</td>\\n      <td>06:27:10</td>\\n      <td>7.4</td>\\n    </tr>\\n    <tr>\\n      <td>2022-10-05</td>\\n      <td>01:23:24</td>\\n      <td>07:11:56</td>\\n      <td>3.37</td>\\n    </tr>\\n    <tr>\\n      <td>2022-10-07</td>\\n      <td>09:31:05</td>\\n      <td>18:21:59</td>\\n      <td>1.69</td>\\n    </tr>\\n    <tr>\\n      <td>2022-10-09</td>\\n      <td>10:44:58</td>\\n      <td>19:18:18</td>\\n      <td>3.11</td>\\n    </tr>\\n    <tr>\\n      <td>2022-10-11</td>\\n      <td>02:06:03</td>\\n      <td>19:04:04</td>\\n      <td>3.93</td>\\n    </tr>\\n    <tr>\\n      <td>2022-10-13</td>\\n      <td>14:59:39</td>\\n      <td>15:37:29</td>\\n      <td>11.01</td>\\n    </tr>\\n    <tr>\\n      <td>2022-10-14</td>\\n      <td>04:34:00</td>\\n      <td>17:14:01</td>\\n      <td>3.85</td>\\n    </tr>\\n    <tr>\\n      <td>2022-10-15</td>\\n      <td>03:08:22</td>\\n      <td>22:33:09</td>\\n      <td>3.14</td>\\n    </tr>\\n    <tr>\\n      <td>2022-10-18</td>\\n      <td>15:47:05</td>\\n      <td>11:03:15</td>\\n      <td>11.13</td>\\n    </tr>\\n    <tr>\\n      <td>2022-10-20</td>\\n      <td>09:49:04</td>\\n      <td>06:45:41</td>\\n      <td>10.87</td>\\n    </tr>\\n    <tr>\\n      <td>2022-10-21</td>\\n      <td>03:33:09</td>\\n      <td>11:19:14</td>\\n      <td>8.7</td>\\n    </tr>\\n    <tr>\\n      <td>2022-10-22</td>\\n      <td>00:37:41</td>\\n      <td>17:17:20</td>\\n      <td>5.61</td>\\n    </tr>\\n    <tr>\\n      <td>2022-10-26</td>\\n      <td>18:57:21</td>\\n      <td>18:03:15</td>\\n      <td>6.13</td>\\n    </tr>\\n    <tr>\\n      <td>2022-10-28</td>\\n      <td>13:24:52</td>\\n      <td>00:53:48</td>\\n      <td>11.23</td>\\n    </tr>\\n    <tr>\\n      <td>2022-10-29</td>\\n      <td>23:37:57</td>\\n      <td>08:07:18</td>\\n      <td>8.09</td>\\n    </tr>\\n    <tr>\\n      <td>2022-10-30</td>\\n      <td>15:05:24</td>\\n      <td>15:57:52</td>\\n      <td>5.22</td>\\n    </tr>\\n    <tr>\\n      <td>2022-10-31</td>\\n      <td>16:43:02</td>\\n      <td>19:17:09</td>\\n      <td>5.86</td>\\n    </tr>\\n    <tr>\\n      <td>2022-11-11</td>\\n      <td>02:05:08</td>\\n      <td>23:34:45</td>\\n      <td>5.11</td>\\n    </tr>\\n    <tr>\\n      <td>2022-11-13</td>\\n      <td>19:12:01</td>\\n      <td>05:31:26</td>\\n      <td>3.75</td>\\n    </tr>\\n    <tr>\\n      <td>2022-11-16</td>\\n      <td>20:41:48</td>\\n      <td>11:26:34</td>\\n      <td>11.2</td>\\n    </tr>\\n    <tr>\\n      <td>2022-11-17</td>\\n      <td>01:57:45</td>\\n      <td>15:09:33</td>\\n      <td>4.63</td>\\n    </tr>\\n    <tr>\\n      <td>2022-11-19</td>\\n      <td>16:55:28</td>\\n      <td>04:01:26</td>\\n      <td>2.28</td>\\n    </tr>\\n    <tr>\\n      <td>2022-11-20</td>\\n      <td>06:24:10</td>\\n      <td>21:57:36</td>\\n      <td>10.05</td>\\n    </tr>\\n    <tr>\\n      <td>2022-11-22</td>\\n      <td>05:40:40</td>\\n      <td>19:46:53</td>\\n      <td>10.77</td>\\n    </tr>\\n    <tr>\\n      <td>2022-11-23</td>\\n      <td>07:04:28</td>\\n      <td>20:14:33</td>\\n      <td>5.4</td>\\n    </tr>\\n    <tr>\\n      <td>2022-11-25</td>\\n      <td>22:47:37</td>\\n      <td>15:26:35</td>\\n      <td>9.72</td>\\n    </tr>\\n    <tr>\\n      <td>2022-11-28</td>\\n      <td>08:33:32</td>\\n      <td>00:09:07</td>\\n      <td>11.23</td>\\n    </tr>\\n    <tr>\\n      <td>2022-11-29</td>\\n      <td>05:56:24</td>\\n      <td>11:13:33</td>\\n      <td>3.93</td>\\n    </tr>\\n    <tr>\\n      <td>2022-12-02</td>\\n      <td>01:31:22</td>\\n      <td>23:41:30</td>\\n      <td>3.86</td>\\n    </tr>\\n    <tr>\\n      <td>2022-12-06</td>\\n      <td>22:44:41</td>\\n      <td>09:35:38</td>\\n      <td>11.41</td>\\n    </tr>\\n    <tr>\\n      <td>2022-12-07</td>\\n      <td>07:08:21</td>\\n      <td>18:10:11</td>\\n      <td>5.65</td>\\n    </tr>\\n    <tr>\\n      <td>2022-12-08</td>\\n      <td>22:02:14</td>\\n      <td>18:33:57</td>\\n      <td>6.27</td>\\n    </tr>\\n    <tr>\\n      <td>2022-12-12</td>\\n      <td>08:19:17</td>\\n      <td>12:18:03</td>\\n      <td>7.3</td>\\n    </tr>\\n    <tr>\\n      <td>2022-12-14</td>\\n      <td>12:31:15</td>\\n      <td>16:21:07</td>\\n      <td>11.31</td>\\n    </tr>\\n    <tr>\\n      <td>2022-12-15</td>\\n      <td>06:53:56</td>\\n      <td>14:42:57</td>\\n      <td>3.06</td>\\n    </tr>\\n    <tr>\\n      <td>2022-12-16</td>\\n      <td>15:45:06</td>\\n      <td>05:33:24</td>\\n      <td>4.49</td>\\n    </tr>\\n    <tr>\\n      <td>2022-12-18</td>\\n      <td>17:06:49</td>\\n      <td>16:33:22</td>\\n      <td>10.85</td>\\n    </tr>\\n    <tr>\\n      <td>2022-12-19</td>\\n      <td>23:21:02</td>\\n      <td>10:43:48</td>\\n      <td>4.35</td>\\n    </tr>\\n    <tr>\\n      <td>2022-12-22</td>\\n      <td>20:38:05</td>\\n      <td>12:25:57</td>\\n      <td>2.94</td>\\n    </tr>\\n    <tr>\\n      <td>2022-12-25</td>\\n      <td>03:01:28</td>\\n      <td>13:26:59</td>\\n      <td>6.48</td>\\n    </tr>\\n    <tr>\\n      <td>2022-12-26</td>\\n      <td>08:56:59</td>\\n      <td>17:56:59</td>\\n      <td>1.38</td>\\n    </tr>\\n    <tr>\\n      <td>2022-12-27</td>\\n      <td>08:58:47</td>\\n      <td>04:51:31</td>\\n      <td>7.31</td>\\n    </tr>\\n    <tr>\\n      <td>2022-12-28</td>\\n      <td>16:55:43</td>\\n      <td>09:11:35</td>\\n      <td>9.9</td>\\n    </tr>\\n    <tr>\\n      <td>2022-12-29</td>\\n      <td>11:07:27</td>\\n      <td>02:12:22</td>\\n      <td>8.66</td>\\n    </tr>\\n    <tr>\\n      <td>2022-12-31</td>\\n      <td>19:04:42</td>\\n      <td>16:41:31</td>\\n      <td>10.57</td>\\n    </tr>\\n    <tr>\\n      <td>2023-01-05</td>\\n      <td>02:19:33</td>\\n      <td>05:42:30</td>\\n      <td>4.11</td>\\n    </tr>\\n    <tr>\\n      <td>2023-01-10</td>\\n      <td>02:00:57</td>\\n      <td>02:14:46</td>\\n      <td>3.93</td>\\n    </tr>\\n    <tr>\\n      <td>2023-01-11</td>\\n      <td>19:13:59</td>\\n      <td>17:47:34</td>\\n      <td>6.55</td>\\n    </tr>\\n    <tr>\\n      <td>2023-01-12</td>\\n      <td>16:50:46</td>\\n      <td>06:45:49</td>\\n      <td>1.76</td>\\n    </tr>\\n    <tr>\\n      <td>2023-01-14</td>\\n      <td>12:09:14</td>\\n      <td>04:04:04</td>\\n      <td>7.26</td>\\n    </tr>\\n    <tr>\\n      <td>2023-01-15</td>\\n      <td>15:34:55</td>\\n      <td>04:49:49</td>\\n      <td>2.03</td>\\n    </tr>\\n    <tr>\\n      <td>2023-01-16</td>\\n      <td>18:01:59</td>\\n      <td>12:35:38</td>\\n      <td>5.47</td>\\n    </tr>\\n    <tr>\\n      <td>2023-01-18</td>\\n      <td>18:39:40</td>\\n      <td>05:58:12</td>\\n      <td>6.64</td>\\n    </tr>\\n    <tr>\\n      <td>2023-01-19</td>\\n      <td>01:57:00</td>\\n      <td>22:04:35</td>\\n      <td>8.54</td>\\n    </tr>\\n    <tr>\\n      <td>2023-01-20</td>\\n      <td>06:11:23</td>\\n      <td>01:06:10</td>\\n      <td>7.54</td>\\n    </tr>\\n    <tr>\\n      <td>2023-01-23</td>\\n      <td>06:52:49</td>\\n      <td>22:58:19</td>\\n      <td>10.43</td>\\n    </tr>\\n    <tr>\\n      <td>2023-01-25</td>\\n      <td>21:20:03</td>\\n      <td>19:18:15</td>\\n      <td>4.12</td>\\n    </tr>\\n    <tr>\\n      <td>2023-01-27</td>\\n      <td>16:21:13</td>\\n      <td>12:19:52</td>\\n      <td>8.26</td>\\n    </tr>\\n    <tr>\\n      <td>2023-01-30</td>\\n      <td>13:41:58</td>\\n      <td>02:00:03</td>\\n      <td>9.77</td>\\n    </tr>\\n    <tr>\\n      <td>2023-01-31</td>\\n      <td>09:20:47</td>\\n      <td>12:00:52</td>\\n      <td>2.57</td>\\n    </tr>\\n    <tr>\\n      <td>2023-02-03</td>\\n      <td>02:33:41</td>\\n      <td>21:10:07</td>\\n      <td>6.27</td>\\n    </tr>\\n    <tr>\\n      <td>2023-02-04</td>\\n      <td>15:11:42</td>\\n      <td>02:59:33</td>\\n      <td>11.94</td>\\n    </tr>\\n    <tr>\\n      <td>2023-02-06</td>\\n      <td>05:00:39</td>\\n      <td>19:49:32</td>\\n      <td>2</td>\\n    </tr>\\n    <tr>\\n      <td>2023-02-07</td>\\n      <td>23:29:13</td>\\n      <td>17:28:59</td>\\n      <td>4.01</td>\\n    </tr>\\n    <tr>\\n      <td>2023-02-08</td>\\n      <td>23:15:37</td>\\n      <td>14:32:42</td>\\n      <td>7.63</td>\\n    </tr>\\n    <tr>\\n      <td>2023-02-10</td>\\n      <td>04:53:16</td>\\n      <td>23:30:40</td>\\n      <td>11.2</td>\\n    </tr>\\n    <tr>\\n      <td>2023-02-13</td>\\n      <td>23:17:46</td>\\n      <td>04:16:30</td>\\n      <td>11.4</td>\\n    </tr>\\n    <tr>\\n      <td>2023-02-15</td>\\n      <td>13:37:06</td>\\n      <td>19:48:57</td>\\n      <td>7.92</td>\\n    </tr>\\n    <tr>\\n      <td>2023-02-18</td>\\n      <td>15:28:26</td>\\n      <td>03:04:45</td>\\n      <td>7.5</td>\\n    </tr>\\n    <tr>\\n      <td>2023-02-19</td>\\n      <td>13:00:27</td>\\n      <td>23:51:06</td>\\n      <td>8.12</td>\\n    </tr>\\n    <tr>\\n      <td>2023-02-20</td>\\n      <td>09:47:55</td>\\n      <td>14:59:18</td>\\n      <td>9.63</td>\\n    </tr>\\n    <tr>\\n      <td>2023-02-21</td>\\n      <td>08:24:37</td>\\n      <td>15:12:43</td>\\n      <td>6.43</td>\\n    </tr>\\n    <tr>\\n      <td>2023-02-22</td>\\n      <td>15:51:57</td>\\n      <td>05:58:56</td>\\n      <td>8</td>\\n    </tr>\\n    <tr>\\n      <td>2023-02-24</td>\\n      <td>09:23:59</td>\\n      <td>08:57:59</td>\\n      <td>2.88</td>\\n    </tr>\\n    <tr>\\n      <td>2023-02-25</td>\\n      <td>17:06:44</td>\\n      <td>03:55:26</td>\\n      <td>8.13</td>\\n    </tr>\\n    <tr>\\n      <td>2023-02-27</td>\\n      <td>07:25:39</td>\\n      <td>19:04:48</td>\\n      <td>8.58</td>\\n    </tr>\\n    <tr>\\n      <td>2023-02-28</td>\\n      <td>13:34:27</td>\\n      <td>03:43:55</td>\\n      <td>3.78</td>\\n    </tr>\\n    <tr>\\n      <td>2023-03-01</td>\\n      <td>19:15:58</td>\\n      <td>14:41:32</td>\\n      <td>6.01</td>\\n    </tr>\\n    <tr>\\n      <td>2023-03-02</td>\\n      <td>05:24:27</td>\\n      <td>12:31:31</td>\\n      <td>2.3</td>\\n    </tr>\\n    <tr>\\n      <td>2023-03-06</td>\\n      <td>21:05:23</td>\\n      <td>01:58:03</td>\\n      <td>9.19</td>\\n    </tr>\\n    <tr>\\n      <td>2023-03-07</td>\\n      <td>19:23:02</td>\\n      <td>21:30:04</td>\\n      <td>3.58</td>\\n    </tr>\\n    <tr>\\n      <td>2023-03-10</td>\\n      <td>21:00:16</td>\\n      <td>19:45:16</td>\\n      <td>9.58</td>\\n    </tr>\\n    <tr>\\n      <td>2023-03-12</td>\\n      <td>04:11:41</td>\\n      <td>00:05:27</td>\\n      <td>2.38</td>\\n    </tr>\\n    <tr>\\n      <td>2023-03-13</td>\\n      <td>13:20:52</td>\\n      <td>13:10:39</td>\\n      <td>8.16</td>\\n    </tr>\\n    <tr>\\n      <td>2023-03-16</td>\\n      <td>06:45:39</td>\\n      <td>20:34:52</td>\\n      <td>1.27</td>\\n    </tr>\\n    <tr>\\n      <td>2023-03-17</td>\\n      <td>14:53:42</td>\\n      <td>02:31:41</td>\\n      <td>7.89</td>\\n    </tr>\\n    <tr>\\n      <td>2023-03-18</td>\\n      <td>13:23:02</td>\\n      <td>22:58:33</td>\\n      <td>4.45</td>\\n    </tr>\\n    <tr>\\n      <td>2023-03-19</td>\\n      <td>19:18:41</td>\\n      <td>23:03:32</td>\\n      <td>6.61</td>\\n    </tr>\\n    <tr>\\n      <td>2023-03-20</td>\\n      <td>03:43:08</td>\\n      <td>22:41:53</td>\\n      <td>7.58</td>\\n    </tr>\\n    <tr>\\n      <td>2023-03-22</td>\\n      <td>12:08:53</td>\\n      <td>16:40:30</td>\\n      <td>2.41</td>\\n    </tr>\\n    <tr>\\n      <td>2023-03-24</td>\\n      <td>04:49:23</td>\\n      <td>14:59:35</td>\\n      <td>1.57</td>\\n    </tr>\\n    <tr>\\n      <td>2023-03-28</td>\\n      <td>02:11:47</td>\\n      <td>01:50:22</td>\\n      <td>3.42</td>\\n    </tr>\\n    <tr>\\n      <td>2023-04-01</td>\\n      <td>07:26:41</td>\\n      <td>18:53:43</td>\\n      <td>7.99</td>\\n    </tr>\\n    <tr>\\n      <td>2023-04-02</td>\\n      <td>01:53:25</td>\\n      <td>21:28:54</td>\\n      <td>3.76</td>\\n    </tr>\\n    <tr>\\n      <td>2023-04-05</td>\\n      <td>20:23:26</td>\\n      <td>06:25:58</td>\\n      <td>2.65</td>\\n    </tr>\\n    <tr>\\n      <td>2023-04-06</td>\\n      <td>13:35:01</td>\\n      <td>00:06:35</td>\\n      <td>3.68</td>\\n    </tr>\\n    <tr>\\n      <td>2023-04-11</td>\\n      <td>22:19:31</td>\\n      <td>01:11:42</td>\\n      <td>3.21</td>\\n    </tr>\\n    <tr>\\n      <td>2023-04-12</td>\\n      <td>03:45:16</td>\\n      <td>02:44:14</td>\\n      <td>10.36</td>\\n    </tr>\\n    <tr>\\n      <td>2023-04-13</td>\\n      <td>04:14:20</td>\\n      <td>13:52:58</td>\\n      <td>11.65</td>\\n    </tr>\\n    <tr>\\n      <td>2023-04-14</td>\\n      <td>04:01:46</td>\\n      <td>02:39:43</td>\\n      <td>8.37</td>\\n    </tr>\\n    <tr>\\n      <td>2023-04-16</td>\\n      <td>16:08:48</td>\\n      <td>09:17:06</td>\\n      <td>9.77</td>\\n    </tr>\\n    <tr>\\n      <td>2023-04-19</td>\\n      <td>14:35:31</td>\\n      <td>13:23:00</td>\\n      <td>3.2</td>\\n    </tr>\\n    <tr>\\n      <td>2023-04-20</td>\\n      <td>14:45:06</td>\\n      <td>11:38:39</td>\\n      <td>9.09</td>\\n    </tr>\\n    <tr>\\n      <td>2023-04-22</td>\\n      <td>23:25:31</td>\\n      <td>07:56:35</td>\\n      <td>6.38</td>\\n    </tr>\\n    <tr>\\n      <td>2023-04-24</td>\\n      <td>14:23:38</td>\\n      <td>19:31:20</td>\\n      <td>1.78</td>\\n    </tr>\\n    <tr>\\n      <td>2023-04-25</td>\\n      <td>23:40:57</td>\\n      <td>13:55:04</td>\\n      <td>4.79</td>\\n    </tr>\\n    <tr>\\n      <td>2023-04-30</td>\\n      <td>00:01:28</td>\\n      <td>05:38:32</td>\\n      <td>5.42</td>\\n    </tr>\\n    <tr>\\n      <td>2023-05-01</td>\\n      <td>05:34:00</td>\\n      <td>23:29:16</td>\\n      <td>6.83</td>\\n    </tr>\\n    <tr>\\n      <td>2023-05-03</td>\\n      <td>17:25:07</td>\\n      <td>05:33:01</td>\\n      <td>9.45</td>\\n    </tr>\\n    <tr>\\n      <td>2023-05-04</td>\\n      <td>07:46:28</td>\\n      <td>02:53:45</td>\\n      <td>6.6</td>\\n    </tr>\\n    <tr>\\n      <td>2023-05-05</td>\\n      <td>03:47:47</td>\\n      <td>16:52:55</td>\\n      <td>10.89</td>\\n    </tr>\\n    <tr>\\n      <td>2023-05-06</td>\\n      <td>15:16:17</td>\\n      <td>05:11:39</td>\\n      <td>11.26</td>\\n    </tr>\\n    <tr>\\n      <td>2023-05-07</td>\\n      <td>05:56:17</td>\\n      <td>19:53:08</td>\\n      <td>5.81</td>\\n    </tr>\\n    <tr>\\n      <td>2023-05-09</td>\\n      <td>17:57:21</td>\\n      <td>04:09:17</td>\\n      <td>7.38</td>\\n    </tr>\\n    <tr>\\n      <td>2023-05-10</td>\\n      <td>08:52:10</td>\\n      <td>09:29:41</td>\\n      <td>7.89</td>\\n    </tr>\\n    <tr>\\n      <td>2023-05-11</td>\\n      <td>05:18:49</td>\\n      <td>07:10:41</td>\\n      <td>4.18</td>\\n    </tr>\\n    <tr>\\n      <td>2023-05-12</td>\\n      <td>00:50:31</td>\\n      <td>13:46:29</td>\\n      <td>11.41</td>\\n    </tr>\\n    <tr>\\n      <td>2023-05-15</td>\\n      <td>20:45:26</td>\\n      <td>12:14:16</td>\\n      <td>2.32</td>\\n    </tr>\\n    <tr>\\n      <td>2023-05-16</td>\\n      <td>19:20:56</td>\\n      <td>21:48:24</td>\\n      <td>9.58</td>\\n    </tr>\\n    <tr>\\n      <td>2023-05-21</td>\\n      <td>01:20:53</td>\\n      <td>00:46:44</td>\\n      <td>3.22</td>\\n    </tr>\\n    <tr>\\n      <td>2023-05-22</td>\\n      <td>00:15:12</td>\\n      <td>08:39:49</td>\\n      <td>5.98</td>\\n    </tr>\\n    <tr>\\n      <td>2023-05-27</td>\\n      <td>04:38:27</td>\\n      <td>14:01:53</td>\\n      <td>6.17</td>\\n    </tr>\\n    <tr>\\n      <td>2023-05-29</td>\\n      <td>17:13:15</td>\\n      <td>19:39:31</td>\\n      <td>5.24</td>\\n    </tr>\\n    <tr>\\n      <td>2023-05-30</td>\\n      <td>17:41:45</td>\\n      <td>08:03:51</td>\\n      <td>2.68</td>\\n    </tr>\\n    <tr>\\n      <td>2023-06-08</td>\\n      <td>08:35:13</td>\\n      <td>22:18:03</td>\\n      <td>11.83</td>\\n    </tr>\\n    <tr>\\n      <td>2023-06-10</td>\\n      <td>03:11:41</td>\\n      <td>10:30:39</td>\\n      <td>3.24</td>\\n    </tr>\\n    <tr>\\n      <td>2023-06-15</td>\\n      <td>18:59:35</td>\\n      <td>07:04:54</td>\\n      <td>1.44</td>\\n    </tr>\\n    <tr>\\n      <td>2023-06-16</td>\\n      <td>16:20:54</td>\\n      <td>04:10:09</td>\\n      <td>4.78</td>\\n    </tr>\\n    <tr>\\n      <td>2023-06-17</td>\\n      <td>14:27:51</td>\\n      <td>06:41:02</td>\\n      <td>9.74</td>\\n    </tr>\\n    <tr>\\n      <td>2023-06-18</td>\\n      <td>04:12:12</td>\\n      <td>17:47:14</td>\\n      <td>3.7</td>\\n    </tr>\\n    <tr>\\n      <td>2023-06-21</td>\\n      <td>00:07:16</td>\\n      <td>00:57:17</td>\\n      <td>8.79</td>\\n    </tr>\\n    <tr>\\n      <td>2023-06-22</td>\\n      <td>11:35:56</td>\\n      <td>21:25:11</td>\\n      <td>8.46</td>\\n    </tr>\\n    <tr>\\n      <td>2023-06-25</td>\\n      <td>10:48:40</td>\\n      <td>12:31:38</td>\\n      <td>3.49</td>\\n    </tr>\\n    <tr>\\n      <td>2023-06-29</td>\\n      <td>06:47:04</td>\\n      <td>20:56:01</td>\\n      <td>1.57</td>\\n    </tr>\\n    <tr>\\n      <td>2023-06-30</td>\\n      <td>20:47:46</td>\\n      <td>17:02:31</td>\\n      <td>8.71</td>\\n    </tr>\\n    <tr>\\n      <td>2023-07-03</td>\\n      <td>00:10:04</td>\\n      <td>22:29:29</td>\\n      <td>1.51</td>\\n    </tr>\\n    <tr>\\n      <td>2023-07-04</td>\\n      <td>20:08:47</td>\\n      <td>02:16:09</td>\\n      <td>4.22</td>\\n    </tr>\\n    <tr>\\n      <td>2023-07-05</td>\\n      <td>03:32:30</td>\\n      <td>07:59:26</td>\\n      <td>1.53</td>\\n    </tr>\\n    <tr>\\n      <td>2023-07-06</td>\\n      <td>03:50:50</td>\\n      <td>20:46:15</td>\\n      <td>1.71</td>\\n    </tr>\\n    <tr>\\n      <td>2023-07-07</td>\\n      <td>03:25:19</td>\\n      <td>15:36:12</td>\\n      <td>2.11</td>\\n    </tr>\\n    <tr>\\n      <td>2023-07-08</td>\\n      <td>07:31:13</td>\\n      <td>21:51:31</td>\\n      <td>7.21</td>\\n    </tr>\\n    <tr>\\n      <td>2023-07-09</td>\\n      <td>19:31:18</td>\\n      <td>10:23:35</td>\\n      <td>6.28</td>\\n    </tr>\\n    <tr>\\n      <td>2023-07-10</td>\\n      <td>20:11:06</td>\\n      <td>07:34:39</td>\\n      <td>4.98</td>\\n    </tr>\\n    <tr>\\n      <td>2023-07-17</td>\\n      <td>07:16:44</td>\\n      <td>02:16:38</td>\\n      <td>3.8</td>\\n    </tr>\\n    <tr>\\n      <td>2023-07-22</td>\\n      <td>18:39:41</td>\\n      <td>09:22:33</td>\\n      <td>2.82</td>\\n    </tr>\\n    <tr>\\n      <td>2023-07-23</td>\\n      <td>08:12:43</td>\\n      <td>02:49:53</td>\\n      <td>4.49</td>\\n    </tr>\\n    <tr>\\n      <td>2023-07-24</td>\\n      <td>03:06:44</td>\\n      <td>13:38:22</td>\\n      <td>8.23</td>\\n    </tr>\\n    <tr>\\n      <td>2023-07-27</td>\\n      <td>21:49:07</td>\\n      <td>02:30:50</td>\\n      <td>5.75</td>\\n    </tr>\\n    <tr>\\n      <td>2023-07-30</td>\\n      <td>21:05:40</td>\\n      <td>22:36:19</td>\\n      <td>5.28</td>\\n    </tr>\\n    <tr>\\n      <td>2023-08-02</td>\\n      <td>14:37:59</td>\\n      <td>05:56:03</td>\\n      <td>1.37</td>\\n    </tr>\\n    <tr>\\n      <td>2023-08-07</td>\\n      <td>12:32:24</td>\\n      <td>07:36:38</td>\\n      <td>5.34</td>\\n    </tr>\\n    <tr>\\n      <td>2023-08-09</td>\\n      <td>21:01:17</td>\\n      <td>19:12:22</td>\\n      <td>9.27</td>\\n    </tr>\\n    <tr>\\n      <td>2023-08-10</td>\\n      <td>14:36:36</td>\\n      <td>05:27:39</td>\\n      <td>3.81</td>\\n    </tr>\\n    <tr>\\n      <td>2023-08-11</td>\\n      <td>11:33:21</td>\\n      <td>21:13:24</td>\\n      <td>7.53</td>\\n    </tr>\\n    <tr>\\n      <td>2023-08-13</td>\\n      <td>12:38:28</td>\\n      <td>07:29:50</td>\\n      <td>11.51</td>\\n    </tr>\\n    <tr>\\n      <td>2023-08-14</td>\\n      <td>09:08:14</td>\\n      <td>17:34:52</td>\\n      <td>1.7</td>\\n    </tr>\\n    <tr>\\n      <td>2023-08-16</td>\\n      <td>11:23:05</td>\\n      <td>00:42:12</td>\\n      <td>8.89</td>\\n    </tr>\\n    <tr>\\n      <td>2023-08-18</td>\\n      <td>22:50:23</td>\\n      <td>22:34:19</td>\\n      <td>6.8</td>\\n    </tr>\\n    <tr>\\n      <td>2023-08-20</td>\\n      <td>08:16:01</td>\\n      <td>17:41:05</td>\\n      <td>7.9</td>\\n    </tr>\\n    <tr>\\n      <td>2023-08-22</td>\\n      <td>05:17:12</td>\\n      <td>14:04:16</td>\\n      <td>7.48</td>\\n    </tr>\\n    <tr>\\n      <td>2023-08-23</td>\\n      <td>21:14:40</td>\\n      <td>11:46:00</td>\\n      <td>6.61</td>\\n    </tr>\\n    <tr>\\n      <td>2023-08-27</td>\\n      <td>09:13:40</td>\\n      <td>16:45:31</td>\\n      <td>2.94</td>\\n    </tr>\\n    <tr>\\n      <td>2023-08-29</td>\\n      <td>17:27:07</td>\\n      <td>14:56:03</td>\\n      <td>3.54</td>\\n    </tr>\\n    <tr>\\n      <td>2023-08-30</td>\\n      <td>16:14:13</td>\\n      <td>10:53:09</td>\\n      <td>1.97</td>\\n    </tr>\\n    <tr>\\n      <td>2023-08-31</td>\\n      <td>13:06:28</td>\\n      <td>22:16:10</td>\\n      <td>7.46</td>\\n    </tr>\\n    <tr>\\n      <td>2023-09-02</td>\\n      <td>19:01:16</td>\\n      <td>14:18:51</td>\\n      <td>7.55</td>\\n    </tr>\\n    <tr>\\n      <td>2023-09-04</td>\\n      <td>10:13:31</td>\\n      <td>10:19:06</td>\\n      <td>5.65</td>\\n    </tr>\\n    <tr>\\n      <td>2023-09-08</td>\\n      <td>01:43:02</td>\\n      <td>10:42:09</td>\\n      <td>3.63</td>\\n    </tr>\\n    <tr>\\n      <td>2023-09-09</td>\\n      <td>11:27:35</td>\\n      <td>23:07:36</td>\\n      <td>1.32</td>\\n    </tr>\\n    <tr>\\n      <td>2023-09-10</td>\\n      <td>05:11:14</td>\\n      <td>10:07:12</td>\\n      <td>2.18</td>\\n    </tr>\\n    <tr>\\n      <td>2023-09-11</td>\\n      <td>09:20:15</td>\\n      <td>11:56:06</td>\\n      <td>5.9</td>\\n    </tr>\\n    <tr>\\n      <td>2023-09-20</td>\\n      <td>00:46:30</td>\\n      <td>09:13:44</td>\\n      <td>8.07</td>\\n    </tr>\\n    <tr>\\n      <td>2023-09-27</td>\\n      <td>19:28:03</td>\\n      <td>03:37:27</td>\\n      <td>5.29</td>\\n    </tr>\\n    <tr>\\n      <td>2023-09-28</td>\\n      <td>17:32:02</td>\\n      <td>17:59:34</td>\\n      <td>2.13</td>\\n    </tr>\\n    <tr>\\n      <td>2023-09-29</td>\\n      <td>17:52:41</td>\\n      <td>09:30:14</td>\\n      <td>1.63</td>\\n    </tr>\\n    <tr>\\n      <td>2023-10-02</td>\\n      <td>18:08:05</td>\\n      <td>11:37:43</td>\\n      <td>1.9</td>\\n    </tr>\\n    <tr>\\n      <td>2023-10-03</td>\\n      <td>10:06:19</td>\\n      <td>11:23:24</td>\\n      <td>1.37</td>\\n    </tr>\\n    <tr>\\n      <td>2023-10-05</td>\\n      <td>12:11:04</td>\\n      <td>15:05:58</td>\\n      <td>8.77</td>\\n    </tr>\\n    <tr>\\n      <td>2023-10-06</td>\\n      <td>14:31:16</td>\\n      <td>19:25:50</td>\\n      <td>7.77</td>\\n    </tr>\\n    <tr>\\n      <td>2023-10-08</td>\\n      <td>17:47:17</td>\\n      <td>20:25:07</td>\\n      <td>6.86</td>\\n    </tr>\\n    <tr>\\n      <td>2023-10-10</td>\\n      <td>09:59:01</td>\\n      <td>18:19:08</td>\\n      <td>4.24</td>\\n    </tr>\\n    <tr>\\n      <td>2023-10-11</td>\\n      <td>13:46:35</td>\\n      <td>08:05:54</td>\\n      <td>7.62</td>\\n    </tr>\\n    <tr>\\n      <td>2023-10-17</td>\\n      <td>17:19:08</td>\\n      <td>10:00:09</td>\\n      <td>8.8</td>\\n    </tr>\\n    <tr>\\n      <td>2023-10-19</td>\\n      <td>21:09:04</td>\\n      <td>01:00:56</td>\\n      <td>11.59</td>\\n    </tr>\\n    <tr>\\n      <td>2023-10-23</td>\\n      <td>16:03:44</td>\\n      <td>15:32:56</td>\\n      <td>3.48</td>\\n    </tr>\\n    <tr>\\n      <td>2023-10-27</td>\\n      <td>17:33:51</td>\\n      <td>02:03:24</td>\\n      <td>2.15</td>\\n    </tr>\\n    <tr>\\n      <td>2023-10-28</td>\\n      <td>04:55:50</td>\\n      <td>22:23:47</td>\\n      <td>6.42</td>\\n    </tr>\\n    <tr>\\n      <td>2023-10-29</td>\\n      <td>03:46:06</td>\\n      <td>01:32:11</td>\\n      <td>7.17</td>\\n    </tr>\\n    <tr>\\n      <td>2023-10-30</td>\\n      <td>05:58:10</td>\\n      <td>08:08:31</td>\\n      <td>10.38</td>\\n    </tr>\\n    <tr>\\n      <td>2023-10-31</td>\\n      <td>17:38:58</td>\\n      <td>16:54:36</td>\\n      <td>2.85</td>\\n    </tr>\\n    <tr>\\n      <td>2023-11-01</td>\\n      <td>03:38:39</td>\\n      <td>18:40:19</td>\\n      <td>7.95</td>\\n    </tr>\\n    <tr>\\n      <td>2023-11-12</td>\\n      <td>18:22:37</td>\\n      <td>05:11:57</td>\\n      <td>3.05</td>\\n    </tr>\\n    <tr>\\n      <td>2023-11-13</td>\\n      <td>05:34:46</td>\\n      <td>20:13:21</td>\\n      <td>3.26</td>\\n    </tr>\\n    <tr>\\n      <td>2023-11-15</td>\\n      <td>14:12:39</td>\\n      <td>10:12:10</td>\\n      <td>2.12</td>\\n    </tr>\\n    <tr>\\n      <td>2023-11-17</td>\\n      <td>05:43:59</td>\\n      <td>02:26:38</td>\\n      <td>3.39</td>\\n    </tr>\\n    <tr>\\n      <td>2023-11-19</td>\\n      <td>22:31:12</td>\\n      <td>20:31:26</td>\\n      <td>7.11</td>\\n    </tr>\\n    <tr>\\n      <td>2023-11-20</td>\\n      <td>00:17:48</td>\\n      <td>14:02:57</td>\\n      <td>8.64</td>\\n    </tr>\\n    <tr>\\n      <td>2023-11-23</td>\\n      <td>10:32:56</td>\\n      <td>10:54:44</td>\\n      <td>6.98</td>\\n    </tr>\\n    <tr>\\n      <td>2023-11-24</td>\\n      <td>21:51:32</td>\\n      <td>10:42:19</td>\\n      <td>5.35</td>\\n    </tr>\\n    <tr>\\n      <td>2023-11-26</td>\\n      <td>08:27:20</td>\\n      <td>20:56:48</td>\\n      <td>5.89</td>\\n    </tr>\\n    <tr>\\n      <td>2023-11-28</td>\\n      <td>15:30:11</td>\\n      <td>19:29:55</td>\\n      <td>3.06</td>\\n    </tr>\\n    <tr>\\n      <td>2023-12-01</td>\\n      <td>15:02:01</td>\\n      <td>00:24:38</td>\\n      <td>7.89</td>\\n    </tr>\\n    <tr>\\n      <td>2023-12-02</td>\\n      <td>05:08:38</td>\\n      <td>20:12:12</td>\\n      <td>9.15</td>\\n    </tr>\\n    <tr>\\n      <td>2023-12-04</td>\\n      <td>06:06:03</td>\\n      <td>08:07:26</td>\\n      <td>8.01</td>\\n    </tr>\\n    <tr>\\n      <td>2023-12-05</td>\\n      <td>03:46:33</td>\\n      <td>20:21:57</td>\\n      <td>5.1</td>\\n    </tr>\\n    <tr>\\n      <td>2023-12-06</td>\\n      <td>03:56:34</td>\\n      <td>11:45:52</td>\\n      <td>10.07</td>\\n    </tr>\\n    <tr>\\n      <td>2023-12-07</td>\\n      <td>02:03:53</td>\\n      <td>04:06:26</td>\\n      <td>4.14</td>\\n    </tr>\\n    <tr>\\n      <td>2023-12-08</td>\\n      <td>13:18:30</td>\\n      <td>09:45:10</td>\\n      <td>5.97</td>\\n    </tr>\\n    <tr>\\n      <td>2023-12-15</td>\\n      <td>16:44:14</td>\\n      <td>11:30:52</td>\\n      <td>4.98</td>\\n    </tr>\\n    <tr>\\n      <td>2023-12-16</td>\\n      <td>21:11:58</td>\\n      <td>21:20:48</td>\\n      <td>7.65</td>\\n    </tr>\\n    <tr>\\n      <td>2023-12-17</td>\\n      <td>17:05:48</td>\\n      <td>06:39:14</td>\\n      <td>10.59</td>\\n    </tr>\\n    <tr>\\n      <td>2023-12-18</td>\\n      <td>07:07:19</td>\\n      <td>13:59:46</td>\\n      <td>9.89</td>\\n    </tr>\\n    <tr>\\n      <td>2023-12-20</td>\\n      <td>11:34:33</td>\\n      <td>10:42:03</td>\\n      <td>11.14</td>\\n    </tr>\\n    <tr>\\n      <td>2023-12-22</td>\\n      <td>07:02:08</td>\\n      <td>10:27:26</td>\\n      <td>4.43</td>\\n    </tr>\\n    <tr>\\n      <td>2023-12-25</td>\\n      <td>00:14:36</td>\\n      <td>18:55:13</td>\\n      <td>8.26</td>\\n    </tr>\\n    <tr>\\n      <td>2023-12-26</td>\\n      <td>19:32:04</td>\\n      <td>04:38:27</td>\\n      <td>2.2</td>\\n    </tr>\\n    <tr>\\n      <td>2023-12-29</td>\\n      <td>14:14:45</td>\\n      <td>17:03:00</td>\\n      <td>6.03</td>\\n    </tr>\\n    <tr>\\n      <td>2023-12-30</td>\\n      <td>21:37:51</td>\\n      <td>21:40:05</td>\\n      <td>1.33</td>\\n    </tr>\\n    <tr>\\n      <td>2024-01-06</td>\\n      <td>04:17:39</td>\\n      <td>11:00:52</td>\\n      <td>11.01</td>\\n    </tr>\\n    <tr>\\n      <td>2024-01-09</td>\\n      <td>15:15:58</td>\\n      <td>17:40:56</td>\\n      <td>2.82</td>\\n    </tr>\\n    <tr>\\n      <td>2024-01-10</td>\\n      <td>09:44:01</td>\\n      <td>19:36:12</td>\\n      <td>10.23</td>\\n    </tr>\\n    <tr>\\n      <td>2024-01-11</td>\\n      <td>13:53:43</td>\\n      <td>09:52:51</td>\\n      <td>8.19</td>\\n    </tr>\\n    <tr>\\n      <td>2024-01-12</td>\\n      <td>17:28:53</td>\\n      <td>15:59:48</td>\\n      <td>4.51</td>\\n    </tr>\\n    <tr>\\n      <td>2024-01-15</td>\\n      <td>22:38:37</td>\\n      <td>08:22:23</td>\\n      <td>4.69</td>\\n    </tr>\\n    <tr>\\n      <td>2024-01-16</td>\\n      <td>10:16:01</td>\\n      <td>10:18:19</td>\\n      <td>11.73</td>\\n    </tr>\\n    <tr>\\n      <td>2024-01-17</td>\\n      <td>02:04:06</td>\\n      <td>14:58:12</td>\\n      <td>9.57</td>\\n    </tr>\\n    <tr>\\n      <td>2024-01-20</td>\\n      <td>05:59:51</td>\\n      <td>15:30:43</td>\\n      <td>3.96</td>\\n    </tr>\\n    <tr>\\n      <td>2024-01-21</td>\\n      <td>17:04:30</td>\\n      <td>04:29:58</td>\\n      <td>10.13</td>\\n    </tr>\\n    <tr>\\n      <td>2024-01-22</td>\\n      <td>01:28:19</td>\\n      <td>14:20:54</td>\\n      <td>8.52</td>\\n    </tr>\\n    <tr>\\n      <td>2024-01-24</td>\\n      <td>08:30:46</td>\\n      <td>00:43:57</td>\\n      <td>5.48</td>\\n    </tr>\\n    <tr>\\n      <td>2024-01-25</td>\\n      <td>00:24:16</td>\\n      <td>03:57:22</td>\\n      <td>10.71</td>\\n    </tr>\\n    <tr>\\n      <td>2024-01-26</td>\\n      <td>12:16:03</td>\\n      <td>17:12:21</td>\\n      <td>1.03</td>\\n    </tr>\\n    <tr>\\n      <td>2024-01-28</td>\\n      <td>19:25:04</td>\\n      <td>07:03:03</td>\\n      <td>6.64</td>\\n    </tr>\\n    <tr>\\n      <td>2024-01-29</td>\\n      <td>00:34:38</td>\\n      <td>06:57:28</td>\\n      <td>11.73</td>\\n    </tr>\\n    <tr>\\n      <td>2024-01-31</td>\\n      <td>06:11:19</td>\\n      <td>06:49:58</td>\\n      <td>2.45</td>\\n    </tr>\\n    <tr>\\n      <td>2024-02-01</td>\\n      <td>08:41:13</td>\\n      <td>18:21:40</td>\\n      <td>2.1</td>\\n    </tr>\\n    <tr>\\n      <td>2024-02-05</td>\\n      <td>13:38:05</td>\\n      <td>04:26:58</td>\\n      <td>8.79</td>\\n    </tr>\\n    <tr>\\n      <td>2024-02-06</td>\\n      <td>07:34:29</td>\\n      <td>05:30:27</td>\\n      <td>3.35</td>\\n    </tr>\\n    <tr>\\n      <td>2024-02-09</td>\\n      <td>16:08:32</td>\\n      <td>09:41:36</td>\\n      <td>3.73</td>\\n    </tr>\\n    <tr>\\n      <td>2024-02-10</td>\\n      <td>22:59:56</td>\\n      <td>20:49:59</td>\\n      <td>4.97</td>\\n    </tr>\\n    <tr>\\n      <td>2024-02-16</td>\\n      <td>21:32:36</td>\\n      <td>02:05:24</td>\\n      <td>1.47</td>\\n    </tr>\\n    <tr>\\n      <td>2024-02-17</td>\\n      <td>22:03:51</td>\\n      <td>02:28:17</td>\\n      <td>2.07</td>\\n    </tr>\\n    <tr>\\n      <td>2024-02-20</td>\\n      <td>01:26:40</td>\\n      <td>17:21:20</td>\\n      <td>1.2</td>\\n    </tr>\\n    <tr>\\n      <td>2024-02-21</td>\\n      <td>16:17:24</td>\\n      <td>02:08:41</td>\\n      <td>9.88</td>\\n    </tr>\\n    <tr>\\n      <td>2024-02-22</td>\\n      <td>08:02:39</td>\\n      <td>22:20:20</td>\\n      <td>1.54</td>\\n    </tr>\\n    <tr>\\n      <td>2024-02-23</td>\\n      <td>17:17:07</td>\\n      <td>15:54:18</td>\\n      <td>8.8</td>\\n    </tr>\\n    <tr>\\n      <td>2024-02-24</td>\\n      <td>00:01:10</td>\\n      <td>01:28:45</td>\\n      <td>6.19</td>\\n    </tr>\\n    <tr>\\n      <td>2024-02-25</td>\\n      <td>03:42:29</td>\\n      <td>06:22:19</td>\\n      <td>1.74</td>\\n    </tr>\\n    <tr>\\n      <td>2024-02-26</td>\\n      <td>09:02:43</td>\\n      <td>22:45:07</td>\\n      <td>3.9</td>\\n    </tr>\\n    <tr>\\n      <td>2024-02-28</td>\\n      <td>03:05:58</td>\\n      <td>11:47:22</td>\\n      <td>6.88</td>\\n    </tr>\\n    <tr>\\n      <td>2024-03-02</td>\\n      <td>07:08:09</td>\\n      <td>01:11:34</td>\\n      <td>11.37</td>\\n    </tr>\\n    <tr>\\n      <td>2024-03-03</td>\\n      <td>07:50:00</td>\\n      <td>19:25:08</td>\\n      <td>5.37</td>\\n    </tr>\\n    <tr>\\n      <td>2024-03-05</td>\\n      <td>12:02:44</td>\\n      <td>21:34:37</td>\\n      <td>11.08</td>\\n    </tr>\\n    <tr>\\n      <td>2024-03-06</td>\\n      <td>17:21:39</td>\\n      <td>13:37:43</td>\\n      <td>10.18</td>\\n    </tr>\\n    <tr>\\n      <td>2024-03-07</td>\\n      <td>08:53:34</td>\\n      <td>19:54:38</td>\\n      <td>9.12</td>\\n    </tr>\\n    <tr>\\n      <td>2024-03-10</td>\\n      <td>08:52:30</td>\\n      <td>12:28:58</td>\\n      <td>3.75</td>\\n    </tr>\\n    <tr>\\n      <td>2024-03-11</td>\\n      <td>18:25:48</td>\\n      <td>03:39:13</td>\\n      <td>5.88</td>\\n    </tr>\\n    <tr>\\n      <td>2024-03-13</td>\\n      <td>00:47:32</td>\\n      <td>02:40:57</td>\\n      <td>11.48</td>\\n    </tr>\\n    <tr>\\n      <td>2024-03-14</td>\\n      <td>19:22:59</td>\\n      <td>18:30:36</td>\\n      <td>11.32</td>\\n    </tr>\\n    <tr>\\n      <td>2024-03-17</td>\\n      <td>18:17:29</td>\\n      <td>15:51:12</td>\\n      <td>9.97</td>\\n    </tr>\\n    <tr>\\n      <td>2024-03-18</td>\\n      <td>03:25:16</td>\\n      <td>07:26:55</td>\\n      <td>1.58</td>\\n    </tr>\\n    <tr>\\n      <td>2024-03-22</td>\\n      <td>20:21:05</td>\\n      <td>11:03:41</td>\\n      <td>7.9</td>\\n    </tr>\\n    <tr>\\n      <td>2024-03-27</td>\\n      <td>17:10:12</td>\\n      <td>04:02:09</td>\\n      <td>3.68</td>\\n    </tr>\\n    <tr>\\n      <td>2024-04-04</td>\\n      <td>01:28:32</td>\\n      <td>11:43:02</td>\\n      <td>10.74</td>\\n    </tr>\\n    <tr>\\n      <td>2024-04-06</td>\\n      <td>11:59:54</td>\\n      <td>09:07:53</td>\\n      <td>11.98</td>\\n    </tr>\\n    <tr>\\n      <td>2024-04-08</td>\\n      <td>09:11:50</td>\\n      <td>23:17:10</td>\\n      <td>2.18</td>\\n    </tr>\\n    <tr>\\n      <td>2024-04-10</td>\\n      <td>09:03:12</td>\\n      <td>16:19:40</td>\\n      <td>7.05</td>\\n    </tr>\\n    <tr>\\n      <td>2024-04-11</td>\\n      <td>13:15:51</td>\\n      <td>19:27:42</td>\\n      <td>4.64</td>\\n    </tr>\\n    <tr>\\n      <td>2024-04-18</td>\\n      <td>01:10:28</td>\\n      <td>03:36:37</td>\\n      <td>4.69</td>\\n    </tr>\\n    <tr>\\n      <td>2024-04-21</td>\\n      <td>21:15:03</td>\\n      <td>13:18:56</td>\\n      <td>5.37</td>\\n    </tr>\\n    <tr>\\n      <td>2024-04-26</td>\\n      <td>19:30:30</td>\\n      <td>15:45:05</td>\\n      <td>6.12</td>\\n    </tr>\\n    <tr>\\n      <td>2024-04-28</td>\\n      <td>03:25:29</td>\\n      <td>04:11:05</td>\\n      <td>4.48</td>\\n    </tr>\\n    <tr>\\n      <td>2024-04-29</td>\\n      <td>21:29:49</td>\\n      <td>07:22:25</td>\\n      <td>7.95</td>\\n    </tr>\\n    <tr>\\n      <td>2024-05-06</td>\\n      <td>00:25:41</td>\\n      <td>18:17:10</td>\\n      <td>11.28</td>\\n    </tr>\\n    <tr>\\n      <td>2024-05-10</td>\\n      <td>15:34:18</td>\\n      <td>13:09:03</td>\\n      <td>7.66</td>\\n    </tr>\\n    <tr>\\n      <td>2024-05-12</td>\\n      <td>09:12:20</td>\\n      <td>03:55:56</td>\\n      <td>9.93</td>\\n    </tr>\\n    <tr>\\n      <td>2024-05-21</td>\\n      <td>12:12:58</td>\\n      <td>12:32:26</td>\\n      <td>1.11</td>\\n    </tr>\\n    <tr>\\n      <td>2024-05-22</td>\\n      <td>21:58:48</td>\\n      <td>06:48:41</td>\\n      <td>6.91</td>\\n    </tr>\\n    <tr>\\n      <td>2024-05-23</td>\\n      <td>15:34:01</td>\\n      <td>19:49:05</td>\\n      <td>6.2</td>\\n    </tr>\\n    <tr>\\n      <td>2024-05-25</td>\\n      <td>22:32:30</td>\\n      <td>23:05:12</td>\\n      <td>4.62</td>\\n    </tr>\\n    <tr>\\n      <td>2024-05-26</td>\\n      <td>22:28:27</td>\\n      <td>23:22:42</td>\\n      <td>6.53</td>\\n    </tr>\\n    <tr>\\n      <td>2024-05-30</td>\\n      <td>06:37:51</td>\\n      <td>18:36:38</td>\\n      <td>6.97</td>\\n    </tr>\\n    <tr>\\n      <td>2024-05-31</td>\\n      <td>04:55:48</td>\\n      <td>00:59:08</td>\\n      <td>7.16</td>\\n    </tr>\\n    <tr>\\n      <td>2024-06-01</td>\\n      <td>04:16:47</td>\\n      <td>09:39:17</td>\\n      <td>4.37</td>\\n    </tr>\\n    <tr>\\n      <td>2024-06-02</td>\\n      <td>17:22:42</td>\\n      <td>15:40:51</td>\\n      <td>3.29</td>\\n    </tr>\\n    <tr>\\n      <td>2024-06-06</td>\\n      <td>19:25:00</td>\\n      <td>21:44:35</td>\\n      <td>10.96</td>\\n    </tr>\\n    <tr>\\n      <td>2024-06-07</td>\\n      <td>08:25:38</td>\\n      <td>08:04:11</td>\\n      <td>5.59</td>\\n    </tr>\\n    <tr>\\n      <td>2024-06-15</td>\\n      <td>16:55:19</td>\\n      <td>14:15:46</td>\\n      <td>4.68</td>\\n    </tr>\\n    <tr>\\n      <td>2024-06-17</td>\\n      <td>20:34:08</td>\\n      <td>02:24:04</td>\\n      <td>2.19</td>\\n    </tr>\\n    <tr>\\n      <td>2024-06-18</td>\\n      <td>00:58:32</td>\\n      <td>16:19:22</td>\\n      <td>1.42</td>\\n    </tr>\\n    <tr>\\n      <td>2024-06-20</td>\\n      <td>03:20:11</td>\\n      <td>13:31:43</td>\\n      <td>8.68</td>\\n    </tr>\\n    <tr>\\n      <td>2024-06-27</td>\\n      <td>18:56:39</td>\\n      <td>02:04:38</td>\\n      <td>4.46</td>\\n    </tr>\\n    <tr>\\n      <td>2024-06-28</td>\\n      <td>10:34:23</td>\\n      <td>16:39:46</td>\\n      <td>6.31</td>\\n    </tr>\\n    <tr>\\n      <td>2024-06-30</td>\\n      <td>18:49:49</td>\\n      <td>10:22:07</td>\\n      <td>5.4</td>\\n    </tr>\\n    <tr>\\n      <td>2024-07-01</td>\\n      <td>14:35:00</td>\\n      <td>07:30:28</td>\\n      <td>6.23</td>\\n    </tr>\\n    <tr>\\n      <td>2024-07-03</td>\\n      <td>14:44:48</td>\\n      <td>13:42:15</td>\\n      <td>11.72</td>\\n    </tr>\\n    <tr>\\n      <td>2024-07-04</td>\\n      <td>21:22:40</td>\\n      <td>05:03:36</td>\\n      <td>1.79</td>\\n    </tr>\\n    <tr>\\n      <td>2024-07-06</td>\\n      <td>01:14:14</td>\\n      <td>09:11:35</td>\\n      <td>6.92</td>\\n    </tr>\\n    <tr>\\n      <td>2024-07-08</td>\\n      <td>10:34:03</td>\\n      <td>05:38:47</td>\\n      <td>9.74</td>\\n    </tr>\\n    <tr>\\n      <td>2024-07-11</td>\\n      <td>05:28:39</td>\\n      <td>09:28:50</td>\\n      <td>5.34</td>\\n    </tr>\\n    <tr>\\n      <td>2024-07-12</td>\\n      <td>01:47:12</td>\\n      <td>18:48:39</td>\\n      <td>1.03</td>\\n    </tr>\\n    <tr>\\n      <td>2024-07-14</td>\\n      <td>13:02:32</td>\\n      <td>14:51:28</td>\\n      <td>7.68</td>\\n    </tr>\\n    <tr>\\n      <td>2024-07-16</td>\\n      <td>18:43:04</td>\\n      <td>15:48:54</td>\\n      <td>5.71</td>\\n    </tr>\\n    <tr>\\n      <td>2024-07-20</td>\\n      <td>07:55:34</td>\\n      <td>01:20:46</td>\\n      <td>8.99</td>\\n    </tr>\\n    <tr>\\n      <td>2024-07-24</td>\\n      <td>07:29:40</td>\\n      <td>19:21:39</td>\\n      <td>5.75</td>\\n    </tr>\\n    <tr>\\n      <td>2024-07-25</td>\\n      <td>12:18:13</td>\\n      <td>05:20:37</td>\\n      <td>8.27</td>\\n    </tr>\\n    <tr>\\n      <td>2024-07-27</td>\\n      <td>04:35:57</td>\\n      <td>06:19:36</td>\\n      <td>5.43</td>\\n    </tr>\\n    <tr>\\n      <td>2024-07-28</td>\\n      <td>12:13:50</td>\\n      <td>10:02:12</td>\\n      <td>8.81</td>\\n    </tr>\\n    <tr>\\n      <td>2024-07-31</td>\\n      <td>23:38:20</td>\\n      <td>10:20:46</td>\\n      <td>1.22</td>\\n    </tr>\\n    <tr>\\n      <td>2024-08-01</td>\\n      <td>10:36:13</td>\\n      <td>15:18:46</td>\\n      <td>4.98</td>\\n    </tr>\\n    <tr>\\n      <td>2024-08-02</td>\\n      <td>04:47:05</td>\\n      <td>03:30:06</td>\\n      <td>1.28</td>\\n    </tr>\\n    <tr>\\n      <td>2024-08-04</td>\\n      <td>23:39:45</td>\\n      <td>13:29:56</td>\\n      <td>8.85</td>\\n    </tr>\\n    <tr>\\n      <td>2024-08-05</td>\\n      <td>02:58:02</td>\\n      <td>05:51:33</td>\\n      <td>7.68</td>\\n    </tr>\\n    <tr>\\n      <td>2024-08-06</td>\\n      <td>00:09:28</td>\\n      <td>01:56:25</td>\\n      <td>5.78</td>\\n    </tr>\\n    <tr>\\n      <td>2024-08-08</td>\\n      <td>12:02:11</td>\\n      <td>18:05:22</td>\\n      <td>7.5</td>\\n    </tr>\\n    <tr>\\n      <td>2024-08-12</td>\\n      <td>21:11:09</td>\\n      <td>22:24:00</td>\\n      <td>11.57</td>\\n    </tr>\\n    <tr>\\n      <td>2024-08-14</td>\\n      <td>03:06:17</td>\\n      <td>15:15:37</td>\\n      <td>1.63</td>\\n    </tr>\\n    <tr>\\n      <td>2024-08-17</td>\\n      <td>02:37:08</td>\\n      <td>19:40:21</td>\\n      <td>6.8</td>\\n    </tr>\\n    <tr>\\n      <td>2024-08-20</td>\\n      <td>07:45:05</td>\\n      <td>16:08:20</td>\\n      <td>7.63</td>\\n    </tr>\\n    <tr>\\n      <td>2024-08-28</td>\\n      <td>16:06:45</td>\\n      <td>22:43:47</td>\\n      <td>11.2</td>\\n    </tr>\\n    <tr>\\n      <td>2024-09-01</td>\\n      <td>20:32:45</td>\\n      <td>00:17:11</td>\\n      <td>6.34</td>\\n    </tr>\\n    <tr>\\n      <td>2024-09-06</td>\\n      <td>09:46:11</td>\\n      <td>12:28:38</td>\\n      <td>8.61</td>\\n    </tr>\\n    <tr>\\n      <td>2024-09-10</td>\\n      <td>06:20:45</td>\\n      <td>09:45:37</td>\\n      <td>2.02</td>\\n    </tr>\\n    <tr>\\n      <td>2024-09-11</td>\\n      <td>18:18:49</td>\\n      <td>05:34:31</td>\\n      <td>11.81</td>\\n    </tr>\\n    <tr>\\n      <td>2024-09-15</td>\\n      <td>19:43:24</td>\\n      <td>09:14:26</td>\\n      <td>7.8</td>\\n    </tr>\\n    <tr>\\n      <td>2024-09-17</td>\\n      <td>12:03:45</td>\\n      <td>15:07:25</td>\\n      <td>11.06</td>\\n    </tr>\\n    <tr>\\n      <td>2024-09-18</td>\\n      <td>11:55:21</td>\\n      <td>17:58:00</td>\\n      <td>3.13</td>\\n    </tr>\\n    <tr>\\n      <td>2024-09-21</td>\\n      <td>05:43:08</td>\\n      <td>09:05:05</td>\\n      <td>3.52</td>\\n    </tr>\\n    <tr>\\n      <td>2024-09-22</td>\\n      <td>04:49:13</td>\\n      <td>09:49:00</td>\\n      <td>2.31</td>\\n    </tr>\\n    <tr>\\n      <td>2024-09-25</td>\\n      <td>06:05:37</td>\\n      <td>03:42:35</td>\\n      <td>11.55</td>\\n    </tr>\\n    <tr>\\n      <td>2024-09-26</td>\\n      <td>23:02:09</td>\\n      <td>13:31:47</td>\\n      <td>2.73</td>\\n    </tr>\\n    <tr>\\n      <td>2024-09-28</td>\\n      <td>08:00:54</td>\\n      <td>18:00:11</td>\\n      <td>7.97</td>\\n    </tr>\\n    <tr>\\n      <td>2024-10-01</td>\\n      <td>08:02:57</td>\\n      <td>08:50:16</td>\\n      <td>9.1</td>\\n    </tr>\\n    <tr>\\n      <td>2024-10-03</td>\\n      <td>02:20:29</td>\\n      <td>21:26:59</td>\\n      <td>7.01</td>\\n    </tr>\\n    <tr>\\n      <td>2024-10-05</td>\\n      <td>13:13:55</td>\\n      <td>18:34:51</td>\\n      <td>7.68</td>\\n    </tr>\\n    <tr>\\n      <td>2024-10-06</td>\\n      <td>23:58:31</td>\\n      <td>03:41:20</td>\\n      <td>8.13</td>\\n    </tr>\\n    <tr>\\n      <td>2024-10-11</td>\\n      <td>23:55:58</td>\\n      <td>18:51:43</td>\\n      <td>3.5</td>\\n    </tr>\\n    <tr>\\n      <td>2024-10-12</td>\\n      <td>22:58:08</td>\\n      <td>09:22:58</td>\\n      <td>1.7</td>\\n    </tr>\\n    <tr>\\n      <td>2024-10-15</td>\\n      <td>22:27:11</td>\\n      <td>01:54:49</td>\\n      <td>4.45</td>\\n    </tr>\\n    <tr>\\n      <td>2024-10-16</td>\\n      <td>05:47:50</td>\\n      <td>15:42:27</td>\\n      <td>3.89</td>\\n    </tr>\\n    <tr>\\n      <td>2024-10-25</td>\\n      <td>23:59:16</td>\\n      <td>10:54:33</td>\\n      <td>11.76</td>\\n    </tr>\\n    <tr>\\n      <td>2024-10-26</td>\\n      <td>00:32:06</td>\\n      <td>16:37:47</td>\\n      <td>6.93</td>\\n    </tr>\\n    <tr>\\n      <td>2024-10-27</td>\\n      <td>05:09:13</td>\\n      <td>19:40:32</td>\\n      <td>6.3</td>\\n    </tr>\\n    <tr>\\n      <td>2024-10-28</td>\\n      <td>12:08:19</td>\\n      <td>08:42:47</td>\\n      <td>1.28</td>\\n    </tr>\\n    <tr>\\n      <td>2024-10-31</td>\\n      <td>22:04:56</td>\\n      <td>07:12:15</td>\\n      <td>7.75</td>\\n    </tr>\\n    <tr>\\n      <td>2024-11-02</td>\\n      <td>02:59:57</td>\\n      <td>00:20:52</td>\\n      <td>10.65</td>\\n    </tr>\\n    <tr>\\n      <td>2024-11-03</td>\\n      <td>19:54:09</td>\\n      <td>10:35:50</td>\\n      <td>6.74</td>\\n    </tr>\\n    <tr>\\n      <td>2024-11-05</td>\\n      <td>02:43:20</td>\\n      <td>19:39:09</td>\\n      <td>1.54</td>\\n    </tr>\\n    <tr>\\n      <td>2024-11-06</td>\\n      <td>07:09:55</td>\\n      <td>06:21:49</td>\\n      <td>2.22</td>\\n    </tr>\\n    <tr>\\n      <td>2024-11-08</td>\\n      <td>07:08:16</td>\\n      <td>02:23:45</td>\\n      <td>2.46</td>\\n    </tr>\\n    <tr>\\n      <td>2024-11-10</td>\\n      <td>05:17:33</td>\\n      <td>07:57:49</td>\\n      <td>1.1</td>\\n    </tr>\\n    <tr>\\n      <td>2024-11-11</td>\\n      <td>01:08:46</td>\\n      <td>07:34:50</td>\\n      <td>3.58</td>\\n    </tr>\\n    <tr>\\n      <td>2024-11-13</td>\\n      <td>10:36:08</td>\\n      <td>12:32:34</td>\\n      <td>8.76</td>\\n    </tr>\\n    <tr>\\n      <td>2024-11-14</td>\\n      <td>22:31:29</td>\\n      <td>16:19:22</td>\\n      <td>3.51</td>\\n    </tr>\\n    <tr>\\n      <td>2024-11-15</td>\\n      <td>09:05:34</td>\\n      <td>12:53:47</td>\\n      <td>6.06</td>\\n    </tr>\\n    <tr>\\n      <td>2024-11-18</td>\\n      <td>01:41:42</td>\\n      <td>23:08:59</td>\\n      <td>3.64</td>\\n    </tr>\\n    <tr>\\n      <td>2024-11-20</td>\\n      <td>23:35:31</td>\\n      <td>00:29:15</td>\\n      <td>11.59</td>\\n    </tr>\\n    <tr>\\n      <td>2024-11-21</td>\\n      <td>00:20:25</td>\\n      <td>11:44:07</td>\\n      <td>1.33</td>\\n    </tr>\\n    <tr>\\n      <td>2024-11-30</td>\\n      <td>09:03:52</td>\\n      <td>09:43:13</td>\\n      <td>3.89</td>\\n    </tr>\\n    <tr>\\n      <td>2024-12-01</td>\\n      <td>03:09:41</td>\\n      <td>19:28:30</td>\\n      <td>11.08</td>\\n    </tr>\\n    <tr>\\n      <td>2024-12-02</td>\\n      <td>01:21:34</td>\\n      <td>14:22:18</td>\\n      <td>9.44</td>\\n    </tr>\\n    <tr>\\n      <td>2024-12-03</td>\\n      <td>16:45:15</td>\\n      <td>21:35:39</td>\\n      <td>4.79</td>\\n    </tr>\\n    <tr>\\n      <td>2024-12-05</td>\\n      <td>21:13:22</td>\\n      <td>23:46:09</td>\\n      <td>4.18</td>\\n    </tr>\\n    <tr>\\n      <td>2024-12-06</td>\\n      <td>22:53:33</td>\\n      <td>05:50:29</td>\\n      <td>3.66</td>\\n    </tr>\\n    <tr>\\n      <td>2024-12-07</td>\\n      <td>03:32:47</td>\\n      <td>12:28:35</td>\\n      <td>9.91</td>\\n    </tr>\\n    <tr>\\n      <td>2024-12-08</td>\\n      <td>13:52:49</td>\\n      <td>04:13:22</td>\\n      <td>1.13</td>\\n    </tr>\\n    <tr>\\n      <td>2024-12-10</td>\\n      <td>08:31:52</td>\\n      <td>05:21:54</td>\\n      <td>1.71</td>\\n    </tr>\\n    <tr>\\n      <td>2024-12-12</td>\\n      <td>07:16:45</td>\\n      <td>10:57:11</td>\\n      <td>5.64</td>\\n    </tr>\\n    <tr>\\n      <td>2024-12-15</td>\\n      <td>14:27:11</td>\\n      <td>20:14:59</td>\\n      <td>6.57</td>\\n    </tr>\\n    <tr>\\n      <td>2024-12-17</td>\\n      <td>22:54:54</td>\\n      <td>08:08:38</td>\\n      <td>3.12</td>\\n    </tr>\\n    <tr>\\n      <td>2024-12-20</td>\\n      <td>12:59:10</td>\\n      <td>13:09:27</td>\\n      <td>10.46</td>\\n    </tr>\\n    <tr>\\n      <td>2024-12-21</td>\\n      <td>18:45:13</td>\\n      <td>19:10:58</td>\\n      <td>7.51</td>\\n    </tr>\\n    <tr>\\n      <td>2024-12-22</td>\\n      <td>16:04:14</td>\\n      <td>12:23:42</td>\\n      <td>1.85</td>\\n    </tr>\\n    <tr>\\n      <td>2024-12-24</td>\\n      <td>17:57:51</td>\\n      <td>05:09:11</td>\\n      <td>9.85</td>\\n    </tr>\\n    <tr>\\n      <td>2024-12-27</td>\\n      <td>06:41:41</td>\\n      <td>08:38:28</td>\\n      <td>7.46</td>\\n    </tr>\\n    <tr>\\n      <td>2024-12-28</td>\\n      <td>06:28:45</td>\\n      <td>14:22:31</td>\\n      <td>9.27</td>\\n    </tr>\\n    <tr>\\n      <td>2024-12-30</td>\\n      <td>09:59:11</td>\\n      <td>02:17:44</td>\\n      <td>9.38</td>\\n    </tr>\\n    <tr>\\n      <td>2025-01-01</td>\\n      <td>00:21:14</td>\\n      <td>09:15:40</td>\\n      <td>3.24</td>\\n    </tr>\\n    <tr>\\n      <td>2025-01-03</td>\\n      <td>23:53:53</td>\\n      <td>01:48:33</td>\\n      <td>2</td>\\n    </tr>\\n    <tr>\\n      <td>2025-01-05</td>\\n      <td>23:36:09</td>\\n      <td>16:21:55</td>\\n      <td>1.76</td>\\n    </tr>\\n    <tr>\\n      <td>2025-01-09</td>\\n      <td>15:41:09</td>\\n      <td>04:34:51</td>\\n      <td>7.37</td>\\n    </tr>\\n    <tr>\\n      <td>2025-01-13</td>\\n      <td>06:20:29</td>\\n      <td>14:21:51</td>\\n      <td>9.03</td>\\n    </tr>\\n    <tr>\\n      <td>2025-01-14</td>\\n      <td>04:49:03</td>\\n      <td>03:53:44</td>\\n      <td>7.81</td>\\n    </tr>\\n    <tr>\\n      <td>2025-01-16</td>\\n      <td>02:39:54</td>\\n      <td>21:16:25</td>\\n      <td>9.56</td>\\n    </tr>\\n    <tr>\\n      <td>2025-01-20</td>\\n      <td>02:40:33</td>\\n      <td>21:22:37</td>\\n      <td>9.4</td>\\n    </tr>\\n    <tr>\\n      <td>2025-01-25</td>\\n      <td>10:56:55</td>\\n      <td>22:17:19</td>\\n      <td>4.43</td>\\n    </tr>\\n    <tr>\\n      <td>2025-01-26</td>\\n      <td>11:36:58</td>\\n      <td>13:36:35</td>\\n      <td>8.23</td>\\n    </tr>\\n    <tr>\\n      <td>2025-01-28</td>\\n      <td>10:17:33</td>\\n      <td>10:52:41</td>\\n      <td>9.66</td>\\n    </tr>\\n    <tr>\\n      <td>2025-01-30</td>\\n      <td>06:34:07</td>\\n      <td>19:49:40</td>\\n      <td>1.58</td>\\n    </tr>\\n    <tr>\\n      <td>2025-02-02</td>\\n      <td>22:29:29</td>\\n      <td>06:17:29</td>\\n      <td>1.68</td>\\n    </tr>\\n    <tr>\\n      <td>2025-02-03</td>\\n      <td>11:51:38</td>\\n      <td>14:38:33</td>\\n      <td>3.41</td>\\n    </tr>\\n    <tr>\\n      <td>2025-02-04</td>\\n      <td>00:22:56</td>\\n      <td>04:12:08</td>\\n      <td>11.27</td>\\n    </tr>\\n    <tr>\\n      <td>2025-02-06</td>\\n      <td>04:53:38</td>\\n      <td>04:37:56</td>\\n      <td>4.83</td>\\n    </tr>\\n    <tr>\\n      <td>2025-02-07</td>\\n      <td>18:19:30</td>\\n      <td>05:25:06</td>\\n      <td>1.17</td>\\n    </tr>\\n    <tr>\\n      <td>2025-02-08</td>\\n      <td>14:41:39</td>\\n      <td>10:02:02</td>\\n      <td>7.04</td>\\n    </tr>\\n    <tr>\\n      <td>2025-02-09</td>\\n      <td>21:10:46</td>\\n      <td>09:07:19</td>\\n      <td>9.5</td>\\n    </tr>\\n    <tr>\\n      <td>2025-02-11</td>\\n      <td>15:12:57</td>\\n      <td>01:33:18</td>\\n      <td>7.86</td>\\n    </tr>\\n    <tr>\\n      <td>2025-02-13</td>\\n      <td>00:30:09</td>\\n      <td>06:58:21</td>\\n      <td>4.23</td>\\n    </tr>\\n    <tr>\\n      <td>2025-02-16</td>\\n      <td>22:38:29</td>\\n      <td>07:40:07</td>\\n      <td>2.84</td>\\n    </tr>\\n    <tr>\\n      <td>2025-02-17</td>\\n      <td>08:38:15</td>\\n      <td>10:10:55</td>\\n      <td>5.05</td>\\n    </tr>\\n    <tr>\\n      <td>2025-02-19</td>\\n      <td>12:03:37</td>\\n      <td>14:36:18</td>\\n      <td>2.5</td>\\n    </tr>\\n    <tr>\\n      <td>2025-02-21</td>\\n      <td>02:28:15</td>\\n      <td>08:44:57</td>\\n      <td>8.99</td>\\n    </tr>\\n    <tr>\\n      <td>2025-02-22</td>\\n      <td>12:23:11</td>\\n      <td>06:16:55</td>\\n      <td>10.18</td>\\n    </tr>\\n    <tr>\\n      <td>2025-02-23</td>\\n      <td>13:04:32</td>\\n      <td>22:46:50</td>\\n      <td>6.78</td>\\n    </tr>\\n    <tr>\\n      <td>2025-02-25</td>\\n      <td>19:45:49</td>\\n      <td>21:23:07</td>\\n      <td>9.36</td>\\n    </tr>\\n    <tr>\\n      <td>2025-02-27</td>\\n      <td>07:25:24</td>\\n      <td>11:27:27</td>\\n      <td>6.01</td>\\n    </tr>\\n    <tr>\\n      <td>2025-03-01</td>\\n      <td>18:36:05</td>\\n      <td>01:44:44</td>\\n      <td>4.25</td>\\n    </tr>\\n    <tr>\\n      <td>2025-03-04</td>\\n      <td>13:41:54</td>\\n      <td>21:44:37</td>\\n      <td>10.71</td>\\n    </tr>\\n    <tr>\\n      <td>2025-03-11</td>\\n      <td>19:51:43</td>\\n      <td>19:34:38</td>\\n      <td>1.01</td>\\n    </tr>\\n    <tr>\\n      <td>2025-03-13</td>\\n      <td>13:10:58</td>\\n      <td>09:23:50</td>\\n      <td>7.07</td>\\n    </tr>\\n    <tr>\\n      <td>2025-03-15</td>\\n      <td>21:46:21</td>\\n      <td>02:23:37</td>\\n      <td>7.44</td>\\n    </tr>\\n    <tr>\\n      <td>2025-03-16</td>\\n      <td>17:37:13</td>\\n      <td>08:40:01</td>\\n      <td>6.91</td>\\n    </tr>\\n    <tr>\\n      <td>2025-03-18</td>\\n      <td>07:11:34</td>\\n      <td>03:50:24</td>\\n      <td>5.72</td>\\n    </tr>\\n    <tr>\\n      <td>2025-03-19</td>\\n      <td>16:24:17</td>\\n      <td>19:52:29</td>\\n      <td>9.25</td>\\n    </tr>\\n    <tr>\\n      <td>2025-03-20</td>\\n      <td>11:39:38</td>\\n      <td>13:43:40</td>\\n      <td>9.43</td>\\n    </tr>\\n    <tr>\\n      <td>2025-03-22</td>\\n      <td>07:17:39</td>\\n      <td>03:45:28</td>\\n      <td>2.52</td>\\n    </tr>\\n    <tr>\\n      <td>2025-03-25</td>\\n      <td>17:07:19</td>\\n      <td>04:09:06</td>\\n      <td>4.07</td>\\n    </tr>\\n    <tr>\\n      <td>2025-03-27</td>\\n      <td>23:39:25</td>\\n      <td>21:00:04</td>\\n      <td>2.7</td>\\n    </tr>\\n    <tr>\\n      <td>2025-03-28</td>\\n      <td>15:39:19</td>\\n      <td>21:36:19</td>\\n      <td>8.01</td>\\n    </tr>\\n    <tr>\\n      <td>2025-03-30</td>\\n      <td>11:49:52</td>\\n      <td>12:59:58</td>\\n      <td>11.65</td>\\n    </tr>\\n    <tr>\\n      <td>2025-04-03</td>\\n      <td>04:04:36</td>\\n      <td>15:28:06</td>\\n      <td>6.32</td>\\n    </tr>\\n    <tr>\\n      <td>2025-04-06</td>\\n      <td>00:57:18</td>\\n      <td>08:24:43</td>\\n      <td>6.22</td>\\n    </tr>\\n    <tr>\\n      <td>2025-04-07</td>\\n      <td>23:44:04</td>\\n      <td>02:38:14</td>\\n      <td>5.02</td>\\n    </tr>\\n    <tr>\\n      <td>2025-04-09</td>\\n      <td>22:28:03</td>\\n      <td>08:42:13</td>\\n      <td>7.29</td>\\n    </tr>\\n    <tr>\\n      <td>2025-04-10</td>\\n      <td>19:48:51</td>\\n      <td>11:19:41</td>\\n      <td>6.99</td>\\n    </tr>\\n    <tr>\\n      <td>2025-04-13</td>\\n      <td>04:53:09</td>\\n      <td>00:05:12</td>\\n      <td>3.67</td>\\n    </tr>\\n    <tr>\\n      <td>2025-04-16</td>\\n      <td>05:41:02</td>\\n      <td>18:29:22</td>\\n      <td>8.38</td>\\n    </tr>\\n    <tr>\\n      <td>2025-04-18</td>\\n      <td>11:45:14</td>\\n      <td>05:05:08</td>\\n      <td>1.56</td>\\n    </tr>\\n    <tr>\\n      <td>2025-04-19</td>\\n      <td>18:55:56</td>\\n      <td>13:12:04</td>\\n      <td>6.11</td>\\n    </tr>\\n    <tr>\\n      <td>2025-04-20</td>\\n      <td>02:27:26</td>\\n      <td>09:38:08</td>\\n      <td>9.58</td>\\n    </tr>\\n    <tr>\\n      <td>2025-04-23</td>\\n      <td>10:52:27</td>\\n      <td>22:09:10</td>\\n      <td>4.75</td>\\n    </tr>\\n    <tr>\\n      <td>2025-04-24</td>\\n      <td>22:57:38</td>\\n      <td>04:29:02</td>\\n      <td>10.14</td>\\n    </tr>\\n    <tr>\\n      <td>2025-04-26</td>\\n      <td>15:46:07</td>\\n      <td>06:53:15</td>\\n      <td>4.6</td>\\n    </tr>\\n    <tr>\\n      <td>2025-04-30</td>\\n      <td>05:35:05</td>\\n      <td>17:43:22</td>\\n      <td>1.33</td>\\n    </tr>\\n    <tr>\\n      <td>2025-05-01</td>\\n      <td>22:54:16</td>\\n      <td>18:41:23</td>\\n      <td>1.59</td>\\n    </tr>\\n    <tr>\\n      <td>2025-05-04</td>\\n      <td>15:20:39</td>\\n      <td>13:39:31</td>\\n      <td>4.81</td>\\n    </tr>\\n    <tr>\\n      <td>2025-05-09</td>\\n      <td>00:29:34</td>\\n      <td>04:48:04</td>\\n      <td>4.76</td>\\n    </tr>\\n  </tbody>\\n</table>',\n",
       " 'category': 'Table',\n",
       " 'start_index': -1}"
      ]
     },
     "execution_count": 41,
     "metadata": {},
     "output_type": "execute_result"
    }
   ],
   "source": [
    "chunked_docs[2].metadata\n"
   ]
  },
  {
   "cell_type": "code",
   "execution_count": 42,
   "id": "d1d34cbd",
   "metadata": {},
   "outputs": [
    {
     "data": {
      "text/plain": [
       "49"
      ]
     },
     "execution_count": 42,
     "metadata": {},
     "output_type": "execute_result"
    }
   ],
   "source": [
    "len(chunked_docs)"
   ]
  },
  {
   "cell_type": "code",
   "execution_count": null,
   "id": "7e15af78",
   "metadata": {},
   "outputs": [],
   "source": []
  },
  {
   "cell_type": "markdown",
   "id": "1407fff8",
   "metadata": {},
   "source": [
    "### Vector DB"
   ]
  },
  {
   "cell_type": "code",
   "execution_count": 43,
   "id": "267ec3d3",
   "metadata": {},
   "outputs": [],
   "source": [
    "from langchain_openai import OpenAIEmbeddings\n",
    "from langchain_openai import AzureOpenAIEmbeddings"
   ]
  },
  {
   "cell_type": "code",
   "execution_count": 44,
   "id": "986bcb28",
   "metadata": {},
   "outputs": [],
   "source": [
    "persist_directory = \"./vector_db\"\n",
    "collection_name = \"algo_aces\"\n",
    "# embedding_model = OpenAIEmbeddings(model=\"text-embedding-ada-002\")\n",
    "embedding_model = AzureOpenAIEmbeddings(model=st.secrets[\"AZURE_OPENAI_EMBEDDING_MODEL\"])"
   ]
  },
  {
   "cell_type": "code",
   "execution_count": 45,
   "id": "1dfca3e5",
   "metadata": {},
   "outputs": [],
   "source": [
    "db = get_vector_db(persist_directory = persist_directory, \n",
    "                    embedding_function = embedding_model,\n",
    "                    collection_name = collection_name)"
   ]
  },
  {
   "cell_type": "code",
   "execution_count": 46,
   "id": "592df1f9",
   "metadata": {},
   "outputs": [],
   "source": [
    "documents = create_document_list(chunked_docs)"
   ]
  },
  {
   "cell_type": "code",
   "execution_count": 47,
   "id": "d2ffb086",
   "metadata": {},
   "outputs": [],
   "source": [
    "# documents"
   ]
  },
  {
   "cell_type": "code",
   "execution_count": 48,
   "id": "850e76f9",
   "metadata": {},
   "outputs": [
    {
     "data": {
      "text/plain": [
       "<langchain_chroma.vectorstores.Chroma at 0x31ce8e050>"
      ]
     },
     "execution_count": 48,
     "metadata": {},
     "output_type": "execute_result"
    }
   ],
   "source": [
    "add_documents_to_vector_db(db, documents)"
   ]
  },
  {
   "cell_type": "code",
   "execution_count": null,
   "id": "c43ec7ad",
   "metadata": {},
   "outputs": [],
   "source": []
  },
  {
   "cell_type": "markdown",
   "id": "6c3ced0a",
   "metadata": {},
   "source": [
    "### Retrievar"
   ]
  },
  {
   "cell_type": "code",
   "execution_count": 50,
   "id": "a3b44e75",
   "metadata": {},
   "outputs": [],
   "source": [
    "query = \"What was the average elapsed time for the “Monthly Sales” report in 2021?\""
   ]
  },
  {
   "cell_type": "code",
   "execution_count": 58,
   "id": "f8ac32f8",
   "metadata": {},
   "outputs": [],
   "source": [
    "def load_docs_pickle(path=\"./data/chunked_rows.pkl\"):\n",
    "    with open(path, \"rb\") as f:\n",
    "        return pickle.load(f)\n",
    "chunked_docs = load_docs_pickle()"
   ]
  },
  {
   "cell_type": "code",
   "execution_count": null,
   "id": "b6466cff",
   "metadata": {},
   "outputs": [],
   "source": [
    "db = get_vector_db_from_persist_directory(persist_directory = persist_directory, embedding_function = embedding_model, collection_name = collection_name)"
   ]
  },
  {
   "cell_type": "code",
   "execution_count": 51,
   "id": "8bcc5909",
   "metadata": {},
   "outputs": [],
   "source": [
    "retrieved_docs, sources = ensemble_retriever(chunked_docs, vector_db = db, query = query, top_k=3)"
   ]
  },
  {
   "cell_type": "code",
   "execution_count": 52,
   "id": "4455d4b8",
   "metadata": {},
   "outputs": [],
   "source": [
    "context = get_context(retrieved_docs)"
   ]
  },
  {
   "cell_type": "code",
   "execution_count": 53,
   "id": "dce66cc1",
   "metadata": {},
   "outputs": [
    {
     "data": {
      "text/plain": [
       "['1501\\nFinance\\n311\\n245052\\nCompany B\\nMonthly Sales\\n2022-09\\nWeekly\\n13:54:28\\n18:11:11\\n8.12\\n\\n\\n2999\\nFinance\\n686\\n343463\\nCompany C\\nMonthly Sales\\n2023-02\\nWeekly\\n17:49:11\\n22:09:57\\n9.72\\n\\n\\n8024\\nMarketing\\n848\\n104184\\nCompany B\\nQuarterly Financial\\n2023-08\\nWeekly\\n07:19:51\\n08:14:16\\n19.23\\n\\n\\n4239\\nSales\\n437\\n219205\\nCompany B\\nMarketing Analysis\\n2023-09\\nMonthly\\n06:30:07\\n10:29:19\\n17.26\\n\\n\\n8757\\nMarketing\\n598\\n169084\\nCompany B\\nMonthly Sales\\n2024-03\\nDaily\\n21:31:28\\n18:37:52\\n9.37\\n\\n\\n7416\\nSales\\n742\\n967569\\nCompany B\\nMarketing Analysis\\n2025-01\\nMonthly\\n07:54:12\\n23:11:35\\n10.01\\n\\n\\n5994\\nMarketing\\n712\\n924788\\nCompany C\\nMarketing Analysis\\n2023-06\\nWeekly\\n19:59:19\\n03:02:58\\n15.17\\n\\n\\n1245\\nSales\\n764\\n913107\\nCompany A\\nMonthly Sales\\n2025-02\\nDaily\\n00:57:09\\n00:24:27\\n19.44\\n\\n\\n4338\\nSales\\n655\\n978680\\nCompany C\\nQuarterly Financial\\n2023-08\\nDaily\\n01:29:23\\n06:30:04\\n10.89\\n\\n\\n3951\\nMarketing\\n482\\n415919\\nCompany A\\nQuarterly Financial\\n2022-12\\nDaily\\n19:02:59\\n13:47:38\\n12.65',\n",
       " '18:33:54\\n5.19\\n2025-01-01\\n17:43:42\\n10:42:03\\n9.19\\n2025-01-03\\n19:10:46\\n16:23:30\\n4.34\\n2025-01-04\\n21:25:13\\n13:52:01\\n7.4\\n2025-01-05\\n11:45:28\\n19:31:31\\n6.73\\n2025-01-06\\n02:01:07\\n00:34:42\\n5.11\\n2025-01-08\\n14:51:13\\n12:11:40\\n6.09\\n2025-01-09\\n05:22:45\\n16:36:28\\n10.76\\n2025-01-10\\n21:40:59\\n20:43:53\\n3.54\\n2025-01-12\\n12:31:18\\n17:20:50\\n1.42\\n2025-01-14\\n07:48:48\\n09:20:57\\n7.93\\n2025-01-16\\n06:03:46\\n05:44:59\\n10.41\\n2025-01-19\\n06:01:19\\n13:32:37\\n11.08\\n2025-01-20\\n07:36:58\\n03:59:00\\n8.78\\n2025-01-21\\n09:36:14\\n06:57:09\\n11.23\\n2025-01-23\\n16:28:29\\n02:53:03\\n10.92\\n2025-01-24\\n13:12:56\\n02:23:50\\n9.62\\n2025-01-29\\n19:00:30\\n03:19:25\\n3.68\\n2025-02-02\\n07:32:57\\n22:30:39\\n9.96\\n2025-02-05\\n20:28:22\\n03:51:41\\n2.31\\n2025-02-10\\n14:56:29\\n23:16:53\\n6.64\\n2025-02-11\\n13:18:06\\n13:51:33\\n9.68\\n2025-02-12\\n15:02:39\\n04:40:30\\n2.96\\n2025-02-13\\n20:35:31\\n17:24:41\\n8.44\\n2025-02-18\\n19:51:51\\n02:11:16\\n4.31\\n2025-02-19\\n02:03:08\\n20:05:36\\n9.91\\n2025-02-21\\n08:34:53\\n16:38:07\\n3.69\\n2025-02-22\\n10:14:17\\n05:10:36\\n4.93\\n2025-02-23\\n19:09:07\\n12:52:00\\n11.98\\n2025-02-25\\n18:26:50\\n05:58:27\\n6.51\\n2025-02-26\\n13:37:47\\n00:29:58\\n2.37\\n2025-03-01\\n11:00:45\\n15:53:35\\n2.03\\n2025-03-02\\n23:59:29\\n06:36:38\\n2.39\\n2025-03-04\\n08:25:52\\n13:22:08\\n3.23\\n2025-03-08\\n16:36:02\\n19:32:25\\n10.35\\n2025-03-09\\n20:58:20\\n21:42:17\\n3.17\\n2025-03-10\\n23:27:54\\n21:24:24\\n7.53\\n2025-03-11\\n14:54:21\\n02:25:03\\n4.06\\n2025-03-13\\n06:17:45\\n16:42:00\\n10.49\\n2025-03-14\\n19:47:23\\n03:25:39\\n3.33\\n2025-03-16\\n14:01:08\\n09:30:43\\n8.29\\n2025-03-17\\n21:29:02\\n16:40:00\\n7.41\\n2025-03-18\\n23:56:32\\n13:25:52\\n8.99\\n2025-03-19\\n02:39:20\\n06:34:43\\n6.32\\n2025-03-22\\n21:55:53\\n05:49:20\\n10.77\\n2025-03-25\\n13:11:29\\n15:50:52\\n5.81\\n2025-03-26\\n04:51:22\\n20:09:55\\n6.8\\n2025-03-27\\n01:41:59\\n18:03:26\\n7.57\\n2025-03-28\\n11:48:23\\n12:43:22\\n10.88\\n2025-03-30\\n14:33:50\\n03:47:35\\n11.36\\n2025-03-31\\n14:45:45\\n23:45:46\\n1.32\\n2025-04-05\\n09:47:56\\n02:17:49\\n3.43\\n2025-04-09\\n06:46:10\\n17:45:36\\n10.3\\n2025-04-11\\n21:28:43\\n05:35:33\\n7.57\\n2025-04-16\\n07:27:18\\n18:22:56\\n10.61\\n2025-04-24\\n14:02:47\\n09:57:52\\n7.1\\n2025-04-26\\n17:01:11\\n10:16:13\\n5.97\\n2025-04-28\\n21:42:10\\n09:11:57\\n9.78\\n2025-04-29\\n06:04:15\\n04:41:16\\n1.53\\n2025-04-30\\n17:18:53\\n14:38:52\\n8.46\\n2025-05-02\\n03:36:55\\n03:12:44\\n8.04\\n2025-05-06\\n01:42:20\\n22:06:27\\n7.31',\n",
       " 'Finance\\n526\\n730654\\nCompany C\\nMonthly Sales\\n2023-08\\nMonthly\\n08:28:20\\n01:02:35\\n23.27\\n5959\\nMarketing\\n859\\n223326\\nCompany A\\nMarketing Analysis\\n2022-10\\nMonthly\\n18:10:11\\n15:39:40\\n4.48\\n5154\\nMarketing\\n329\\n115917\\nCompany A\\nMarketing Analysis\\n2024-09\\nMonthly\\n13:26:33\\n07:00:48\\n1.13\\n6460\\nMarketing\\n363\\n736361\\nCompany A\\nMarketing Analysis\\n2024-06\\nMonthly\\n04:09:50\\n19:56:00\\n8.85\\n9690\\nMarketing\\n359\\n975206\\nCompany B\\nMarketing Analysis\\n2023-10\\nMonthly\\n19:29:22\\n10:57:52\\n1.26\\n3881\\nMarketing\\n168\\n590262\\nCompany A\\nQuarterly Financial\\n2023-10\\nMonthly\\n01:02:48\\n23:00:13\\n23.49\\n8364\\nSales\\n883\\n105534\\nCompany C\\nQuarterly Financial\\n2023-08\\nMonthly\\n01:21:24\\n18:31:35\\n18.27\\n8711\\nMarketing\\n116\\n419530\\nCompany A\\nMarketing Analysis\\n2022-05\\nDaily\\n18:32:52\\n22:45:19\\n17.97\\n2093\\nSales\\n209\\n938825\\nCompany C\\nMonthly Sales\\n2024-03\\nMonthly\\n04:14:37\\n08:06:13\\n18.12\\n7471\\nFinance\\n185\\n980584\\nCompany A\\nMarketing Analysis\\n2023-05\\nWeekly\\n08:03:06\\n13:51:17\\n20.55\\n7161\\nMarketing\\n410\\n617342\\nCompany A\\nQuarterly Financial\\n2024-04\\nWeekly\\n13:43:42\\n12:59:42\\n17.22\\n6173\\nSales\\n640\\n140321\\nCompany B\\nMonthly Sales\\n2023-12\\nMonthly\\n00:43:39\\n13:52:19\\n2.09\\n8115\\nMarketing\\n417\\n450742\\nCompany A\\nMonthly Sales\\n2023-02\\nMonthly\\n05:14:10\\n02:06:51\\n21.86\\n5253\\nMarketing\\n520\\n483206\\nCompany C\\nMonthly Sales\\n2024-11\\nWeekly\\n14:47:24\\n03:32:56\\n14.68\\n9699\\nSales\\n806\\n460668\\nCompany B\\nMonthly Sales\\n2023-10\\nDaily\\n04:07:30\\n15:32:59\\n6.05\\n6796\\nFinance\\n581\\n862091\\nCompany A\\nMonthly Sales\\n2024-12\\nMonthly\\n16:18:17\\n02:34:53\\n22.24\\n7808\\nFinance\\n448\\n822326\\nCompany C\\nMonthly Sales\\n2022-10\\nDaily\\n23:32:10\\n03:26:00\\n14.94\\n7692\\nSales\\n598\\n311104\\nCompany A\\nQuarterly Financial\\n2024-06\\nDaily\\n19:09:32\\n08:57:16\\n16.82\\n5296\\nMarketing\\n237\\n923858\\nCompany B\\nMonthly Sales\\n2024-01\\nDaily\\n00:15:37\\n20:41:04\\n9.81\\n4340\\nMarketing\\n945\\n714927\\nCompany C\\nMonthly Sales\\n2022-07\\nMonthly\\n01:36:46\\n14:37:08\\n6.43\\n1186\\nMarketing\\n307\\n198411\\nCompany B\\nMarketing Analysis\\n2024-04\\nMonthly\\n15:12:28\\n09:40:25\\n5.43\\n7239\\nSales\\n908\\n863650\\nCompany C\\nMarketing Analysis\\n2024-09\\nMonthly\\n11:10:12\\n10:33:25\\n17.42\\n3392\\nMarketing\\n525\\n156349\\nCompany B\\nQuarterly Financial\\n2024-07\\nMonthly\\n10:04:31\\n02:16:06\\n2.99\\n2293\\nMarketing\\n935\\n406944\\nCompany B\\nMonthly Sales\\n2025-03\\nMonthly\\n12:56:34\\n17:02:57\\n1.25\\n1774\\nMarketing\\n873\\n699646\\nCompany A\\nMarketing Analysis\\n2025-04\\nDaily\\n07:05:53\\n02:51:06\\n16.46\\n2534\\nSales\\n114\\n346447\\nCompany C\\nMonthly Sales\\n2022-09\\nDaily\\n10:42:51\\n16:44:49\\n13.79\\n9534\\nSales\\n655\\n611372\\nCompany C\\nMarketing Analysis\\n2023-05\\nDaily\\n14:50:50\\n11:23:37\\n2.22\\n5412\\nSales\\n241\\n711702\\nCompany B\\nMonthly Sales\\n2022-07\\nWeekly\\n05:05:32\\n07:54:38\\n4.71\\n3957\\nSales\\n149\\n520026\\nCompany B\\nMarketing Analysis\\n2024-09\\nDaily\\n09:37:10\\n09:54:14\\n3.25\\n9712\\nFinance\\n111\\n176157\\nCompany A\\nMonthly Sales\\n2024-08\\nMonthly\\n16:17:53\\n00:05:39\\n11.48\\n9901\\nMarketing\\n734\\n721474\\nCompany B\\nMonthly Sales\\n2024-05\\nDaily\\n15:09:59\\n04:54:11\\n17.84\\n1584\\nMarketing\\n374\\n124477\\nCompany A\\nQuarterly Financial\\n2023-05\\nWeekly\\n15:18:44\\n22:14:36\\n4.34\\n7799\\nSales\\n329\\n728008\\nCompany B\\nQuarterly Financial\\n2022-10\\nDaily\\n09:30:22\\n17:46:05\\n20.87\\n1949\\nSales\\n692\\n602108\\nCompany C\\nMonthly Sales\\n2022-07\\nMonthly\\n02:45:58\\n01:16:27\\n7.32\\n2965\\nMarketing\\n257\\n565864\\nCompany C\\nQuarterly Financial\\n2022-10\\nMonthly\\n16:09:07\\n17:26:59\\n2.9\\n3076\\nSales\\n331\\n186607\\nCompany B\\nMonthly Sales\\n2022-11\\nDaily\\n23:04:18\\n12:57:14\\n2.83\\n4385\\nFinance\\n183\\n941786\\nCompany C\\nMarketing Analysis\\n2023-05\\nMonthly\\n22:42:00\\n10:41:04\\n22.56\\n6581\\nMarketing\\n864\\n988104\\nCompany B\\nMonthly Sales\\n2022-11\\nMonthly\\n04:03:56\\n01:14:01\\n3.66\\n7971\\nSales\\n601\\n650857\\nCompany B\\nMarketing Analysis\\n2025-01\\nDaily\\n05:31:47\\n06:39:53\\n13.01\\n1820\\nFinance\\n677\\n444263\\nCompany B\\nMarketing Analysis\\n2023-07\\nWeekly\\n04:56:21\\n01:50:13\\n4.74\\n7369\\nFinance\\n601\\n184162\\nCompany C\\nQuarterly Financial\\n2025-02\\nDaily\\n11:34:55\\n06:55:51\\n21.55\\n1346\\nMarketing\\n600\\n991677\\nCompany C\\nMonthly Sales\\n2023-02\\nDaily\\n03:40:05\\n14:46:17\\n2.4\\n2260\\nFinance\\n530\\n847963\\nCompany C\\nMarketing Analysis\\n2023-12\\nMonthly\\n12:24:27\\n00:01:41\\n23.79\\n1538\\nMarketing\\n619\\n206692\\nCompany A\\nMonthly Sales\\n2025-03\\nMonthly\\n21:37:48\\n16:34:56\\n20.37\\n7050\\nMarketing\\n484\\n199386\\nCompany B\\nQuarterly Financial\\n2024-11\\nMonthly\\n13:15:54\\n11:54:16\\n20.62\\n6946\\nSales\\n342\\n270742\\nCompany B\\nMarketing Analysis\\n2023-08\\nWeekly\\n00:36:50\\n20:54:57\\n19.78\\n2644\\nFinance\\n762\\n526067\\nCompany B\\nQuarterly Financial\\n2025-04\\nMonthly\\n22:50:05\\n17:42:11\\n10.17\\n9751\\nSales\\n249\\n825771\\nCompany A\\nMonthly Sales\\n2023-04\\nWeekly\\n22:30:25\\n01:07:31\\n3.16\\n4493\\nMarketing\\n559\\n900573\\nCompany A\\nQuarterly Financial\\n2023-03\\nWeekly\\n01:51:40\\n15:07:19\\n7.31\\n7001\\nFinance\\n599\\n246694\\nCompany A\\nMarketing Analysis\\n2024-01\\nWeekly\\n21:51:18\\n01:06:03\\n10.23\\n2242\\nSales\\n787\\n631402\\nCompany B\\nQuarterly Financial\\n2023-01\\nMonthly\\n12:29:14\\n17:55:05\\n10.46\\n6836\\nMarketing\\n423\\n748060\\nCompany B\\nMonthly Sales\\n2024-06\\nWeekly\\n09:22:24\\n07:43:08\\n15.13\\n5021\\nSales\\n319\\n778089\\nCompany A\\nMonthly Sales\\n2023-07\\nWeekly\\n03:27:56\\n21:20:44\\n1.44\\n5514\\nFinance\\n164\\n792969\\nCompany B\\nMonthly Sales\\n2022-11\\nWeekly\\n13:33:28\\n21:26:03\\n17.62\\n1006\\nMarketing\\n750\\n498030\\nCompany B\\nMarketing Analysis\\n2023-04\\nWeekly\\n05:36:21\\n02:13:59\\n16.56\\n2326\\nFinance\\n364\\n110385\\nCompany B\\nQuarterly Financial',\n",
       " 'Company B\\nMonthly Sales\\n2022-09\\nDaily\\n18:35:38\\n14:11:53\\n14.97\\n8629\\nFinance\\n505\\n473449\\nCompany B\\nMonthly Sales\\n2024-09\\nMonthly\\n11:20:51\\n14:32:18\\n10.98\\n2235\\nMarketing\\n390\\n341262\\nCompany A\\nMonthly Sales\\n2024-05\\nWeekly\\n23:09:59\\n01:58:37\\n18.14\\n7955\\nMarketing\\n625\\n397637\\nCompany B\\nMarketing Analysis\\n2024-06\\nMonthly\\n14:46:16\\n16:20:10\\n9.99\\n3194\\nFinance\\n378\\n391736\\nCompany C\\nMarketing Analysis\\n2023-09\\nDaily\\n05:48:51\\n13:07:59\\n5.62\\n3949\\nMarketing\\n982\\n243666\\nCompany A\\nQuarterly Financial\\n2024-02\\nWeekly\\n16:59:17\\n03:02:16\\n17.69\\n7016\\nMarketing\\n229\\n320018\\nCompany C\\nMarketing Analysis\\n2024-04\\nMonthly\\n06:17:24\\n06:30:36\\n20.51\\n4987\\nSales\\n146\\n749799\\nCompany A\\nMarketing Analysis\\n2024-07\\nDaily\\n12:28:14\\n22:24:54\\n9.09\\n5583\\nSales\\n327\\n811593\\nCompany B\\nQuarterly Financial\\n2024-12\\nMonthly\\n05:03:29\\n09:32:09\\n16.2\\n4651\\nMarketing\\n348\\n889865\\nCompany B\\nMarketing Analysis\\n2023-03\\nMonthly\\n15:18:12\\n13:19:13\\n14.56\\n4746\\nSales\\n661\\n834888\\nCompany C\\nQuarterly Financial\\n2023-10\\nDaily\\n04:12:59\\n19:00:56\\n19.21\\n9438\\nFinance\\n833\\n376224\\nCompany B\\nMarketing Analysis\\n2023-03\\nWeekly\\n06:42:02\\n09:17:08\\n11.19\\n2081\\nMarketing\\n390\\n419524\\nCompany B\\nMarketing Analysis\\n2025-02\\nWeekly\\n18:20:08\\n14:30:39\\n8.27\\n3782\\nSales\\n286\\n114867\\nCompany B\\nMarketing Analysis\\n2024-10\\nDaily\\n14:20:42\\n04:42:19\\n7.34\\n9942\\nMarketing\\n412\\n608780\\nCompany A\\nMarketing Analysis\\n2023-06\\nDaily\\n18:26:57\\n14:37:21\\n1.95\\n1181\\nSales\\n598\\n136787\\nCompany C\\nMarketing Analysis\\n2023-12\\nWeekly\\n10:29:29\\n19:16:00\\n13.11\\n3340\\nMarketing\\n360\\n737204\\nCompany A\\nMonthly Sales\\n2024-05\\nDaily\\n10:44:34\\n09:05:35\\n1.96\\n5649\\nSales\\n246\\n651394\\nCompany C\\nMonthly Sales\\n2024-11\\nDaily\\n11:53:58\\n03:07:21\\n10.2\\n6551\\nFinance\\n218\\n248986\\nCompany C\\nQuarterly Financial\\n2023-08\\nDaily\\n21:04:20\\n07:29:42\\n3.91\\n7824\\nSales\\n821\\n150429\\nCompany C\\nMonthly Sales\\n2024-10\\nDaily\\n05:56:28\\n13:55:44\\n6.16\\n9168\\nSales\\n457\\n292064\\nCompany A\\nMonthly Sales\\n2024-08\\nWeekly\\n05:43:46\\n00:22:18\\n5.89\\n1316\\nSales\\n304\\n155822\\nCompany C\\nMarketing Analysis\\n2023-03\\nMonthly\\n05:27:17\\n08:40:32\\n14.29\\n1383\\nFinance\\n797\\n587258\\nCompany A\\nQuarterly Financial\\n2025-03\\nMonthly\\n06:30:48\\n12:09:51\\n15.24\\n1195\\nMarketing\\n660\\n706637\\nCompany C\\nQuarterly Financial\\n2024-12\\nDaily\\n22:26:14\\n23:18:59\\n3.14\\n7237\\nFinance\\n862\\n687364\\nCompany B\\nMarketing Analysis\\n2024-10\\nDaily\\n11:15:11\\n19:42:23\\n1.92\\n1734\\nMarketing\\n271\\n115338\\nCompany B\\nQuarterly Financial\\n2024-06\\nWeekly\\n07:37:44\\n23:40:00\\n23.37\\n1342\\nFinance\\n648\\n754086\\nCompany A\\nMonthly Sales\\n2025-02\\nMonthly\\n21:51:39\\n07:00:54\\n18.61\\n9912\\nSales\\n665\\n392840\\nCompany A\\nQuarterly Financial\\n2023-11\\nMonthly\\n01:17:24\\n11:59:33\\n22.98\\n5089\\nFinance\\n848\\n477100\\nCompany B\\nMonthly Sales\\n2022-06\\nMonthly\\n13:24:47\\n09:10:37\\n10.3\\n2218\\nFinance\\n812\\n968582\\nCompany A\\nMonthly Sales\\n2025-02\\nWeekly\\n15:59:17\\n05:42:55\\n4.5\\n2845\\nMarketing\\n212\\n705980\\nCompany B\\nMarketing Analysis\\n2022-10\\nDaily\\n08:04:20\\n04:00:51\\n20.78\\n7407\\nSales\\n440\\n661516\\nCompany B\\nMarketing Analysis\\n2024-08\\nDaily\\n08:00:42\\n01:47:51\\n12.89\\n8512\\nSales\\n612\\n413462\\nCompany A\\nMonthly Sales\\n2023-05\\nDaily\\n14:03:29\\n08:13:59\\n22.25\\n7070\\nSales\\n468\\n897256\\nCompany B\\nQuarterly Financial\\n2022-12\\nWeekly\\n04:17:11\\n14:17:39\\n10.58\\n6599\\nSales\\n661\\n381367\\nCompany B\\nQuarterly Financial\\n2023-09\\nDaily\\n07:04:07\\n01:47:57\\n16.65\\n1840\\nSales\\n721\\n864450\\nCompany A\\nMarketing Analysis\\n2024-06\\nMonthly\\n16:48:49\\n22:06:50\\n10.57\\n1501\\nFinance\\n406\\n870476\\nCompany B\\nQuarterly Financial\\n2022-07\\nMonthly\\n18:03:18\\n19:33:08\\n11.48\\n9953\\nFinance\\n760\\n545025\\nCompany A\\nQuarterly Financial\\n2022-11\\nDaily\\n03:26:07\\n12:44:22\\n18.57\\n4066\\nSales\\n138\\n778632\\nCompany C\\nQuarterly Financial\\n2025-02\\nWeekly\\n02:31:38\\n19:53:32\\n4.96\\n5458\\nMarketing\\n687\\n242449\\nCompany A\\nMarketing Analysis\\n2023-02\\nWeekly\\n08:33:13\\n16:40:38\\n22.55\\n2554\\nMarketing\\n304\\n411950\\nCompany C\\nMonthly Sales\\n2022-11\\nWeekly\\n10:46:06\\n19:36:52\\n16.37\\n9105\\nFinance\\n525\\n551499\\nCompany A\\nQuarterly Financial\\n2022-09\\nWeekly\\n00:29:05\\n07:44:40\\n10.58\\n5108\\nMarketing\\n265\\n256169\\nCompany A\\nMonthly Sales\\n2024-11\\nDaily\\n17:53:30\\n02:27:08\\n13.87\\n4950\\nFinance\\n661\\n459592\\nCompany A\\nMonthly Sales\\n2025-03\\nWeekly\\n17:05:37\\n07:49:57\\n5.25\\n7103\\nFinance\\n400\\n885764\\nCompany B\\nMarketing Analysis\\n2024-07\\nWeekly\\n08:52:48\\n02:03:08\\n19.64\\n3059\\nSales\\n587\\n409573\\nCompany A\\nMarketing Analysis\\n2022-11\\nDaily\\n16:26:00\\n04:24:38\\n17.59\\n8459\\nFinance\\n418\\n694371\\nCompany C\\nMarketing Analysis\\n2024-06\\nMonthly\\n11:11:14\\n19:43:02\\n15.6\\n6598\\nMarketing\\n768\\n758210\\nCompany B\\nMarketing Analysis\\n2023-10\\nMonthly\\n09:07:13\\n15:56:39\\n1.43\\n6535\\nMarketing\\n290\\n660178\\nCompany A\\nQuarterly Financial\\n2025-02\\nWeekly\\n06:20:48\\n03:27:46\\n1.2\\n9809\\nMarketing\\n288\\n250664\\nCompany C\\nQuarterly Financial\\n2022-05\\nDaily\\n04:36:05\\n09:35:23\\n14.09\\n2258\\nSales\\n781\\n802399\\nCompany A\\nMonthly Sales\\n2023-10\\nMonthly\\n00:33:41\\n12:54:23\\n5.86\\n3515\\nFinance\\n533\\n292335\\nCompany C\\nMonthly Sales\\n2022-07\\nWeekly\\n11:37:24\\n22:19:14\\n1.72\\n2370\\nMarketing\\n108\\n735223\\nCompany B\\nMonthly Sales\\n2023-03\\nWeekly\\n01:42:32\\n09:32:54\\n5.11\\n2532\\nSales\\n136\\n221405\\nCompany C\\nQuarterly Financial\\n2025-04\\nDaily\\n10:40:42\\n16:25:20\\n9.95\\n2078\\nFinance\\n611\\n851684\\nCompany B\\nMonthly Sales\\n2024-03\\nMonthly\\n05:35:23\\n12:24:18\\n4.6\\n5762\\nFinance\\n777\\n480303\\nCompany C\\nMonthly Sales\\n2023-09\\nDaily\\n00:51:34']"
      ]
     },
     "execution_count": 53,
     "metadata": {},
     "output_type": "execute_result"
    }
   ],
   "source": [
    "context"
   ]
  },
  {
   "cell_type": "code",
   "execution_count": 54,
   "id": "8a922d5d",
   "metadata": {},
   "outputs": [
    {
     "data": {
      "text/plain": [
       "{'Daily Top GRPT DFR Reports', 'Daily Web'}"
      ]
     },
     "execution_count": 54,
     "metadata": {},
     "output_type": "execute_result"
    }
   ],
   "source": [
    "sources"
   ]
  },
  {
   "cell_type": "code",
   "execution_count": null,
   "id": "d777c5eb",
   "metadata": {},
   "outputs": [],
   "source": []
  },
  {
   "cell_type": "code",
   "execution_count": null,
   "id": "81ac84ab",
   "metadata": {},
   "outputs": [],
   "source": []
  }
 ],
 "metadata": {
  "kernelspec": {
   "display_name": "graph_rag",
   "language": "python",
   "name": "python3"
  },
  "language_info": {
   "codemirror_mode": {
    "name": "ipython",
    "version": 3
   },
   "file_extension": ".py",
   "mimetype": "text/x-python",
   "name": "python",
   "nbconvert_exporter": "python",
   "pygments_lexer": "ipython3",
   "version": "3.11.9"
  }
 },
 "nbformat": 4,
 "nbformat_minor": 5
}
