{
 "cells": [
  {
   "cell_type": "code",
   "execution_count": 1,
   "id": "ef79f631",
   "metadata": {},
   "outputs": [],
   "source": [
    "%load_ext autoreload\n",
    "%autoreload 2"
   ]
  },
  {
   "cell_type": "code",
   "execution_count": 2,
   "id": "7ec76c0a",
   "metadata": {},
   "outputs": [],
   "source": [
    "# Add the parent directory of 'bin' to the system path\n",
    "import sys\n",
    "import os\n",
    "# Get the current notebook's directory\n",
    "notebook_dir = os.getcwd()\n",
    "\n",
    "# Add the 'bin' directory to the system path\n",
    "sys.path.append(os.path.abspath(os.path.join(notebook_dir, \"./bin\")))\n"
   ]
  },
  {
   "cell_type": "code",
   "execution_count": 3,
   "id": "cc96dc20",
   "metadata": {},
   "outputs": [],
   "source": [
    "import pandas as pd\n",
    "import streamlit as st\n",
    "\n",
    "from chunking import load_data, chunk_docs_recursive\n",
    "from vectordb import get_vector_db, add_documents_to_vector_db, create_document_list, get_vector_db_from_persist_directory\n",
    "from retrievar import vector_retrievar_with_source, get_context"
   ]
  },
  {
   "cell_type": "code",
   "execution_count": 4,
   "id": "eb83e446",
   "metadata": {},
   "outputs": [],
   "source": [
    "file_path = \"./data/sample_data.xlsx\""
   ]
  },
  {
   "cell_type": "code",
   "execution_count": 5,
   "id": "dfc80420",
   "metadata": {},
   "outputs": [],
   "source": [
    "# Set OpenAI API key\n",
    "openai_api_key = st.secrets[\"OPENAI_API_KEY\"]\n",
    "os.environ[\"OPENAI_API_KEY\"] = openai_api_key"
   ]
  },
  {
   "cell_type": "code",
   "execution_count": 6,
   "id": "a56b5433",
   "metadata": {},
   "outputs": [],
   "source": [
    "# Helper function for printing docs\n",
    "def pretty_print_docs(docs):\n",
    "    print(\n",
    "        f\"\\n{'-' * 100}\\n\".join(\n",
    "            [f\"Document {i + 1}:\\n\\n\" + d.page_content for i, d in enumerate(docs)]\n",
    "        )\n",
    "    )"
   ]
  },
  {
   "cell_type": "markdown",
   "id": "9668dca5",
   "metadata": {},
   "source": [
    "### Chunking"
   ]
  },
  {
   "cell_type": "code",
   "execution_count": 7,
   "id": "f2086b28",
   "metadata": {},
   "outputs": [],
   "source": [
    "# Load the data from the Excel file\n",
    "docs = load_data(file_path)"
   ]
  },
  {
   "cell_type": "code",
   "execution_count": 8,
   "id": "242d5f72",
   "metadata": {},
   "outputs": [
    {
     "data": {
      "text/plain": [
       "[Document(page_content='\\n\\n\\nREPORT_DATE\\nSTART_TIME\\nFINISH_TIME\\nELAPSED_HOURS\\n\\n\\n2023-05-18\\n07:07\\n12:50\\n11.49\\n\\n\\n2025-01-26\\n02:31\\n16:07\\n10.84\\n\\n\\n2023-08-13\\n21:46\\n13:45\\n6.66\\n\\n\\n2022-03-08\\n13:58\\n12:40\\n4.54\\n\\n\\n2024-02-08\\n06:44\\n21:30\\n9.64\\n\\n\\n2025-04-01\\n02:22\\n06:46\\n6.68\\n\\n\\n2024-07-22\\n09:08\\n19:09\\n6.75\\n\\n\\n2024-09-14\\n16:38\\n04:10\\n7.4\\n\\n\\n2023-02-07\\n20:17\\n03:42\\n1.88\\n\\n\\n2024-01-08\\n09:10\\n00:21\\n4.27\\n\\n\\n2021-09-27\\n09:30\\n12:47\\n5.59\\n\\n\\n2023-12-12\\n20:37\\n02:11\\n6.5\\n\\n\\n2023-12-19\\n19:47\\n22:41\\n11.02\\n\\n\\n2022-01-15\\n20:48\\n02:32\\n9.07\\n\\n\\n2024-02-10\\n14:28\\n10:52\\n7.96\\n\\n\\n2021-11-08\\n11:28\\n03:58\\n7.68\\n\\n\\n2024-11-15\\n12:44\\n15:35\\n2.1\\n\\n\\n2025-01-28\\n09:38\\n16:59\\n4.83\\n\\n\\n2023-07-14\\n09:24\\n16:55\\n7.69\\n\\n\\n2024-12-24\\n23:47\\n22:21\\n6.72\\n\\n\\n', metadata={'source': './data/sample_data.xlsx', 'filename': 'sample_data.xlsx', 'file_directory': './data', 'last_modified': '2025-05-09T09:56:10', 'filetype': 'application/vnd.openxmlformats-officedocument.spreadsheetml.sheet', 'languages': ['eng'], 'page_number': 1, 'page_name': 'Daily DFR', 'text_as_html': '<table border=\"1\" class=\"dataframe\">\\n  <tbody>\\n    <tr>\\n      <td>REPORT_DATE</td>\\n      <td>START_TIME</td>\\n      <td>FINISH_TIME</td>\\n      <td>ELAPSED_HOURS</td>\\n    </tr>\\n    <tr>\\n      <td>2023-05-18</td>\\n      <td>07:07</td>\\n      <td>12:50</td>\\n      <td>11.49</td>\\n    </tr>\\n    <tr>\\n      <td>2025-01-26</td>\\n      <td>02:31</td>\\n      <td>16:07</td>\\n      <td>10.84</td>\\n    </tr>\\n    <tr>\\n      <td>2023-08-13</td>\\n      <td>21:46</td>\\n      <td>13:45</td>\\n      <td>6.66</td>\\n    </tr>\\n    <tr>\\n      <td>2022-03-08</td>\\n      <td>13:58</td>\\n      <td>12:40</td>\\n      <td>4.54</td>\\n    </tr>\\n    <tr>\\n      <td>2024-02-08</td>\\n      <td>06:44</td>\\n      <td>21:30</td>\\n      <td>9.64</td>\\n    </tr>\\n    <tr>\\n      <td>2025-04-01</td>\\n      <td>02:22</td>\\n      <td>06:46</td>\\n      <td>6.68</td>\\n    </tr>\\n    <tr>\\n      <td>2024-07-22</td>\\n      <td>09:08</td>\\n      <td>19:09</td>\\n      <td>6.75</td>\\n    </tr>\\n    <tr>\\n      <td>2024-09-14</td>\\n      <td>16:38</td>\\n      <td>04:10</td>\\n      <td>7.4</td>\\n    </tr>\\n    <tr>\\n      <td>2023-02-07</td>\\n      <td>20:17</td>\\n      <td>03:42</td>\\n      <td>1.88</td>\\n    </tr>\\n    <tr>\\n      <td>2024-01-08</td>\\n      <td>09:10</td>\\n      <td>00:21</td>\\n      <td>4.27</td>\\n    </tr>\\n    <tr>\\n      <td>2021-09-27</td>\\n      <td>09:30</td>\\n      <td>12:47</td>\\n      <td>5.59</td>\\n    </tr>\\n    <tr>\\n      <td>2023-12-12</td>\\n      <td>20:37</td>\\n      <td>02:11</td>\\n      <td>6.5</td>\\n    </tr>\\n    <tr>\\n      <td>2023-12-19</td>\\n      <td>19:47</td>\\n      <td>22:41</td>\\n      <td>11.02</td>\\n    </tr>\\n    <tr>\\n      <td>2022-01-15</td>\\n      <td>20:48</td>\\n      <td>02:32</td>\\n      <td>9.07</td>\\n    </tr>\\n    <tr>\\n      <td>2024-02-10</td>\\n      <td>14:28</td>\\n      <td>10:52</td>\\n      <td>7.96</td>\\n    </tr>\\n    <tr>\\n      <td>2021-11-08</td>\\n      <td>11:28</td>\\n      <td>03:58</td>\\n      <td>7.68</td>\\n    </tr>\\n    <tr>\\n      <td>2024-11-15</td>\\n      <td>12:44</td>\\n      <td>15:35</td>\\n      <td>2.1</td>\\n    </tr>\\n    <tr>\\n      <td>2025-01-28</td>\\n      <td>09:38</td>\\n      <td>16:59</td>\\n      <td>4.83</td>\\n    </tr>\\n    <tr>\\n      <td>2023-07-14</td>\\n      <td>09:24</td>\\n      <td>16:55</td>\\n      <td>7.69</td>\\n    </tr>\\n    <tr>\\n      <td>2024-12-24</td>\\n      <td>23:47</td>\\n      <td>22:21</td>\\n      <td>6.72</td>\\n    </tr>\\n  </tbody>\\n</table>', 'category': 'Table'}),\n",
       " Document(page_content='\\n\\n\\nDate\\nAuth\\nTxn\\n\\n\\n2023-06-08\\n1284\\n458\\n\\n\\n2023-05-21\\n3044\\n834\\n\\n\\n2024-01-04\\n3929\\n787\\n\\n\\n2021-09-21\\n4647\\n375\\n\\n\\n2025-02-21\\n4711\\n791\\n\\n\\n2023-01-28\\n3526\\n551\\n\\n\\n2021-11-02\\n2455\\n650\\n\\n\\n2024-07-16\\n3675\\n334\\n\\n\\n2025-01-26\\n4651\\n542\\n\\n\\n2024-09-06\\n2223\\n589\\n\\n\\n2024-11-01\\n1352\\n334\\n\\n\\n2024-10-24\\n1666\\n113\\n\\n\\n2023-08-29\\n1106\\n908\\n\\n\\n2022-03-03\\n3124\\n390\\n\\n\\n2023-06-28\\n4224\\n902\\n\\n\\n2023-05-10\\n4609\\n721\\n\\n\\n2024-09-09\\n4184\\n863\\n\\n\\n2025-03-22\\n2421\\n142\\n\\n\\n2022-03-21\\n1339\\n420\\n\\n\\n2023-09-05\\n2987\\n107\\n\\n\\n', metadata={'source': './data/sample_data.xlsx', 'filename': 'sample_data.xlsx', 'file_directory': './data', 'last_modified': '2025-05-09T09:56:10', 'filetype': 'application/vnd.openxmlformats-officedocument.spreadsheetml.sheet', 'languages': ['eng'], 'page_number': 2, 'page_name': 'Volume All', 'text_as_html': '<table border=\"1\" class=\"dataframe\">\\n  <tbody>\\n    <tr>\\n      <td>Date</td>\\n      <td>Auth</td>\\n      <td>Txn</td>\\n    </tr>\\n    <tr>\\n      <td>2023-06-08</td>\\n      <td>1284</td>\\n      <td>458</td>\\n    </tr>\\n    <tr>\\n      <td>2023-05-21</td>\\n      <td>3044</td>\\n      <td>834</td>\\n    </tr>\\n    <tr>\\n      <td>2024-01-04</td>\\n      <td>3929</td>\\n      <td>787</td>\\n    </tr>\\n    <tr>\\n      <td>2021-09-21</td>\\n      <td>4647</td>\\n      <td>375</td>\\n    </tr>\\n    <tr>\\n      <td>2025-02-21</td>\\n      <td>4711</td>\\n      <td>791</td>\\n    </tr>\\n    <tr>\\n      <td>2023-01-28</td>\\n      <td>3526</td>\\n      <td>551</td>\\n    </tr>\\n    <tr>\\n      <td>2021-11-02</td>\\n      <td>2455</td>\\n      <td>650</td>\\n    </tr>\\n    <tr>\\n      <td>2024-07-16</td>\\n      <td>3675</td>\\n      <td>334</td>\\n    </tr>\\n    <tr>\\n      <td>2025-01-26</td>\\n      <td>4651</td>\\n      <td>542</td>\\n    </tr>\\n    <tr>\\n      <td>2024-09-06</td>\\n      <td>2223</td>\\n      <td>589</td>\\n    </tr>\\n    <tr>\\n      <td>2024-11-01</td>\\n      <td>1352</td>\\n      <td>334</td>\\n    </tr>\\n    <tr>\\n      <td>2024-10-24</td>\\n      <td>1666</td>\\n      <td>113</td>\\n    </tr>\\n    <tr>\\n      <td>2023-08-29</td>\\n      <td>1106</td>\\n      <td>908</td>\\n    </tr>\\n    <tr>\\n      <td>2022-03-03</td>\\n      <td>3124</td>\\n      <td>390</td>\\n    </tr>\\n    <tr>\\n      <td>2023-06-28</td>\\n      <td>4224</td>\\n      <td>902</td>\\n    </tr>\\n    <tr>\\n      <td>2023-05-10</td>\\n      <td>4609</td>\\n      <td>721</td>\\n    </tr>\\n    <tr>\\n      <td>2024-09-09</td>\\n      <td>4184</td>\\n      <td>863</td>\\n    </tr>\\n    <tr>\\n      <td>2025-03-22</td>\\n      <td>2421</td>\\n      <td>142</td>\\n    </tr>\\n    <tr>\\n      <td>2022-03-21</td>\\n      <td>1339</td>\\n      <td>420</td>\\n    </tr>\\n    <tr>\\n      <td>2023-09-05</td>\\n      <td>2987</td>\\n      <td>107</td>\\n    </tr>\\n  </tbody>\\n</table>', 'category': 'Table'}),\n",
       " Document(page_content='\\n\\n\\nMonth\\nMetropolitan (MTA)\\n\\n\\n2021-04\\n14640\\n\\n\\n2021-05\\n26012\\n\\n\\n2021-06\\n22634\\n\\n\\n2021-07\\n19092\\n\\n\\n2021-08\\n40334\\n\\n\\n2021-09\\n46717\\n\\n\\n2021-10\\n34471\\n\\n\\n2021-11\\n19907\\n\\n\\n2021-12\\n17799\\n\\n\\n2022-01\\n33503\\n\\n\\n2022-02\\n18773\\n\\n\\n2022-03\\n39092\\n\\n\\n2022-04\\n43233\\n\\n\\n2022-05\\n17433\\n\\n\\n2022-06\\n48681\\n\\n\\n2022-07\\n13897\\n\\n\\n2022-08\\n25550\\n\\n\\n2022-09\\n47165\\n\\n\\n2022-10\\n11652\\n\\n\\n2022-11\\n31454\\n\\n\\n', metadata={'source': './data/sample_data.xlsx', 'filename': 'sample_data.xlsx', 'file_directory': './data', 'last_modified': '2025-05-09T09:56:10', 'filetype': 'application/vnd.openxmlformats-officedocument.spreadsheetml.sheet', 'languages': ['eng'], 'page_number': 3, 'page_name': 'Volume (Subm)-Top Merchants', 'text_as_html': '<table border=\"1\" class=\"dataframe\">\\n  <tbody>\\n    <tr>\\n      <td>Month</td>\\n      <td>Metropolitan (MTA)</td>\\n    </tr>\\n    <tr>\\n      <td>2021-04</td>\\n      <td>14640</td>\\n    </tr>\\n    <tr>\\n      <td>2021-05</td>\\n      <td>26012</td>\\n    </tr>\\n    <tr>\\n      <td>2021-06</td>\\n      <td>22634</td>\\n    </tr>\\n    <tr>\\n      <td>2021-07</td>\\n      <td>19092</td>\\n    </tr>\\n    <tr>\\n      <td>2021-08</td>\\n      <td>40334</td>\\n    </tr>\\n    <tr>\\n      <td>2021-09</td>\\n      <td>46717</td>\\n    </tr>\\n    <tr>\\n      <td>2021-10</td>\\n      <td>34471</td>\\n    </tr>\\n    <tr>\\n      <td>2021-11</td>\\n      <td>19907</td>\\n    </tr>\\n    <tr>\\n      <td>2021-12</td>\\n      <td>17799</td>\\n    </tr>\\n    <tr>\\n      <td>2022-01</td>\\n      <td>33503</td>\\n    </tr>\\n    <tr>\\n      <td>2022-02</td>\\n      <td>18773</td>\\n    </tr>\\n    <tr>\\n      <td>2022-03</td>\\n      <td>39092</td>\\n    </tr>\\n    <tr>\\n      <td>2022-04</td>\\n      <td>43233</td>\\n    </tr>\\n    <tr>\\n      <td>2022-05</td>\\n      <td>17433</td>\\n    </tr>\\n    <tr>\\n      <td>2022-06</td>\\n      <td>48681</td>\\n    </tr>\\n    <tr>\\n      <td>2022-07</td>\\n      <td>13897</td>\\n    </tr>\\n    <tr>\\n      <td>2022-08</td>\\n      <td>25550</td>\\n    </tr>\\n    <tr>\\n      <td>2022-09</td>\\n      <td>47165</td>\\n    </tr>\\n    <tr>\\n      <td>2022-10</td>\\n      <td>11652</td>\\n    </tr>\\n    <tr>\\n      <td>2022-11</td>\\n      <td>31454</td>\\n    </tr>\\n  </tbody>\\n</table>', 'category': 'Table'}),\n",
       " Document(page_content='\\n\\n\\nCOMPANY_ID\\nENTITY\\nENTITY_ID\\nDB_KEY\\nCOMPANY_NAME\\nREPORT_NAME\\nREPORT_DATE\\nFREQUENCY\\nSTART_TIME\\nFINISH_TIME\\nELAPSED_HOURS\\n\\n\\n7065\\nMarketing\\n750\\n773017\\nCompany B\\nMonthly Sales\\n2023-06\\nDaily\\n02:33\\n04:06\\n17.39\\n\\n\\n7438\\nMarketing\\n705\\n365540\\nCompany C\\nMarketing Analysis\\n2023-06\\nMonthly\\n05:30\\n12:42\\n21.26\\n\\n\\n1642\\nSales\\n561\\n256618\\nCompany A\\nMarketing Analysis\\n2021-12\\nWeekly\\n07:20\\n04:30\\n4.17\\n\\n\\n8868\\nMarketing\\n229\\n313340\\nCompany A\\nQuarterly Financial\\n2021-10\\nMonthly\\n05:28\\n19:52\\n22.44\\n\\n\\n5438\\nSales\\n619\\n484982\\nCompany C\\nQuarterly Financial\\n2023-07\\nWeekly\\n04:42\\n00:11\\n17.28\\n\\n\\n7433\\nSales\\n151\\n207671\\nCompany A\\nQuarterly Financial\\n2021-12\\nDaily\\n17:35\\n06:15\\n22.53\\n\\n\\n7523\\nFinance\\n746\\n777356\\nCompany C\\nMarketing Analysis\\n2021-12\\nMonthly\\n13:38\\n20:15\\n10.46\\n\\n\\n4968\\nSales\\n979\\n281351\\nCompany B\\nQuarterly Financial\\n2023-06\\nWeekly\\n06:06\\n05:30\\n9.44\\n\\n\\n1820\\nSales\\n290\\n371899\\nCompany C\\nMonthly Sales\\n2025-04\\nDaily\\n15:29\\n15:46\\n15.78\\n\\n\\n5004\\nSales\\n402\\n647056\\nCompany A\\nMarketing Analysis\\n2022-09\\nDaily\\n02:43\\n07:52\\n23.56\\n\\n\\n8254\\nMarketing\\n336\\n977477\\nCompany B\\nMonthly Sales\\n2022-07\\nDaily\\n11:29\\n12:39\\n12.82\\n\\n\\n8615\\nFinance\\n377\\n213494\\nCompany A\\nMonthly Sales\\n2023-11\\nMonthly\\n08:04\\n00:02\\n1.53\\n\\n\\n3541\\nFinance\\n618\\n411684\\nCompany A\\nQuarterly Financial\\n2021-05\\nDaily\\n19:14\\n23:00\\n10.26\\n\\n\\n2391\\nMarketing\\n749\\n918046\\nCompany C\\nQuarterly Financial\\n2024-04\\nDaily\\n02:43\\n08:04\\n9.1\\n\\n\\n8428\\nSales\\n689\\n106995\\nCompany B\\nQuarterly Financial\\n2024-02\\nMonthly\\n04:05\\n18:18\\n14.3\\n\\n\\n8117\\nSales\\n387\\n642595\\nCompany C\\nQuarterly Financial\\n2022-10\\nMonthly\\n17:39\\n13:34\\n20.82\\n\\n\\n9424\\nSales\\n717\\n325033\\nCompany B\\nQuarterly Financial\\n2021-07\\nWeekly\\n06:37\\n21:39\\n1.84\\n\\n\\n4689\\nMarketing\\n522\\n219981\\nCompany A\\nQuarterly Financial\\n2022-02\\nWeekly\\n02:43\\n18:11\\n15.49\\n\\n\\n5125\\nFinance\\n651\\n645390\\nCompany A\\nMonthly Sales\\n2024-05\\nDaily\\n01:35\\n01:27\\n6.09\\n\\n\\n8911\\nMarketing\\n673\\n222753\\nCompany B\\nQuarterly Financial\\n2023-04\\nWeekly\\n18:08\\n10:47\\n10.97\\n\\n\\n', metadata={'source': './data/sample_data.xlsx', 'filename': 'sample_data.xlsx', 'file_directory': './data', 'last_modified': '2025-05-09T09:56:10', 'filetype': 'application/vnd.openxmlformats-officedocument.spreadsheetml.sheet', 'languages': ['eng'], 'page_number': 4, 'page_name': 'Daily Top Web Reports', 'text_as_html': '<table border=\"1\" class=\"dataframe\">\\n  <tbody>\\n    <tr>\\n      <td>COMPANY_ID</td>\\n      <td>ENTITY</td>\\n      <td>ENTITY_ID</td>\\n      <td>DB_KEY</td>\\n      <td>COMPANY_NAME</td>\\n      <td>REPORT_NAME</td>\\n      <td>REPORT_DATE</td>\\n      <td>FREQUENCY</td>\\n      <td>START_TIME</td>\\n      <td>FINISH_TIME</td>\\n      <td>ELAPSED_HOURS</td>\\n    </tr>\\n    <tr>\\n      <td>7065</td>\\n      <td>Marketing</td>\\n      <td>750</td>\\n      <td>773017</td>\\n      <td>Company B</td>\\n      <td>Monthly Sales</td>\\n      <td>2023-06</td>\\n      <td>Daily</td>\\n      <td>02:33</td>\\n      <td>04:06</td>\\n      <td>17.39</td>\\n    </tr>\\n    <tr>\\n      <td>7438</td>\\n      <td>Marketing</td>\\n      <td>705</td>\\n      <td>365540</td>\\n      <td>Company C</td>\\n      <td>Marketing Analysis</td>\\n      <td>2023-06</td>\\n      <td>Monthly</td>\\n      <td>05:30</td>\\n      <td>12:42</td>\\n      <td>21.26</td>\\n    </tr>\\n    <tr>\\n      <td>1642</td>\\n      <td>Sales</td>\\n      <td>561</td>\\n      <td>256618</td>\\n      <td>Company A</td>\\n      <td>Marketing Analysis</td>\\n      <td>2021-12</td>\\n      <td>Weekly</td>\\n      <td>07:20</td>\\n      <td>04:30</td>\\n      <td>4.17</td>\\n    </tr>\\n    <tr>\\n      <td>8868</td>\\n      <td>Marketing</td>\\n      <td>229</td>\\n      <td>313340</td>\\n      <td>Company A</td>\\n      <td>Quarterly Financial</td>\\n      <td>2021-10</td>\\n      <td>Monthly</td>\\n      <td>05:28</td>\\n      <td>19:52</td>\\n      <td>22.44</td>\\n    </tr>\\n    <tr>\\n      <td>5438</td>\\n      <td>Sales</td>\\n      <td>619</td>\\n      <td>484982</td>\\n      <td>Company C</td>\\n      <td>Quarterly Financial</td>\\n      <td>2023-07</td>\\n      <td>Weekly</td>\\n      <td>04:42</td>\\n      <td>00:11</td>\\n      <td>17.28</td>\\n    </tr>\\n    <tr>\\n      <td>7433</td>\\n      <td>Sales</td>\\n      <td>151</td>\\n      <td>207671</td>\\n      <td>Company A</td>\\n      <td>Quarterly Financial</td>\\n      <td>2021-12</td>\\n      <td>Daily</td>\\n      <td>17:35</td>\\n      <td>06:15</td>\\n      <td>22.53</td>\\n    </tr>\\n    <tr>\\n      <td>7523</td>\\n      <td>Finance</td>\\n      <td>746</td>\\n      <td>777356</td>\\n      <td>Company C</td>\\n      <td>Marketing Analysis</td>\\n      <td>2021-12</td>\\n      <td>Monthly</td>\\n      <td>13:38</td>\\n      <td>20:15</td>\\n      <td>10.46</td>\\n    </tr>\\n    <tr>\\n      <td>4968</td>\\n      <td>Sales</td>\\n      <td>979</td>\\n      <td>281351</td>\\n      <td>Company B</td>\\n      <td>Quarterly Financial</td>\\n      <td>2023-06</td>\\n      <td>Weekly</td>\\n      <td>06:06</td>\\n      <td>05:30</td>\\n      <td>9.44</td>\\n    </tr>\\n    <tr>\\n      <td>1820</td>\\n      <td>Sales</td>\\n      <td>290</td>\\n      <td>371899</td>\\n      <td>Company C</td>\\n      <td>Monthly Sales</td>\\n      <td>2025-04</td>\\n      <td>Daily</td>\\n      <td>15:29</td>\\n      <td>15:46</td>\\n      <td>15.78</td>\\n    </tr>\\n    <tr>\\n      <td>5004</td>\\n      <td>Sales</td>\\n      <td>402</td>\\n      <td>647056</td>\\n      <td>Company A</td>\\n      <td>Marketing Analysis</td>\\n      <td>2022-09</td>\\n      <td>Daily</td>\\n      <td>02:43</td>\\n      <td>07:52</td>\\n      <td>23.56</td>\\n    </tr>\\n    <tr>\\n      <td>8254</td>\\n      <td>Marketing</td>\\n      <td>336</td>\\n      <td>977477</td>\\n      <td>Company B</td>\\n      <td>Monthly Sales</td>\\n      <td>2022-07</td>\\n      <td>Daily</td>\\n      <td>11:29</td>\\n      <td>12:39</td>\\n      <td>12.82</td>\\n    </tr>\\n    <tr>\\n      <td>8615</td>\\n      <td>Finance</td>\\n      <td>377</td>\\n      <td>213494</td>\\n      <td>Company A</td>\\n      <td>Monthly Sales</td>\\n      <td>2023-11</td>\\n      <td>Monthly</td>\\n      <td>08:04</td>\\n      <td>00:02</td>\\n      <td>1.53</td>\\n    </tr>\\n    <tr>\\n      <td>3541</td>\\n      <td>Finance</td>\\n      <td>618</td>\\n      <td>411684</td>\\n      <td>Company A</td>\\n      <td>Quarterly Financial</td>\\n      <td>2021-05</td>\\n      <td>Daily</td>\\n      <td>19:14</td>\\n      <td>23:00</td>\\n      <td>10.26</td>\\n    </tr>\\n    <tr>\\n      <td>2391</td>\\n      <td>Marketing</td>\\n      <td>749</td>\\n      <td>918046</td>\\n      <td>Company C</td>\\n      <td>Quarterly Financial</td>\\n      <td>2024-04</td>\\n      <td>Daily</td>\\n      <td>02:43</td>\\n      <td>08:04</td>\\n      <td>9.1</td>\\n    </tr>\\n    <tr>\\n      <td>8428</td>\\n      <td>Sales</td>\\n      <td>689</td>\\n      <td>106995</td>\\n      <td>Company B</td>\\n      <td>Quarterly Financial</td>\\n      <td>2024-02</td>\\n      <td>Monthly</td>\\n      <td>04:05</td>\\n      <td>18:18</td>\\n      <td>14.3</td>\\n    </tr>\\n    <tr>\\n      <td>8117</td>\\n      <td>Sales</td>\\n      <td>387</td>\\n      <td>642595</td>\\n      <td>Company C</td>\\n      <td>Quarterly Financial</td>\\n      <td>2022-10</td>\\n      <td>Monthly</td>\\n      <td>17:39</td>\\n      <td>13:34</td>\\n      <td>20.82</td>\\n    </tr>\\n    <tr>\\n      <td>9424</td>\\n      <td>Sales</td>\\n      <td>717</td>\\n      <td>325033</td>\\n      <td>Company B</td>\\n      <td>Quarterly Financial</td>\\n      <td>2021-07</td>\\n      <td>Weekly</td>\\n      <td>06:37</td>\\n      <td>21:39</td>\\n      <td>1.84</td>\\n    </tr>\\n    <tr>\\n      <td>4689</td>\\n      <td>Marketing</td>\\n      <td>522</td>\\n      <td>219981</td>\\n      <td>Company A</td>\\n      <td>Quarterly Financial</td>\\n      <td>2022-02</td>\\n      <td>Weekly</td>\\n      <td>02:43</td>\\n      <td>18:11</td>\\n      <td>15.49</td>\\n    </tr>\\n    <tr>\\n      <td>5125</td>\\n      <td>Finance</td>\\n      <td>651</td>\\n      <td>645390</td>\\n      <td>Company A</td>\\n      <td>Monthly Sales</td>\\n      <td>2024-05</td>\\n      <td>Daily</td>\\n      <td>01:35</td>\\n      <td>01:27</td>\\n      <td>6.09</td>\\n    </tr>\\n    <tr>\\n      <td>8911</td>\\n      <td>Marketing</td>\\n      <td>673</td>\\n      <td>222753</td>\\n      <td>Company B</td>\\n      <td>Quarterly Financial</td>\\n      <td>2023-04</td>\\n      <td>Weekly</td>\\n      <td>18:08</td>\\n      <td>10:47</td>\\n      <td>10.97</td>\\n    </tr>\\n  </tbody>\\n</table>', 'category': 'Table'}),\n",
       " Document(page_content='\\n\\n\\nCOMPANY_ID\\nENTITY\\nENTITY_ID\\nDB_KEY\\nCOMPANY_NAME\\nREPORT_NAME\\nREPORT_DATE\\nFREQUENCY\\nSTART_TIME\\nFINISH_TIME\\nELAPSED_HOURS\\n\\n\\n7065\\nMarketing\\n750\\n773017\\nCompany B\\nMonthly Sales\\n2023-06\\nDaily\\n02:33\\n04:06\\n17.39\\n\\n\\n7438\\nMarketing\\n705\\n365540\\nCompany C\\nMarketing Analysis\\n2023-06\\nMonthly\\n05:30\\n12:42\\n21.26\\n\\n\\n1642\\nSales\\n561\\n256618\\nCompany A\\nMarketing Analysis\\n2021-12\\nWeekly\\n07:20\\n04:30\\n4.17\\n\\n\\n8868\\nMarketing\\n229\\n313340\\nCompany A\\nQuarterly Financial\\n2021-10\\nMonthly\\n05:28\\n19:52\\n22.44\\n\\n\\n5438\\nSales\\n619\\n484982\\nCompany C\\nQuarterly Financial\\n2023-07\\nWeekly\\n04:42\\n00:11\\n17.28\\n\\n\\n7433\\nSales\\n151\\n207671\\nCompany A\\nQuarterly Financial\\n2021-12\\nDaily\\n17:35\\n06:15\\n22.53\\n\\n\\n7523\\nFinance\\n746\\n777356\\nCompany C\\nMarketing Analysis\\n2021-12\\nMonthly\\n13:38\\n20:15\\n10.46\\n\\n\\n4968\\nSales\\n979\\n281351\\nCompany B\\nQuarterly Financial\\n2023-06\\nWeekly\\n06:06\\n05:30\\n9.44\\n\\n\\n1820\\nSales\\n290\\n371899\\nCompany C\\nMonthly Sales\\n2025-04\\nDaily\\n15:29\\n15:46\\n15.78\\n\\n\\n5004\\nSales\\n402\\n647056\\nCompany A\\nMarketing Analysis\\n2022-09\\nDaily\\n02:43\\n07:52\\n23.56\\n\\n\\n8254\\nMarketing\\n336\\n977477\\nCompany B\\nMonthly Sales\\n2022-07\\nDaily\\n11:29\\n12:39\\n12.82\\n\\n\\n8615\\nFinance\\n377\\n213494\\nCompany A\\nMonthly Sales\\n2023-11\\nMonthly\\n08:04\\n00:02\\n1.53\\n\\n\\n3541\\nFinance\\n618\\n411684\\nCompany A\\nQuarterly Financial\\n2021-05\\nDaily\\n19:14\\n23:00\\n10.26\\n\\n\\n2391\\nMarketing\\n749\\n918046\\nCompany C\\nQuarterly Financial\\n2024-04\\nDaily\\n02:43\\n08:04\\n9.1\\n\\n\\n8428\\nSales\\n689\\n106995\\nCompany B\\nQuarterly Financial\\n2024-02\\nMonthly\\n04:05\\n18:18\\n14.3\\n\\n\\n8117\\nSales\\n387\\n642595\\nCompany C\\nQuarterly Financial\\n2022-10\\nMonthly\\n17:39\\n13:34\\n20.82\\n\\n\\n9424\\nSales\\n717\\n325033\\nCompany B\\nQuarterly Financial\\n2021-07\\nWeekly\\n06:37\\n21:39\\n1.84\\n\\n\\n4689\\nMarketing\\n522\\n219981\\nCompany A\\nQuarterly Financial\\n2022-02\\nWeekly\\n02:43\\n18:11\\n15.49\\n\\n\\n5125\\nFinance\\n651\\n645390\\nCompany A\\nMonthly Sales\\n2024-05\\nDaily\\n01:35\\n01:27\\n6.09\\n\\n\\n8911\\nMarketing\\n673\\n222753\\nCompany B\\nQuarterly Financial\\n2023-04\\nWeekly\\n18:08\\n10:47\\n10.97\\n\\n\\n', metadata={'source': './data/sample_data.xlsx', 'filename': 'sample_data.xlsx', 'file_directory': './data', 'last_modified': '2025-05-09T09:56:10', 'filetype': 'application/vnd.openxmlformats-officedocument.spreadsheetml.sheet', 'languages': ['eng'], 'page_number': 5, 'page_name': 'Daily Top GRPT DFR Reports', 'text_as_html': '<table border=\"1\" class=\"dataframe\">\\n  <tbody>\\n    <tr>\\n      <td>COMPANY_ID</td>\\n      <td>ENTITY</td>\\n      <td>ENTITY_ID</td>\\n      <td>DB_KEY</td>\\n      <td>COMPANY_NAME</td>\\n      <td>REPORT_NAME</td>\\n      <td>REPORT_DATE</td>\\n      <td>FREQUENCY</td>\\n      <td>START_TIME</td>\\n      <td>FINISH_TIME</td>\\n      <td>ELAPSED_HOURS</td>\\n    </tr>\\n    <tr>\\n      <td>7065</td>\\n      <td>Marketing</td>\\n      <td>750</td>\\n      <td>773017</td>\\n      <td>Company B</td>\\n      <td>Monthly Sales</td>\\n      <td>2023-06</td>\\n      <td>Daily</td>\\n      <td>02:33</td>\\n      <td>04:06</td>\\n      <td>17.39</td>\\n    </tr>\\n    <tr>\\n      <td>7438</td>\\n      <td>Marketing</td>\\n      <td>705</td>\\n      <td>365540</td>\\n      <td>Company C</td>\\n      <td>Marketing Analysis</td>\\n      <td>2023-06</td>\\n      <td>Monthly</td>\\n      <td>05:30</td>\\n      <td>12:42</td>\\n      <td>21.26</td>\\n    </tr>\\n    <tr>\\n      <td>1642</td>\\n      <td>Sales</td>\\n      <td>561</td>\\n      <td>256618</td>\\n      <td>Company A</td>\\n      <td>Marketing Analysis</td>\\n      <td>2021-12</td>\\n      <td>Weekly</td>\\n      <td>07:20</td>\\n      <td>04:30</td>\\n      <td>4.17</td>\\n    </tr>\\n    <tr>\\n      <td>8868</td>\\n      <td>Marketing</td>\\n      <td>229</td>\\n      <td>313340</td>\\n      <td>Company A</td>\\n      <td>Quarterly Financial</td>\\n      <td>2021-10</td>\\n      <td>Monthly</td>\\n      <td>05:28</td>\\n      <td>19:52</td>\\n      <td>22.44</td>\\n    </tr>\\n    <tr>\\n      <td>5438</td>\\n      <td>Sales</td>\\n      <td>619</td>\\n      <td>484982</td>\\n      <td>Company C</td>\\n      <td>Quarterly Financial</td>\\n      <td>2023-07</td>\\n      <td>Weekly</td>\\n      <td>04:42</td>\\n      <td>00:11</td>\\n      <td>17.28</td>\\n    </tr>\\n    <tr>\\n      <td>7433</td>\\n      <td>Sales</td>\\n      <td>151</td>\\n      <td>207671</td>\\n      <td>Company A</td>\\n      <td>Quarterly Financial</td>\\n      <td>2021-12</td>\\n      <td>Daily</td>\\n      <td>17:35</td>\\n      <td>06:15</td>\\n      <td>22.53</td>\\n    </tr>\\n    <tr>\\n      <td>7523</td>\\n      <td>Finance</td>\\n      <td>746</td>\\n      <td>777356</td>\\n      <td>Company C</td>\\n      <td>Marketing Analysis</td>\\n      <td>2021-12</td>\\n      <td>Monthly</td>\\n      <td>13:38</td>\\n      <td>20:15</td>\\n      <td>10.46</td>\\n    </tr>\\n    <tr>\\n      <td>4968</td>\\n      <td>Sales</td>\\n      <td>979</td>\\n      <td>281351</td>\\n      <td>Company B</td>\\n      <td>Quarterly Financial</td>\\n      <td>2023-06</td>\\n      <td>Weekly</td>\\n      <td>06:06</td>\\n      <td>05:30</td>\\n      <td>9.44</td>\\n    </tr>\\n    <tr>\\n      <td>1820</td>\\n      <td>Sales</td>\\n      <td>290</td>\\n      <td>371899</td>\\n      <td>Company C</td>\\n      <td>Monthly Sales</td>\\n      <td>2025-04</td>\\n      <td>Daily</td>\\n      <td>15:29</td>\\n      <td>15:46</td>\\n      <td>15.78</td>\\n    </tr>\\n    <tr>\\n      <td>5004</td>\\n      <td>Sales</td>\\n      <td>402</td>\\n      <td>647056</td>\\n      <td>Company A</td>\\n      <td>Marketing Analysis</td>\\n      <td>2022-09</td>\\n      <td>Daily</td>\\n      <td>02:43</td>\\n      <td>07:52</td>\\n      <td>23.56</td>\\n    </tr>\\n    <tr>\\n      <td>8254</td>\\n      <td>Marketing</td>\\n      <td>336</td>\\n      <td>977477</td>\\n      <td>Company B</td>\\n      <td>Monthly Sales</td>\\n      <td>2022-07</td>\\n      <td>Daily</td>\\n      <td>11:29</td>\\n      <td>12:39</td>\\n      <td>12.82</td>\\n    </tr>\\n    <tr>\\n      <td>8615</td>\\n      <td>Finance</td>\\n      <td>377</td>\\n      <td>213494</td>\\n      <td>Company A</td>\\n      <td>Monthly Sales</td>\\n      <td>2023-11</td>\\n      <td>Monthly</td>\\n      <td>08:04</td>\\n      <td>00:02</td>\\n      <td>1.53</td>\\n    </tr>\\n    <tr>\\n      <td>3541</td>\\n      <td>Finance</td>\\n      <td>618</td>\\n      <td>411684</td>\\n      <td>Company A</td>\\n      <td>Quarterly Financial</td>\\n      <td>2021-05</td>\\n      <td>Daily</td>\\n      <td>19:14</td>\\n      <td>23:00</td>\\n      <td>10.26</td>\\n    </tr>\\n    <tr>\\n      <td>2391</td>\\n      <td>Marketing</td>\\n      <td>749</td>\\n      <td>918046</td>\\n      <td>Company C</td>\\n      <td>Quarterly Financial</td>\\n      <td>2024-04</td>\\n      <td>Daily</td>\\n      <td>02:43</td>\\n      <td>08:04</td>\\n      <td>9.1</td>\\n    </tr>\\n    <tr>\\n      <td>8428</td>\\n      <td>Sales</td>\\n      <td>689</td>\\n      <td>106995</td>\\n      <td>Company B</td>\\n      <td>Quarterly Financial</td>\\n      <td>2024-02</td>\\n      <td>Monthly</td>\\n      <td>04:05</td>\\n      <td>18:18</td>\\n      <td>14.3</td>\\n    </tr>\\n    <tr>\\n      <td>8117</td>\\n      <td>Sales</td>\\n      <td>387</td>\\n      <td>642595</td>\\n      <td>Company C</td>\\n      <td>Quarterly Financial</td>\\n      <td>2022-10</td>\\n      <td>Monthly</td>\\n      <td>17:39</td>\\n      <td>13:34</td>\\n      <td>20.82</td>\\n    </tr>\\n    <tr>\\n      <td>9424</td>\\n      <td>Sales</td>\\n      <td>717</td>\\n      <td>325033</td>\\n      <td>Company B</td>\\n      <td>Quarterly Financial</td>\\n      <td>2021-07</td>\\n      <td>Weekly</td>\\n      <td>06:37</td>\\n      <td>21:39</td>\\n      <td>1.84</td>\\n    </tr>\\n    <tr>\\n      <td>4689</td>\\n      <td>Marketing</td>\\n      <td>522</td>\\n      <td>219981</td>\\n      <td>Company A</td>\\n      <td>Quarterly Financial</td>\\n      <td>2022-02</td>\\n      <td>Weekly</td>\\n      <td>02:43</td>\\n      <td>18:11</td>\\n      <td>15.49</td>\\n    </tr>\\n    <tr>\\n      <td>5125</td>\\n      <td>Finance</td>\\n      <td>651</td>\\n      <td>645390</td>\\n      <td>Company A</td>\\n      <td>Monthly Sales</td>\\n      <td>2024-05</td>\\n      <td>Daily</td>\\n      <td>01:35</td>\\n      <td>01:27</td>\\n      <td>6.09</td>\\n    </tr>\\n    <tr>\\n      <td>8911</td>\\n      <td>Marketing</td>\\n      <td>673</td>\\n      <td>222753</td>\\n      <td>Company B</td>\\n      <td>Quarterly Financial</td>\\n      <td>2023-04</td>\\n      <td>Weekly</td>\\n      <td>18:08</td>\\n      <td>10:47</td>\\n      <td>10.97</td>\\n    </tr>\\n  </tbody>\\n</table>', 'category': 'Table'}),\n",
       " Document(page_content='\\n\\n\\nCOMPANY_ID\\nENTITY\\nENTITY_ID\\nDB_KEY\\nCOMPANY_NAME\\nREPORT_NAME\\nREPORT_DATE\\nFREQUENCY\\nSTART_TIME\\nFINISH_TIME\\nELAPSED_HOURS\\n\\n\\n7065\\nMarketing\\n750\\n773017\\nCompany B\\nMonthly Sales\\n2023-06\\nDaily\\n02:33\\n04:06\\n17.39\\n\\n\\n7438\\nMarketing\\n705\\n365540\\nCompany C\\nMarketing Analysis\\n2023-06\\nMonthly\\n05:30\\n12:42\\n21.26\\n\\n\\n1642\\nSales\\n561\\n256618\\nCompany A\\nMarketing Analysis\\n2021-12\\nWeekly\\n07:20\\n04:30\\n4.17\\n\\n\\n8868\\nMarketing\\n229\\n313340\\nCompany A\\nQuarterly Financial\\n2021-10\\nMonthly\\n05:28\\n19:52\\n22.44\\n\\n\\n5438\\nSales\\n619\\n484982\\nCompany C\\nQuarterly Financial\\n2023-07\\nWeekly\\n04:42\\n00:11\\n17.28\\n\\n\\n7433\\nSales\\n151\\n207671\\nCompany A\\nQuarterly Financial\\n2021-12\\nDaily\\n17:35\\n06:15\\n22.53\\n\\n\\n7523\\nFinance\\n746\\n777356\\nCompany C\\nMarketing Analysis\\n2021-12\\nMonthly\\n13:38\\n20:15\\n10.46\\n\\n\\n4968\\nSales\\n979\\n281351\\nCompany B\\nQuarterly Financial\\n2023-06\\nWeekly\\n06:06\\n05:30\\n9.44\\n\\n\\n1820\\nSales\\n290\\n371899\\nCompany C\\nMonthly Sales\\n2025-04\\nDaily\\n15:29\\n15:46\\n15.78\\n\\n\\n5004\\nSales\\n402\\n647056\\nCompany A\\nMarketing Analysis\\n2022-09\\nDaily\\n02:43\\n07:52\\n23.56\\n\\n\\n8254\\nMarketing\\n336\\n977477\\nCompany B\\nMonthly Sales\\n2022-07\\nDaily\\n11:29\\n12:39\\n12.82\\n\\n\\n8615\\nFinance\\n377\\n213494\\nCompany A\\nMonthly Sales\\n2023-11\\nMonthly\\n08:04\\n00:02\\n1.53\\n\\n\\n3541\\nFinance\\n618\\n411684\\nCompany A\\nQuarterly Financial\\n2021-05\\nDaily\\n19:14\\n23:00\\n10.26\\n\\n\\n2391\\nMarketing\\n749\\n918046\\nCompany C\\nQuarterly Financial\\n2024-04\\nDaily\\n02:43\\n08:04\\n9.1\\n\\n\\n8428\\nSales\\n689\\n106995\\nCompany B\\nQuarterly Financial\\n2024-02\\nMonthly\\n04:05\\n18:18\\n14.3\\n\\n\\n8117\\nSales\\n387\\n642595\\nCompany C\\nQuarterly Financial\\n2022-10\\nMonthly\\n17:39\\n13:34\\n20.82\\n\\n\\n9424\\nSales\\n717\\n325033\\nCompany B\\nQuarterly Financial\\n2021-07\\nWeekly\\n06:37\\n21:39\\n1.84\\n\\n\\n4689\\nMarketing\\n522\\n219981\\nCompany A\\nQuarterly Financial\\n2022-02\\nWeekly\\n02:43\\n18:11\\n15.49\\n\\n\\n5125\\nFinance\\n651\\n645390\\nCompany A\\nMonthly Sales\\n2024-05\\nDaily\\n01:35\\n01:27\\n6.09\\n\\n\\n8911\\nMarketing\\n673\\n222753\\nCompany B\\nQuarterly Financial\\n2023-04\\nWeekly\\n18:08\\n10:47\\n10.97\\n\\n\\n', metadata={'source': './data/sample_data.xlsx', 'filename': 'sample_data.xlsx', 'file_directory': './data', 'last_modified': '2025-05-09T09:56:10', 'filetype': 'application/vnd.openxmlformats-officedocument.spreadsheetml.sheet', 'languages': ['eng'], 'page_number': 6, 'page_name': 'Top monthly web reports', 'text_as_html': '<table border=\"1\" class=\"dataframe\">\\n  <tbody>\\n    <tr>\\n      <td>COMPANY_ID</td>\\n      <td>ENTITY</td>\\n      <td>ENTITY_ID</td>\\n      <td>DB_KEY</td>\\n      <td>COMPANY_NAME</td>\\n      <td>REPORT_NAME</td>\\n      <td>REPORT_DATE</td>\\n      <td>FREQUENCY</td>\\n      <td>START_TIME</td>\\n      <td>FINISH_TIME</td>\\n      <td>ELAPSED_HOURS</td>\\n    </tr>\\n    <tr>\\n      <td>7065</td>\\n      <td>Marketing</td>\\n      <td>750</td>\\n      <td>773017</td>\\n      <td>Company B</td>\\n      <td>Monthly Sales</td>\\n      <td>2023-06</td>\\n      <td>Daily</td>\\n      <td>02:33</td>\\n      <td>04:06</td>\\n      <td>17.39</td>\\n    </tr>\\n    <tr>\\n      <td>7438</td>\\n      <td>Marketing</td>\\n      <td>705</td>\\n      <td>365540</td>\\n      <td>Company C</td>\\n      <td>Marketing Analysis</td>\\n      <td>2023-06</td>\\n      <td>Monthly</td>\\n      <td>05:30</td>\\n      <td>12:42</td>\\n      <td>21.26</td>\\n    </tr>\\n    <tr>\\n      <td>1642</td>\\n      <td>Sales</td>\\n      <td>561</td>\\n      <td>256618</td>\\n      <td>Company A</td>\\n      <td>Marketing Analysis</td>\\n      <td>2021-12</td>\\n      <td>Weekly</td>\\n      <td>07:20</td>\\n      <td>04:30</td>\\n      <td>4.17</td>\\n    </tr>\\n    <tr>\\n      <td>8868</td>\\n      <td>Marketing</td>\\n      <td>229</td>\\n      <td>313340</td>\\n      <td>Company A</td>\\n      <td>Quarterly Financial</td>\\n      <td>2021-10</td>\\n      <td>Monthly</td>\\n      <td>05:28</td>\\n      <td>19:52</td>\\n      <td>22.44</td>\\n    </tr>\\n    <tr>\\n      <td>5438</td>\\n      <td>Sales</td>\\n      <td>619</td>\\n      <td>484982</td>\\n      <td>Company C</td>\\n      <td>Quarterly Financial</td>\\n      <td>2023-07</td>\\n      <td>Weekly</td>\\n      <td>04:42</td>\\n      <td>00:11</td>\\n      <td>17.28</td>\\n    </tr>\\n    <tr>\\n      <td>7433</td>\\n      <td>Sales</td>\\n      <td>151</td>\\n      <td>207671</td>\\n      <td>Company A</td>\\n      <td>Quarterly Financial</td>\\n      <td>2021-12</td>\\n      <td>Daily</td>\\n      <td>17:35</td>\\n      <td>06:15</td>\\n      <td>22.53</td>\\n    </tr>\\n    <tr>\\n      <td>7523</td>\\n      <td>Finance</td>\\n      <td>746</td>\\n      <td>777356</td>\\n      <td>Company C</td>\\n      <td>Marketing Analysis</td>\\n      <td>2021-12</td>\\n      <td>Monthly</td>\\n      <td>13:38</td>\\n      <td>20:15</td>\\n      <td>10.46</td>\\n    </tr>\\n    <tr>\\n      <td>4968</td>\\n      <td>Sales</td>\\n      <td>979</td>\\n      <td>281351</td>\\n      <td>Company B</td>\\n      <td>Quarterly Financial</td>\\n      <td>2023-06</td>\\n      <td>Weekly</td>\\n      <td>06:06</td>\\n      <td>05:30</td>\\n      <td>9.44</td>\\n    </tr>\\n    <tr>\\n      <td>1820</td>\\n      <td>Sales</td>\\n      <td>290</td>\\n      <td>371899</td>\\n      <td>Company C</td>\\n      <td>Monthly Sales</td>\\n      <td>2025-04</td>\\n      <td>Daily</td>\\n      <td>15:29</td>\\n      <td>15:46</td>\\n      <td>15.78</td>\\n    </tr>\\n    <tr>\\n      <td>5004</td>\\n      <td>Sales</td>\\n      <td>402</td>\\n      <td>647056</td>\\n      <td>Company A</td>\\n      <td>Marketing Analysis</td>\\n      <td>2022-09</td>\\n      <td>Daily</td>\\n      <td>02:43</td>\\n      <td>07:52</td>\\n      <td>23.56</td>\\n    </tr>\\n    <tr>\\n      <td>8254</td>\\n      <td>Marketing</td>\\n      <td>336</td>\\n      <td>977477</td>\\n      <td>Company B</td>\\n      <td>Monthly Sales</td>\\n      <td>2022-07</td>\\n      <td>Daily</td>\\n      <td>11:29</td>\\n      <td>12:39</td>\\n      <td>12.82</td>\\n    </tr>\\n    <tr>\\n      <td>8615</td>\\n      <td>Finance</td>\\n      <td>377</td>\\n      <td>213494</td>\\n      <td>Company A</td>\\n      <td>Monthly Sales</td>\\n      <td>2023-11</td>\\n      <td>Monthly</td>\\n      <td>08:04</td>\\n      <td>00:02</td>\\n      <td>1.53</td>\\n    </tr>\\n    <tr>\\n      <td>3541</td>\\n      <td>Finance</td>\\n      <td>618</td>\\n      <td>411684</td>\\n      <td>Company A</td>\\n      <td>Quarterly Financial</td>\\n      <td>2021-05</td>\\n      <td>Daily</td>\\n      <td>19:14</td>\\n      <td>23:00</td>\\n      <td>10.26</td>\\n    </tr>\\n    <tr>\\n      <td>2391</td>\\n      <td>Marketing</td>\\n      <td>749</td>\\n      <td>918046</td>\\n      <td>Company C</td>\\n      <td>Quarterly Financial</td>\\n      <td>2024-04</td>\\n      <td>Daily</td>\\n      <td>02:43</td>\\n      <td>08:04</td>\\n      <td>9.1</td>\\n    </tr>\\n    <tr>\\n      <td>8428</td>\\n      <td>Sales</td>\\n      <td>689</td>\\n      <td>106995</td>\\n      <td>Company B</td>\\n      <td>Quarterly Financial</td>\\n      <td>2024-02</td>\\n      <td>Monthly</td>\\n      <td>04:05</td>\\n      <td>18:18</td>\\n      <td>14.3</td>\\n    </tr>\\n    <tr>\\n      <td>8117</td>\\n      <td>Sales</td>\\n      <td>387</td>\\n      <td>642595</td>\\n      <td>Company C</td>\\n      <td>Quarterly Financial</td>\\n      <td>2022-10</td>\\n      <td>Monthly</td>\\n      <td>17:39</td>\\n      <td>13:34</td>\\n      <td>20.82</td>\\n    </tr>\\n    <tr>\\n      <td>9424</td>\\n      <td>Sales</td>\\n      <td>717</td>\\n      <td>325033</td>\\n      <td>Company B</td>\\n      <td>Quarterly Financial</td>\\n      <td>2021-07</td>\\n      <td>Weekly</td>\\n      <td>06:37</td>\\n      <td>21:39</td>\\n      <td>1.84</td>\\n    </tr>\\n    <tr>\\n      <td>4689</td>\\n      <td>Marketing</td>\\n      <td>522</td>\\n      <td>219981</td>\\n      <td>Company A</td>\\n      <td>Quarterly Financial</td>\\n      <td>2022-02</td>\\n      <td>Weekly</td>\\n      <td>02:43</td>\\n      <td>18:11</td>\\n      <td>15.49</td>\\n    </tr>\\n    <tr>\\n      <td>5125</td>\\n      <td>Finance</td>\\n      <td>651</td>\\n      <td>645390</td>\\n      <td>Company A</td>\\n      <td>Monthly Sales</td>\\n      <td>2024-05</td>\\n      <td>Daily</td>\\n      <td>01:35</td>\\n      <td>01:27</td>\\n      <td>6.09</td>\\n    </tr>\\n    <tr>\\n      <td>8911</td>\\n      <td>Marketing</td>\\n      <td>673</td>\\n      <td>222753</td>\\n      <td>Company B</td>\\n      <td>Quarterly Financial</td>\\n      <td>2023-04</td>\\n      <td>Weekly</td>\\n      <td>18:08</td>\\n      <td>10:47</td>\\n      <td>10.97</td>\\n    </tr>\\n  </tbody>\\n</table>', 'category': 'Table'}),\n",
       " Document(page_content='\\n\\n\\nCOMPANY_ID\\nENTITY\\nENTITY_ID\\nDB_KEY\\nCOMPANY_NAME\\nREPORT_NAME\\nREPORT_DATE\\nFREQUENCY\\nSTART_TIME\\nFINISH_TIME\\nELAPSED_HOURS\\n\\n\\n7065\\nMarketing\\n750\\n773017\\nCompany B\\nMonthly Sales\\n2023-06\\nDaily\\n02:33\\n04:06\\n17.39\\n\\n\\n7438\\nMarketing\\n705\\n365540\\nCompany C\\nMarketing Analysis\\n2023-06\\nMonthly\\n05:30\\n12:42\\n21.26\\n\\n\\n8868\\nMarketing\\n229\\n313340\\nCompany A\\nQuarterly Financial\\n2021-10\\nMonthly\\n05:28\\n19:52\\n22.44\\n\\n\\n5438\\nSales\\n619\\n484982\\nCompany C\\nQuarterly Financial\\n2023-07\\nWeekly\\n04:42\\n00:11\\n17.28\\n\\n\\n7433\\nSales\\n151\\n207671\\nCompany A\\nQuarterly Financial\\n2021-12\\nDaily\\n17:35\\n06:15\\n22.53\\n\\n\\n7523\\nFinance\\n746\\n777356\\nCompany C\\nMarketing Analysis\\n2021-12\\nMonthly\\n13:38\\n20:15\\n10.46\\n\\n\\n1820\\nSales\\n290\\n371899\\nCompany C\\nMonthly Sales\\n2025-04\\nDaily\\n15:29\\n15:46\\n15.78\\n\\n\\n5004\\nSales\\n402\\n647056\\nCompany A\\nMarketing Analysis\\n2022-09\\nDaily\\n02:43\\n07:52\\n23.56\\n\\n\\n8254\\nMarketing\\n336\\n977477\\nCompany B\\nMonthly Sales\\n2022-07\\nDaily\\n11:29\\n12:39\\n12.82\\n\\n\\n3541\\nFinance\\n618\\n411684\\nCompany A\\nQuarterly Financial\\n2021-05\\nDaily\\n19:14\\n23:00\\n10.26\\n\\n\\n8428\\nSales\\n689\\n106995\\nCompany B\\nQuarterly Financial\\n2024-02\\nMonthly\\n04:05\\n18:18\\n14.3\\n\\n\\n8117\\nSales\\n387\\n642595\\nCompany C\\nQuarterly Financial\\n2022-10\\nMonthly\\n17:39\\n13:34\\n20.82\\n\\n\\n4689\\nMarketing\\n522\\n219981\\nCompany A\\nQuarterly Financial\\n2022-02\\nWeekly\\n02:43\\n18:11\\n15.49\\n\\n\\n8911\\nMarketing\\n673\\n222753\\nCompany B\\nQuarterly Financial\\n2023-04\\nWeekly\\n18:08\\n10:47\\n10.97\\n\\n\\n', metadata={'source': './data/sample_data.xlsx', 'filename': 'sample_data.xlsx', 'file_directory': './data', 'last_modified': '2025-05-09T09:56:10', 'filetype': 'application/vnd.openxmlformats-officedocument.spreadsheetml.sheet', 'languages': ['eng'], 'page_number': 7, 'page_name': 'Top monthly Grpt DFR reports (>10 hrs)', 'text_as_html': '<table border=\"1\" class=\"dataframe\">\\n  <tbody>\\n    <tr>\\n      <td>COMPANY_ID</td>\\n      <td>ENTITY</td>\\n      <td>ENTITY_ID</td>\\n      <td>DB_KEY</td>\\n      <td>COMPANY_NAME</td>\\n      <td>REPORT_NAME</td>\\n      <td>REPORT_DATE</td>\\n      <td>FREQUENCY</td>\\n      <td>START_TIME</td>\\n      <td>FINISH_TIME</td>\\n      <td>ELAPSED_HOURS</td>\\n    </tr>\\n    <tr>\\n      <td>7065</td>\\n      <td>Marketing</td>\\n      <td>750</td>\\n      <td>773017</td>\\n      <td>Company B</td>\\n      <td>Monthly Sales</td>\\n      <td>2023-06</td>\\n      <td>Daily</td>\\n      <td>02:33</td>\\n      <td>04:06</td>\\n      <td>17.39</td>\\n    </tr>\\n    <tr>\\n      <td>7438</td>\\n      <td>Marketing</td>\\n      <td>705</td>\\n      <td>365540</td>\\n      <td>Company C</td>\\n      <td>Marketing Analysis</td>\\n      <td>2023-06</td>\\n      <td>Monthly</td>\\n      <td>05:30</td>\\n      <td>12:42</td>\\n      <td>21.26</td>\\n    </tr>\\n    <tr>\\n      <td>8868</td>\\n      <td>Marketing</td>\\n      <td>229</td>\\n      <td>313340</td>\\n      <td>Company A</td>\\n      <td>Quarterly Financial</td>\\n      <td>2021-10</td>\\n      <td>Monthly</td>\\n      <td>05:28</td>\\n      <td>19:52</td>\\n      <td>22.44</td>\\n    </tr>\\n    <tr>\\n      <td>5438</td>\\n      <td>Sales</td>\\n      <td>619</td>\\n      <td>484982</td>\\n      <td>Company C</td>\\n      <td>Quarterly Financial</td>\\n      <td>2023-07</td>\\n      <td>Weekly</td>\\n      <td>04:42</td>\\n      <td>00:11</td>\\n      <td>17.28</td>\\n    </tr>\\n    <tr>\\n      <td>7433</td>\\n      <td>Sales</td>\\n      <td>151</td>\\n      <td>207671</td>\\n      <td>Company A</td>\\n      <td>Quarterly Financial</td>\\n      <td>2021-12</td>\\n      <td>Daily</td>\\n      <td>17:35</td>\\n      <td>06:15</td>\\n      <td>22.53</td>\\n    </tr>\\n    <tr>\\n      <td>7523</td>\\n      <td>Finance</td>\\n      <td>746</td>\\n      <td>777356</td>\\n      <td>Company C</td>\\n      <td>Marketing Analysis</td>\\n      <td>2021-12</td>\\n      <td>Monthly</td>\\n      <td>13:38</td>\\n      <td>20:15</td>\\n      <td>10.46</td>\\n    </tr>\\n    <tr>\\n      <td>1820</td>\\n      <td>Sales</td>\\n      <td>290</td>\\n      <td>371899</td>\\n      <td>Company C</td>\\n      <td>Monthly Sales</td>\\n      <td>2025-04</td>\\n      <td>Daily</td>\\n      <td>15:29</td>\\n      <td>15:46</td>\\n      <td>15.78</td>\\n    </tr>\\n    <tr>\\n      <td>5004</td>\\n      <td>Sales</td>\\n      <td>402</td>\\n      <td>647056</td>\\n      <td>Company A</td>\\n      <td>Marketing Analysis</td>\\n      <td>2022-09</td>\\n      <td>Daily</td>\\n      <td>02:43</td>\\n      <td>07:52</td>\\n      <td>23.56</td>\\n    </tr>\\n    <tr>\\n      <td>8254</td>\\n      <td>Marketing</td>\\n      <td>336</td>\\n      <td>977477</td>\\n      <td>Company B</td>\\n      <td>Monthly Sales</td>\\n      <td>2022-07</td>\\n      <td>Daily</td>\\n      <td>11:29</td>\\n      <td>12:39</td>\\n      <td>12.82</td>\\n    </tr>\\n    <tr>\\n      <td>3541</td>\\n      <td>Finance</td>\\n      <td>618</td>\\n      <td>411684</td>\\n      <td>Company A</td>\\n      <td>Quarterly Financial</td>\\n      <td>2021-05</td>\\n      <td>Daily</td>\\n      <td>19:14</td>\\n      <td>23:00</td>\\n      <td>10.26</td>\\n    </tr>\\n    <tr>\\n      <td>8428</td>\\n      <td>Sales</td>\\n      <td>689</td>\\n      <td>106995</td>\\n      <td>Company B</td>\\n      <td>Quarterly Financial</td>\\n      <td>2024-02</td>\\n      <td>Monthly</td>\\n      <td>04:05</td>\\n      <td>18:18</td>\\n      <td>14.3</td>\\n    </tr>\\n    <tr>\\n      <td>8117</td>\\n      <td>Sales</td>\\n      <td>387</td>\\n      <td>642595</td>\\n      <td>Company C</td>\\n      <td>Quarterly Financial</td>\\n      <td>2022-10</td>\\n      <td>Monthly</td>\\n      <td>17:39</td>\\n      <td>13:34</td>\\n      <td>20.82</td>\\n    </tr>\\n    <tr>\\n      <td>4689</td>\\n      <td>Marketing</td>\\n      <td>522</td>\\n      <td>219981</td>\\n      <td>Company A</td>\\n      <td>Quarterly Financial</td>\\n      <td>2022-02</td>\\n      <td>Weekly</td>\\n      <td>02:43</td>\\n      <td>18:11</td>\\n      <td>15.49</td>\\n    </tr>\\n    <tr>\\n      <td>8911</td>\\n      <td>Marketing</td>\\n      <td>673</td>\\n      <td>222753</td>\\n      <td>Company B</td>\\n      <td>Quarterly Financial</td>\\n      <td>2023-04</td>\\n      <td>Weekly</td>\\n      <td>18:08</td>\\n      <td>10:47</td>\\n      <td>10.97</td>\\n    </tr>\\n  </tbody>\\n</table>', 'category': 'Table'}),\n",
       " Document(page_content='\\n\\n\\nREPORT_DATE\\nSTART_TIME\\nFINISH_TIME\\nMAX_DURATION_HOURS\\n\\n\\n2021-04\\n08:47\\n04:10\\n6.11\\n\\n\\n2021-05\\n07:02\\n21:04\\n19.38\\n\\n\\n2021-06\\n12:16\\n01:40\\n9.12\\n\\n\\n2021-07\\n04:08\\n09:25\\n19.53\\n\\n\\n2021-08\\n14:56\\n20:30\\n13.16\\n\\n\\n2021-09\\n00:36\\n00:48\\n14.12\\n\\n\\n2021-10\\n03:54\\n20:02\\n15.68\\n\\n\\n2021-11\\n03:41\\n01:39\\n16.72\\n\\n\\n2021-12\\n15:55\\n22:42\\n10.99\\n\\n\\n2022-01\\n17:35\\n11:17\\n16.98\\n\\n\\n2022-02\\n13:09\\n21:04\\n9.09\\n\\n\\n2022-03\\n21:23\\n18:44\\n12.08\\n\\n\\n2022-04\\n03:21\\n15:51\\n7.12\\n\\n\\n2022-05\\n22:19\\n19:41\\n6.62\\n\\n\\n2022-06\\n06:52\\n16:48\\n9.39\\n\\n\\n2022-07\\n20:44\\n08:34\\n12.66\\n\\n\\n2022-08\\n20:14\\n08:38\\n13.28\\n\\n\\n2022-09\\n10:48\\n01:02\\n5.71\\n\\n\\n2022-10\\n08:43\\n13:36\\n18.48\\n\\n\\n2022-11\\n03:36\\n03:30\\n9.51\\n\\n\\n', metadata={'source': './data/sample_data.xlsx', 'filename': 'sample_data.xlsx', 'file_directory': './data', 'last_modified': '2025-05-09T09:56:10', 'filetype': 'application/vnd.openxmlformats-officedocument.spreadsheetml.sheet', 'languages': ['eng'], 'page_number': 8, 'page_name': 'Monthend Duration Web GRPT', 'text_as_html': '<table border=\"1\" class=\"dataframe\">\\n  <tbody>\\n    <tr>\\n      <td>REPORT_DATE</td>\\n      <td>START_TIME</td>\\n      <td>FINISH_TIME</td>\\n      <td>MAX_DURATION_HOURS</td>\\n    </tr>\\n    <tr>\\n      <td>2021-04</td>\\n      <td>08:47</td>\\n      <td>04:10</td>\\n      <td>6.11</td>\\n    </tr>\\n    <tr>\\n      <td>2021-05</td>\\n      <td>07:02</td>\\n      <td>21:04</td>\\n      <td>19.38</td>\\n    </tr>\\n    <tr>\\n      <td>2021-06</td>\\n      <td>12:16</td>\\n      <td>01:40</td>\\n      <td>9.12</td>\\n    </tr>\\n    <tr>\\n      <td>2021-07</td>\\n      <td>04:08</td>\\n      <td>09:25</td>\\n      <td>19.53</td>\\n    </tr>\\n    <tr>\\n      <td>2021-08</td>\\n      <td>14:56</td>\\n      <td>20:30</td>\\n      <td>13.16</td>\\n    </tr>\\n    <tr>\\n      <td>2021-09</td>\\n      <td>00:36</td>\\n      <td>00:48</td>\\n      <td>14.12</td>\\n    </tr>\\n    <tr>\\n      <td>2021-10</td>\\n      <td>03:54</td>\\n      <td>20:02</td>\\n      <td>15.68</td>\\n    </tr>\\n    <tr>\\n      <td>2021-11</td>\\n      <td>03:41</td>\\n      <td>01:39</td>\\n      <td>16.72</td>\\n    </tr>\\n    <tr>\\n      <td>2021-12</td>\\n      <td>15:55</td>\\n      <td>22:42</td>\\n      <td>10.99</td>\\n    </tr>\\n    <tr>\\n      <td>2022-01</td>\\n      <td>17:35</td>\\n      <td>11:17</td>\\n      <td>16.98</td>\\n    </tr>\\n    <tr>\\n      <td>2022-02</td>\\n      <td>13:09</td>\\n      <td>21:04</td>\\n      <td>9.09</td>\\n    </tr>\\n    <tr>\\n      <td>2022-03</td>\\n      <td>21:23</td>\\n      <td>18:44</td>\\n      <td>12.08</td>\\n    </tr>\\n    <tr>\\n      <td>2022-04</td>\\n      <td>03:21</td>\\n      <td>15:51</td>\\n      <td>7.12</td>\\n    </tr>\\n    <tr>\\n      <td>2022-05</td>\\n      <td>22:19</td>\\n      <td>19:41</td>\\n      <td>6.62</td>\\n    </tr>\\n    <tr>\\n      <td>2022-06</td>\\n      <td>06:52</td>\\n      <td>16:48</td>\\n      <td>9.39</td>\\n    </tr>\\n    <tr>\\n      <td>2022-07</td>\\n      <td>20:44</td>\\n      <td>08:34</td>\\n      <td>12.66</td>\\n    </tr>\\n    <tr>\\n      <td>2022-08</td>\\n      <td>20:14</td>\\n      <td>08:38</td>\\n      <td>13.28</td>\\n    </tr>\\n    <tr>\\n      <td>2022-09</td>\\n      <td>10:48</td>\\n      <td>01:02</td>\\n      <td>5.71</td>\\n    </tr>\\n    <tr>\\n      <td>2022-10</td>\\n      <td>08:43</td>\\n      <td>13:36</td>\\n      <td>18.48</td>\\n    </tr>\\n    <tr>\\n      <td>2022-11</td>\\n      <td>03:36</td>\\n      <td>03:30</td>\\n      <td>9.51</td>\\n    </tr>\\n  </tbody>\\n</table>', 'category': 'Table'}),\n",
       " Document(page_content='\\n\\n\\nREPORT_DATE\\nSTART_TIME\\nFINISH_TIME\\nELAPSED_HOURS\\n\\n\\n2023-08-10\\n17:30\\n20:20\\n1.45\\n\\n\\n2023-02-12\\n13:45\\n12:40\\n2.98\\n\\n\\n2023-11-14\\n12:43\\n14:48\\n3.8\\n\\n\\n2022-08-21\\n03:28\\n15:37\\n5.4\\n\\n\\n2021-12-15\\n08:46\\n16:27\\n4.71\\n\\n\\n2023-12-01\\n00:30\\n15:01\\n11.96\\n\\n\\n2025-02-01\\n10:40\\n22:06\\n5.26\\n\\n\\n2024-01-06\\n09:11\\n19:27\\n11.74\\n\\n\\n2023-12-06\\n23:22\\n06:05\\n7.77\\n\\n\\n2023-12-25\\n02:52\\n09:39\\n11.67\\n\\n\\n2021-11-05\\n15:19\\n02:16\\n10.54\\n\\n\\n2021-07-15\\n21:22\\n15:06\\n5.72\\n\\n\\n2024-11-28\\n19:33\\n04:08\\n9.77\\n\\n\\n2022-03-08\\n19:34\\n16:54\\n9.77\\n\\n\\n2023-10-17\\n15:01\\n13:22\\n3.46\\n\\n\\n2023-01-05\\n19:51\\n23:21\\n3.43\\n\\n\\n2022-04-18\\n03:10\\n08:27\\n2.75\\n\\n\\n2022-02-01\\n05:32\\n02:34\\n4.1\\n\\n\\n2025-01-29\\n17:34\\n20:27\\n8.21\\n\\n\\n2024-01-28\\n16:29\\n22:14\\n5.66\\n\\n\\n', metadata={'source': './data/sample_data.xlsx', 'filename': 'sample_data.xlsx', 'file_directory': './data', 'last_modified': '2025-05-09T09:56:10', 'filetype': 'application/vnd.openxmlformats-officedocument.spreadsheetml.sheet', 'languages': ['eng'], 'page_number': 9, 'page_name': 'Daily Web', 'text_as_html': '<table border=\"1\" class=\"dataframe\">\\n  <tbody>\\n    <tr>\\n      <td>REPORT_DATE</td>\\n      <td>START_TIME</td>\\n      <td>FINISH_TIME</td>\\n      <td>ELAPSED_HOURS</td>\\n    </tr>\\n    <tr>\\n      <td>2023-08-10</td>\\n      <td>17:30</td>\\n      <td>20:20</td>\\n      <td>1.45</td>\\n    </tr>\\n    <tr>\\n      <td>2023-02-12</td>\\n      <td>13:45</td>\\n      <td>12:40</td>\\n      <td>2.98</td>\\n    </tr>\\n    <tr>\\n      <td>2023-11-14</td>\\n      <td>12:43</td>\\n      <td>14:48</td>\\n      <td>3.8</td>\\n    </tr>\\n    <tr>\\n      <td>2022-08-21</td>\\n      <td>03:28</td>\\n      <td>15:37</td>\\n      <td>5.4</td>\\n    </tr>\\n    <tr>\\n      <td>2021-12-15</td>\\n      <td>08:46</td>\\n      <td>16:27</td>\\n      <td>4.71</td>\\n    </tr>\\n    <tr>\\n      <td>2023-12-01</td>\\n      <td>00:30</td>\\n      <td>15:01</td>\\n      <td>11.96</td>\\n    </tr>\\n    <tr>\\n      <td>2025-02-01</td>\\n      <td>10:40</td>\\n      <td>22:06</td>\\n      <td>5.26</td>\\n    </tr>\\n    <tr>\\n      <td>2024-01-06</td>\\n      <td>09:11</td>\\n      <td>19:27</td>\\n      <td>11.74</td>\\n    </tr>\\n    <tr>\\n      <td>2023-12-06</td>\\n      <td>23:22</td>\\n      <td>06:05</td>\\n      <td>7.77</td>\\n    </tr>\\n    <tr>\\n      <td>2023-12-25</td>\\n      <td>02:52</td>\\n      <td>09:39</td>\\n      <td>11.67</td>\\n    </tr>\\n    <tr>\\n      <td>2021-11-05</td>\\n      <td>15:19</td>\\n      <td>02:16</td>\\n      <td>10.54</td>\\n    </tr>\\n    <tr>\\n      <td>2021-07-15</td>\\n      <td>21:22</td>\\n      <td>15:06</td>\\n      <td>5.72</td>\\n    </tr>\\n    <tr>\\n      <td>2024-11-28</td>\\n      <td>19:33</td>\\n      <td>04:08</td>\\n      <td>9.77</td>\\n    </tr>\\n    <tr>\\n      <td>2022-03-08</td>\\n      <td>19:34</td>\\n      <td>16:54</td>\\n      <td>9.77</td>\\n    </tr>\\n    <tr>\\n      <td>2023-10-17</td>\\n      <td>15:01</td>\\n      <td>13:22</td>\\n      <td>3.46</td>\\n    </tr>\\n    <tr>\\n      <td>2023-01-05</td>\\n      <td>19:51</td>\\n      <td>23:21</td>\\n      <td>3.43</td>\\n    </tr>\\n    <tr>\\n      <td>2022-04-18</td>\\n      <td>03:10</td>\\n      <td>08:27</td>\\n      <td>2.75</td>\\n    </tr>\\n    <tr>\\n      <td>2022-02-01</td>\\n      <td>05:32</td>\\n      <td>02:34</td>\\n      <td>4.1</td>\\n    </tr>\\n    <tr>\\n      <td>2025-01-29</td>\\n      <td>17:34</td>\\n      <td>20:27</td>\\n      <td>8.21</td>\\n    </tr>\\n    <tr>\\n      <td>2024-01-28</td>\\n      <td>16:29</td>\\n      <td>22:14</td>\\n      <td>5.66</td>\\n    </tr>\\n  </tbody>\\n</table>', 'category': 'Table'})]"
      ]
     },
     "execution_count": 8,
     "metadata": {},
     "output_type": "execute_result"
    }
   ],
   "source": [
    "docs"
   ]
  },
  {
   "cell_type": "code",
   "execution_count": 9,
   "id": "29e97824",
   "metadata": {},
   "outputs": [],
   "source": [
    "# Chunk the documents\n",
    "# chunked_docs = chunk_docs_recursive(docs, max_chunk_size=1000)\n",
    "# chunked_docs"
   ]
  },
  {
   "cell_type": "markdown",
   "id": "1407fff8",
   "metadata": {},
   "source": [
    "### Vector DB"
   ]
  },
  {
   "cell_type": "code",
   "execution_count": 10,
   "id": "267ec3d3",
   "metadata": {},
   "outputs": [],
   "source": [
    "from langchain_openai import OpenAIEmbeddings\n",
    "from langchain_openai import AzureOpenAIEmbeddings"
   ]
  },
  {
   "cell_type": "code",
   "execution_count": 11,
   "id": "986bcb28",
   "metadata": {},
   "outputs": [],
   "source": [
    "persist_directory = \"./vector_db\"\n",
    "collection_name = \"algo_aces\"\n",
    "# embedding_model = OpenAIEmbeddings(model=\"text-embedding-ada-002\")\n",
    "embedding_model = AzureOpenAIEmbeddings(model=st.secrets[\"AZURE_OPENAI_EMBEDDING_MODEL\"])"
   ]
  },
  {
   "cell_type": "code",
   "execution_count": 12,
   "id": "1dfca3e5",
   "metadata": {},
   "outputs": [],
   "source": [
    "db = get_vector_db(persist_directory = persist_directory, \n",
    "                    embedding_function = embedding_model,\n",
    "                    collection_name = collection_name)"
   ]
  },
  {
   "cell_type": "code",
   "execution_count": 13,
   "id": "592df1f9",
   "metadata": {},
   "outputs": [],
   "source": [
    "documents = create_document_list(docs)"
   ]
  },
  {
   "cell_type": "code",
   "execution_count": 14,
   "id": "d2ffb086",
   "metadata": {},
   "outputs": [
    {
     "data": {
      "text/plain": [
       "[Document(page_content='\\n\\n\\nREPORT_DATE\\nSTART_TIME\\nFINISH_TIME\\nELAPSED_HOURS\\n\\n\\n2023-05-18\\n07:07\\n12:50\\n11.49\\n\\n\\n2025-01-26\\n02:31\\n16:07\\n10.84\\n\\n\\n2023-08-13\\n21:46\\n13:45\\n6.66\\n\\n\\n2022-03-08\\n13:58\\n12:40\\n4.54\\n\\n\\n2024-02-08\\n06:44\\n21:30\\n9.64\\n\\n\\n2025-04-01\\n02:22\\n06:46\\n6.68\\n\\n\\n2024-07-22\\n09:08\\n19:09\\n6.75\\n\\n\\n2024-09-14\\n16:38\\n04:10\\n7.4\\n\\n\\n2023-02-07\\n20:17\\n03:42\\n1.88\\n\\n\\n2024-01-08\\n09:10\\n00:21\\n4.27\\n\\n\\n2021-09-27\\n09:30\\n12:47\\n5.59\\n\\n\\n2023-12-12\\n20:37\\n02:11\\n6.5\\n\\n\\n2023-12-19\\n19:47\\n22:41\\n11.02\\n\\n\\n2022-01-15\\n20:48\\n02:32\\n9.07\\n\\n\\n2024-02-10\\n14:28\\n10:52\\n7.96\\n\\n\\n2021-11-08\\n11:28\\n03:58\\n7.68\\n\\n\\n2024-11-15\\n12:44\\n15:35\\n2.1\\n\\n\\n2025-01-28\\n09:38\\n16:59\\n4.83\\n\\n\\n2023-07-14\\n09:24\\n16:55\\n7.69\\n\\n\\n2024-12-24\\n23:47\\n22:21\\n6.72\\n\\n\\n', metadata={'page_name': 'Daily DFR'}),\n",
       " Document(page_content='\\n\\n\\nDate\\nAuth\\nTxn\\n\\n\\n2023-06-08\\n1284\\n458\\n\\n\\n2023-05-21\\n3044\\n834\\n\\n\\n2024-01-04\\n3929\\n787\\n\\n\\n2021-09-21\\n4647\\n375\\n\\n\\n2025-02-21\\n4711\\n791\\n\\n\\n2023-01-28\\n3526\\n551\\n\\n\\n2021-11-02\\n2455\\n650\\n\\n\\n2024-07-16\\n3675\\n334\\n\\n\\n2025-01-26\\n4651\\n542\\n\\n\\n2024-09-06\\n2223\\n589\\n\\n\\n2024-11-01\\n1352\\n334\\n\\n\\n2024-10-24\\n1666\\n113\\n\\n\\n2023-08-29\\n1106\\n908\\n\\n\\n2022-03-03\\n3124\\n390\\n\\n\\n2023-06-28\\n4224\\n902\\n\\n\\n2023-05-10\\n4609\\n721\\n\\n\\n2024-09-09\\n4184\\n863\\n\\n\\n2025-03-22\\n2421\\n142\\n\\n\\n2022-03-21\\n1339\\n420\\n\\n\\n2023-09-05\\n2987\\n107\\n\\n\\n', metadata={'page_name': 'Volume All'}),\n",
       " Document(page_content='\\n\\n\\nMonth\\nMetropolitan (MTA)\\n\\n\\n2021-04\\n14640\\n\\n\\n2021-05\\n26012\\n\\n\\n2021-06\\n22634\\n\\n\\n2021-07\\n19092\\n\\n\\n2021-08\\n40334\\n\\n\\n2021-09\\n46717\\n\\n\\n2021-10\\n34471\\n\\n\\n2021-11\\n19907\\n\\n\\n2021-12\\n17799\\n\\n\\n2022-01\\n33503\\n\\n\\n2022-02\\n18773\\n\\n\\n2022-03\\n39092\\n\\n\\n2022-04\\n43233\\n\\n\\n2022-05\\n17433\\n\\n\\n2022-06\\n48681\\n\\n\\n2022-07\\n13897\\n\\n\\n2022-08\\n25550\\n\\n\\n2022-09\\n47165\\n\\n\\n2022-10\\n11652\\n\\n\\n2022-11\\n31454\\n\\n\\n', metadata={'page_name': 'Volume (Subm)-Top Merchants'}),\n",
       " Document(page_content='\\n\\n\\nCOMPANY_ID\\nENTITY\\nENTITY_ID\\nDB_KEY\\nCOMPANY_NAME\\nREPORT_NAME\\nREPORT_DATE\\nFREQUENCY\\nSTART_TIME\\nFINISH_TIME\\nELAPSED_HOURS\\n\\n\\n7065\\nMarketing\\n750\\n773017\\nCompany B\\nMonthly Sales\\n2023-06\\nDaily\\n02:33\\n04:06\\n17.39\\n\\n\\n7438\\nMarketing\\n705\\n365540\\nCompany C\\nMarketing Analysis\\n2023-06\\nMonthly\\n05:30\\n12:42\\n21.26\\n\\n\\n1642\\nSales\\n561\\n256618\\nCompany A\\nMarketing Analysis\\n2021-12\\nWeekly\\n07:20\\n04:30\\n4.17\\n\\n\\n8868\\nMarketing\\n229\\n313340\\nCompany A\\nQuarterly Financial\\n2021-10\\nMonthly\\n05:28\\n19:52\\n22.44\\n\\n\\n5438\\nSales\\n619\\n484982\\nCompany C\\nQuarterly Financial\\n2023-07\\nWeekly\\n04:42\\n00:11\\n17.28\\n\\n\\n7433\\nSales\\n151\\n207671\\nCompany A\\nQuarterly Financial\\n2021-12\\nDaily\\n17:35\\n06:15\\n22.53\\n\\n\\n7523\\nFinance\\n746\\n777356\\nCompany C\\nMarketing Analysis\\n2021-12\\nMonthly\\n13:38\\n20:15\\n10.46\\n\\n\\n4968\\nSales\\n979\\n281351\\nCompany B\\nQuarterly Financial\\n2023-06\\nWeekly\\n06:06\\n05:30\\n9.44\\n\\n\\n1820\\nSales\\n290\\n371899\\nCompany C\\nMonthly Sales\\n2025-04\\nDaily\\n15:29\\n15:46\\n15.78\\n\\n\\n5004\\nSales\\n402\\n647056\\nCompany A\\nMarketing Analysis\\n2022-09\\nDaily\\n02:43\\n07:52\\n23.56\\n\\n\\n8254\\nMarketing\\n336\\n977477\\nCompany B\\nMonthly Sales\\n2022-07\\nDaily\\n11:29\\n12:39\\n12.82\\n\\n\\n8615\\nFinance\\n377\\n213494\\nCompany A\\nMonthly Sales\\n2023-11\\nMonthly\\n08:04\\n00:02\\n1.53\\n\\n\\n3541\\nFinance\\n618\\n411684\\nCompany A\\nQuarterly Financial\\n2021-05\\nDaily\\n19:14\\n23:00\\n10.26\\n\\n\\n2391\\nMarketing\\n749\\n918046\\nCompany C\\nQuarterly Financial\\n2024-04\\nDaily\\n02:43\\n08:04\\n9.1\\n\\n\\n8428\\nSales\\n689\\n106995\\nCompany B\\nQuarterly Financial\\n2024-02\\nMonthly\\n04:05\\n18:18\\n14.3\\n\\n\\n8117\\nSales\\n387\\n642595\\nCompany C\\nQuarterly Financial\\n2022-10\\nMonthly\\n17:39\\n13:34\\n20.82\\n\\n\\n9424\\nSales\\n717\\n325033\\nCompany B\\nQuarterly Financial\\n2021-07\\nWeekly\\n06:37\\n21:39\\n1.84\\n\\n\\n4689\\nMarketing\\n522\\n219981\\nCompany A\\nQuarterly Financial\\n2022-02\\nWeekly\\n02:43\\n18:11\\n15.49\\n\\n\\n5125\\nFinance\\n651\\n645390\\nCompany A\\nMonthly Sales\\n2024-05\\nDaily\\n01:35\\n01:27\\n6.09\\n\\n\\n8911\\nMarketing\\n673\\n222753\\nCompany B\\nQuarterly Financial\\n2023-04\\nWeekly\\n18:08\\n10:47\\n10.97\\n\\n\\n', metadata={'page_name': 'Daily Top Web Reports'}),\n",
       " Document(page_content='\\n\\n\\nCOMPANY_ID\\nENTITY\\nENTITY_ID\\nDB_KEY\\nCOMPANY_NAME\\nREPORT_NAME\\nREPORT_DATE\\nFREQUENCY\\nSTART_TIME\\nFINISH_TIME\\nELAPSED_HOURS\\n\\n\\n7065\\nMarketing\\n750\\n773017\\nCompany B\\nMonthly Sales\\n2023-06\\nDaily\\n02:33\\n04:06\\n17.39\\n\\n\\n7438\\nMarketing\\n705\\n365540\\nCompany C\\nMarketing Analysis\\n2023-06\\nMonthly\\n05:30\\n12:42\\n21.26\\n\\n\\n1642\\nSales\\n561\\n256618\\nCompany A\\nMarketing Analysis\\n2021-12\\nWeekly\\n07:20\\n04:30\\n4.17\\n\\n\\n8868\\nMarketing\\n229\\n313340\\nCompany A\\nQuarterly Financial\\n2021-10\\nMonthly\\n05:28\\n19:52\\n22.44\\n\\n\\n5438\\nSales\\n619\\n484982\\nCompany C\\nQuarterly Financial\\n2023-07\\nWeekly\\n04:42\\n00:11\\n17.28\\n\\n\\n7433\\nSales\\n151\\n207671\\nCompany A\\nQuarterly Financial\\n2021-12\\nDaily\\n17:35\\n06:15\\n22.53\\n\\n\\n7523\\nFinance\\n746\\n777356\\nCompany C\\nMarketing Analysis\\n2021-12\\nMonthly\\n13:38\\n20:15\\n10.46\\n\\n\\n4968\\nSales\\n979\\n281351\\nCompany B\\nQuarterly Financial\\n2023-06\\nWeekly\\n06:06\\n05:30\\n9.44\\n\\n\\n1820\\nSales\\n290\\n371899\\nCompany C\\nMonthly Sales\\n2025-04\\nDaily\\n15:29\\n15:46\\n15.78\\n\\n\\n5004\\nSales\\n402\\n647056\\nCompany A\\nMarketing Analysis\\n2022-09\\nDaily\\n02:43\\n07:52\\n23.56\\n\\n\\n8254\\nMarketing\\n336\\n977477\\nCompany B\\nMonthly Sales\\n2022-07\\nDaily\\n11:29\\n12:39\\n12.82\\n\\n\\n8615\\nFinance\\n377\\n213494\\nCompany A\\nMonthly Sales\\n2023-11\\nMonthly\\n08:04\\n00:02\\n1.53\\n\\n\\n3541\\nFinance\\n618\\n411684\\nCompany A\\nQuarterly Financial\\n2021-05\\nDaily\\n19:14\\n23:00\\n10.26\\n\\n\\n2391\\nMarketing\\n749\\n918046\\nCompany C\\nQuarterly Financial\\n2024-04\\nDaily\\n02:43\\n08:04\\n9.1\\n\\n\\n8428\\nSales\\n689\\n106995\\nCompany B\\nQuarterly Financial\\n2024-02\\nMonthly\\n04:05\\n18:18\\n14.3\\n\\n\\n8117\\nSales\\n387\\n642595\\nCompany C\\nQuarterly Financial\\n2022-10\\nMonthly\\n17:39\\n13:34\\n20.82\\n\\n\\n9424\\nSales\\n717\\n325033\\nCompany B\\nQuarterly Financial\\n2021-07\\nWeekly\\n06:37\\n21:39\\n1.84\\n\\n\\n4689\\nMarketing\\n522\\n219981\\nCompany A\\nQuarterly Financial\\n2022-02\\nWeekly\\n02:43\\n18:11\\n15.49\\n\\n\\n5125\\nFinance\\n651\\n645390\\nCompany A\\nMonthly Sales\\n2024-05\\nDaily\\n01:35\\n01:27\\n6.09\\n\\n\\n8911\\nMarketing\\n673\\n222753\\nCompany B\\nQuarterly Financial\\n2023-04\\nWeekly\\n18:08\\n10:47\\n10.97\\n\\n\\n', metadata={'page_name': 'Daily Top GRPT DFR Reports'}),\n",
       " Document(page_content='\\n\\n\\nCOMPANY_ID\\nENTITY\\nENTITY_ID\\nDB_KEY\\nCOMPANY_NAME\\nREPORT_NAME\\nREPORT_DATE\\nFREQUENCY\\nSTART_TIME\\nFINISH_TIME\\nELAPSED_HOURS\\n\\n\\n7065\\nMarketing\\n750\\n773017\\nCompany B\\nMonthly Sales\\n2023-06\\nDaily\\n02:33\\n04:06\\n17.39\\n\\n\\n7438\\nMarketing\\n705\\n365540\\nCompany C\\nMarketing Analysis\\n2023-06\\nMonthly\\n05:30\\n12:42\\n21.26\\n\\n\\n1642\\nSales\\n561\\n256618\\nCompany A\\nMarketing Analysis\\n2021-12\\nWeekly\\n07:20\\n04:30\\n4.17\\n\\n\\n8868\\nMarketing\\n229\\n313340\\nCompany A\\nQuarterly Financial\\n2021-10\\nMonthly\\n05:28\\n19:52\\n22.44\\n\\n\\n5438\\nSales\\n619\\n484982\\nCompany C\\nQuarterly Financial\\n2023-07\\nWeekly\\n04:42\\n00:11\\n17.28\\n\\n\\n7433\\nSales\\n151\\n207671\\nCompany A\\nQuarterly Financial\\n2021-12\\nDaily\\n17:35\\n06:15\\n22.53\\n\\n\\n7523\\nFinance\\n746\\n777356\\nCompany C\\nMarketing Analysis\\n2021-12\\nMonthly\\n13:38\\n20:15\\n10.46\\n\\n\\n4968\\nSales\\n979\\n281351\\nCompany B\\nQuarterly Financial\\n2023-06\\nWeekly\\n06:06\\n05:30\\n9.44\\n\\n\\n1820\\nSales\\n290\\n371899\\nCompany C\\nMonthly Sales\\n2025-04\\nDaily\\n15:29\\n15:46\\n15.78\\n\\n\\n5004\\nSales\\n402\\n647056\\nCompany A\\nMarketing Analysis\\n2022-09\\nDaily\\n02:43\\n07:52\\n23.56\\n\\n\\n8254\\nMarketing\\n336\\n977477\\nCompany B\\nMonthly Sales\\n2022-07\\nDaily\\n11:29\\n12:39\\n12.82\\n\\n\\n8615\\nFinance\\n377\\n213494\\nCompany A\\nMonthly Sales\\n2023-11\\nMonthly\\n08:04\\n00:02\\n1.53\\n\\n\\n3541\\nFinance\\n618\\n411684\\nCompany A\\nQuarterly Financial\\n2021-05\\nDaily\\n19:14\\n23:00\\n10.26\\n\\n\\n2391\\nMarketing\\n749\\n918046\\nCompany C\\nQuarterly Financial\\n2024-04\\nDaily\\n02:43\\n08:04\\n9.1\\n\\n\\n8428\\nSales\\n689\\n106995\\nCompany B\\nQuarterly Financial\\n2024-02\\nMonthly\\n04:05\\n18:18\\n14.3\\n\\n\\n8117\\nSales\\n387\\n642595\\nCompany C\\nQuarterly Financial\\n2022-10\\nMonthly\\n17:39\\n13:34\\n20.82\\n\\n\\n9424\\nSales\\n717\\n325033\\nCompany B\\nQuarterly Financial\\n2021-07\\nWeekly\\n06:37\\n21:39\\n1.84\\n\\n\\n4689\\nMarketing\\n522\\n219981\\nCompany A\\nQuarterly Financial\\n2022-02\\nWeekly\\n02:43\\n18:11\\n15.49\\n\\n\\n5125\\nFinance\\n651\\n645390\\nCompany A\\nMonthly Sales\\n2024-05\\nDaily\\n01:35\\n01:27\\n6.09\\n\\n\\n8911\\nMarketing\\n673\\n222753\\nCompany B\\nQuarterly Financial\\n2023-04\\nWeekly\\n18:08\\n10:47\\n10.97\\n\\n\\n', metadata={'page_name': 'Top monthly web reports'}),\n",
       " Document(page_content='\\n\\n\\nCOMPANY_ID\\nENTITY\\nENTITY_ID\\nDB_KEY\\nCOMPANY_NAME\\nREPORT_NAME\\nREPORT_DATE\\nFREQUENCY\\nSTART_TIME\\nFINISH_TIME\\nELAPSED_HOURS\\n\\n\\n7065\\nMarketing\\n750\\n773017\\nCompany B\\nMonthly Sales\\n2023-06\\nDaily\\n02:33\\n04:06\\n17.39\\n\\n\\n7438\\nMarketing\\n705\\n365540\\nCompany C\\nMarketing Analysis\\n2023-06\\nMonthly\\n05:30\\n12:42\\n21.26\\n\\n\\n8868\\nMarketing\\n229\\n313340\\nCompany A\\nQuarterly Financial\\n2021-10\\nMonthly\\n05:28\\n19:52\\n22.44\\n\\n\\n5438\\nSales\\n619\\n484982\\nCompany C\\nQuarterly Financial\\n2023-07\\nWeekly\\n04:42\\n00:11\\n17.28\\n\\n\\n7433\\nSales\\n151\\n207671\\nCompany A\\nQuarterly Financial\\n2021-12\\nDaily\\n17:35\\n06:15\\n22.53\\n\\n\\n7523\\nFinance\\n746\\n777356\\nCompany C\\nMarketing Analysis\\n2021-12\\nMonthly\\n13:38\\n20:15\\n10.46\\n\\n\\n1820\\nSales\\n290\\n371899\\nCompany C\\nMonthly Sales\\n2025-04\\nDaily\\n15:29\\n15:46\\n15.78\\n\\n\\n5004\\nSales\\n402\\n647056\\nCompany A\\nMarketing Analysis\\n2022-09\\nDaily\\n02:43\\n07:52\\n23.56\\n\\n\\n8254\\nMarketing\\n336\\n977477\\nCompany B\\nMonthly Sales\\n2022-07\\nDaily\\n11:29\\n12:39\\n12.82\\n\\n\\n3541\\nFinance\\n618\\n411684\\nCompany A\\nQuarterly Financial\\n2021-05\\nDaily\\n19:14\\n23:00\\n10.26\\n\\n\\n8428\\nSales\\n689\\n106995\\nCompany B\\nQuarterly Financial\\n2024-02\\nMonthly\\n04:05\\n18:18\\n14.3\\n\\n\\n8117\\nSales\\n387\\n642595\\nCompany C\\nQuarterly Financial\\n2022-10\\nMonthly\\n17:39\\n13:34\\n20.82\\n\\n\\n4689\\nMarketing\\n522\\n219981\\nCompany A\\nQuarterly Financial\\n2022-02\\nWeekly\\n02:43\\n18:11\\n15.49\\n\\n\\n8911\\nMarketing\\n673\\n222753\\nCompany B\\nQuarterly Financial\\n2023-04\\nWeekly\\n18:08\\n10:47\\n10.97\\n\\n\\n', metadata={'page_name': 'Top monthly Grpt DFR reports (>10 hrs)'}),\n",
       " Document(page_content='\\n\\n\\nREPORT_DATE\\nSTART_TIME\\nFINISH_TIME\\nMAX_DURATION_HOURS\\n\\n\\n2021-04\\n08:47\\n04:10\\n6.11\\n\\n\\n2021-05\\n07:02\\n21:04\\n19.38\\n\\n\\n2021-06\\n12:16\\n01:40\\n9.12\\n\\n\\n2021-07\\n04:08\\n09:25\\n19.53\\n\\n\\n2021-08\\n14:56\\n20:30\\n13.16\\n\\n\\n2021-09\\n00:36\\n00:48\\n14.12\\n\\n\\n2021-10\\n03:54\\n20:02\\n15.68\\n\\n\\n2021-11\\n03:41\\n01:39\\n16.72\\n\\n\\n2021-12\\n15:55\\n22:42\\n10.99\\n\\n\\n2022-01\\n17:35\\n11:17\\n16.98\\n\\n\\n2022-02\\n13:09\\n21:04\\n9.09\\n\\n\\n2022-03\\n21:23\\n18:44\\n12.08\\n\\n\\n2022-04\\n03:21\\n15:51\\n7.12\\n\\n\\n2022-05\\n22:19\\n19:41\\n6.62\\n\\n\\n2022-06\\n06:52\\n16:48\\n9.39\\n\\n\\n2022-07\\n20:44\\n08:34\\n12.66\\n\\n\\n2022-08\\n20:14\\n08:38\\n13.28\\n\\n\\n2022-09\\n10:48\\n01:02\\n5.71\\n\\n\\n2022-10\\n08:43\\n13:36\\n18.48\\n\\n\\n2022-11\\n03:36\\n03:30\\n9.51\\n\\n\\n', metadata={'page_name': 'Monthend Duration Web GRPT'}),\n",
       " Document(page_content='\\n\\n\\nREPORT_DATE\\nSTART_TIME\\nFINISH_TIME\\nELAPSED_HOURS\\n\\n\\n2023-08-10\\n17:30\\n20:20\\n1.45\\n\\n\\n2023-02-12\\n13:45\\n12:40\\n2.98\\n\\n\\n2023-11-14\\n12:43\\n14:48\\n3.8\\n\\n\\n2022-08-21\\n03:28\\n15:37\\n5.4\\n\\n\\n2021-12-15\\n08:46\\n16:27\\n4.71\\n\\n\\n2023-12-01\\n00:30\\n15:01\\n11.96\\n\\n\\n2025-02-01\\n10:40\\n22:06\\n5.26\\n\\n\\n2024-01-06\\n09:11\\n19:27\\n11.74\\n\\n\\n2023-12-06\\n23:22\\n06:05\\n7.77\\n\\n\\n2023-12-25\\n02:52\\n09:39\\n11.67\\n\\n\\n2021-11-05\\n15:19\\n02:16\\n10.54\\n\\n\\n2021-07-15\\n21:22\\n15:06\\n5.72\\n\\n\\n2024-11-28\\n19:33\\n04:08\\n9.77\\n\\n\\n2022-03-08\\n19:34\\n16:54\\n9.77\\n\\n\\n2023-10-17\\n15:01\\n13:22\\n3.46\\n\\n\\n2023-01-05\\n19:51\\n23:21\\n3.43\\n\\n\\n2022-04-18\\n03:10\\n08:27\\n2.75\\n\\n\\n2022-02-01\\n05:32\\n02:34\\n4.1\\n\\n\\n2025-01-29\\n17:34\\n20:27\\n8.21\\n\\n\\n2024-01-28\\n16:29\\n22:14\\n5.66\\n\\n\\n', metadata={'page_name': 'Daily Web'})]"
      ]
     },
     "execution_count": 14,
     "metadata": {},
     "output_type": "execute_result"
    }
   ],
   "source": [
    "documents"
   ]
  },
  {
   "cell_type": "code",
   "execution_count": 15,
   "id": "850e76f9",
   "metadata": {},
   "outputs": [
    {
     "data": {
      "text/plain": [
       "<langchain_chroma.vectorstores.Chroma at 0x312d8bcd0>"
      ]
     },
     "execution_count": 15,
     "metadata": {},
     "output_type": "execute_result"
    }
   ],
   "source": [
    "add_documents_to_vector_db(db, documents)"
   ]
  },
  {
   "cell_type": "code",
   "execution_count": 16,
   "id": "54ae4e0f",
   "metadata": {},
   "outputs": [],
   "source": [
    "db = get_vector_db_from_persist_directory(persist_directory = persist_directory, embedding_function = embedding_model, collection_name = collection_name)"
   ]
  },
  {
   "cell_type": "code",
   "execution_count": null,
   "id": "716cf2d0",
   "metadata": {},
   "outputs": [],
   "source": []
  },
  {
   "cell_type": "markdown",
   "id": "6c3ced0a",
   "metadata": {},
   "source": [
    "### Retrievar"
   ]
  },
  {
   "cell_type": "code",
   "execution_count": 37,
   "id": "a3b44e75",
   "metadata": {},
   "outputs": [],
   "source": [
    "query = \"What was the average elapsed time for the “Monthly Sales” report in 2021?\""
   ]
  },
  {
   "cell_type": "code",
   "execution_count": 38,
   "id": "8bcc5909",
   "metadata": {},
   "outputs": [],
   "source": [
    "retrieved_docs, sources = vector_retrievar_with_source(vector_db = db, query = query, top_k=3)"
   ]
  },
  {
   "cell_type": "code",
   "execution_count": 39,
   "id": "4455d4b8",
   "metadata": {},
   "outputs": [],
   "source": [
    "context = get_context(retrieved_docs)"
   ]
  },
  {
   "cell_type": "code",
   "execution_count": 40,
   "id": "dce66cc1",
   "metadata": {},
   "outputs": [
    {
     "data": {
      "text/plain": [
       "['\\n\\n\\nCOMPANY_ID\\nENTITY\\nENTITY_ID\\nDB_KEY\\nCOMPANY_NAME\\nREPORT_NAME\\nREPORT_DATE\\nFREQUENCY\\nSTART_TIME\\nFINISH_TIME\\nELAPSED_HOURS\\n\\n\\n7065\\nMarketing\\n750\\n773017\\nCompany B\\nMonthly Sales\\n2023-06\\nDaily\\n02:33\\n04:06\\n17.39\\n\\n\\n7438\\nMarketing\\n705\\n365540\\nCompany C\\nMarketing Analysis\\n2023-06\\nMonthly\\n05:30\\n12:42\\n21.26\\n\\n\\n8868\\nMarketing\\n229\\n313340\\nCompany A\\nQuarterly Financial\\n2021-10\\nMonthly\\n05:28\\n19:52\\n22.44\\n\\n\\n5438\\nSales\\n619\\n484982\\nCompany C\\nQuarterly Financial\\n2023-07\\nWeekly\\n04:42\\n00:11\\n17.28\\n\\n\\n7433\\nSales\\n151\\n207671\\nCompany A\\nQuarterly Financial\\n2021-12\\nDaily\\n17:35\\n06:15\\n22.53\\n\\n\\n7523\\nFinance\\n746\\n777356\\nCompany C\\nMarketing Analysis\\n2021-12\\nMonthly\\n13:38\\n20:15\\n10.46\\n\\n\\n1820\\nSales\\n290\\n371899\\nCompany C\\nMonthly Sales\\n2025-04\\nDaily\\n15:29\\n15:46\\n15.78\\n\\n\\n5004\\nSales\\n402\\n647056\\nCompany A\\nMarketing Analysis\\n2022-09\\nDaily\\n02:43\\n07:52\\n23.56\\n\\n\\n8254\\nMarketing\\n336\\n977477\\nCompany B\\nMonthly Sales\\n2022-07\\nDaily\\n11:29\\n12:39\\n12.82\\n\\n\\n3541\\nFinance\\n618\\n411684\\nCompany A\\nQuarterly Financial\\n2021-05\\nDaily\\n19:14\\n23:00\\n10.26\\n\\n\\n8428\\nSales\\n689\\n106995\\nCompany B\\nQuarterly Financial\\n2024-02\\nMonthly\\n04:05\\n18:18\\n14.3\\n\\n\\n8117\\nSales\\n387\\n642595\\nCompany C\\nQuarterly Financial\\n2022-10\\nMonthly\\n17:39\\n13:34\\n20.82\\n\\n\\n4689\\nMarketing\\n522\\n219981\\nCompany A\\nQuarterly Financial\\n2022-02\\nWeekly\\n02:43\\n18:11\\n15.49\\n\\n\\n8911\\nMarketing\\n673\\n222753\\nCompany B\\nQuarterly Financial\\n2023-04\\nWeekly\\n18:08\\n10:47\\n10.97\\n\\n\\n',\n",
       " '\\n\\n\\nCOMPANY_ID\\nENTITY\\nENTITY_ID\\nDB_KEY\\nCOMPANY_NAME\\nREPORT_NAME\\nREPORT_DATE\\nFREQUENCY\\nSTART_TIME\\nFINISH_TIME\\nELAPSED_HOURS\\n\\n\\n7065\\nMarketing\\n750\\n773017\\nCompany B\\nMonthly Sales\\n2023-06\\nDaily\\n02:33\\n04:06\\n17.39\\n\\n\\n7438\\nMarketing\\n705\\n365540\\nCompany C\\nMarketing Analysis\\n2023-06\\nMonthly\\n05:30\\n12:42\\n21.26\\n\\n\\n8868\\nMarketing\\n229\\n313340\\nCompany A\\nQuarterly Financial\\n2021-10\\nMonthly\\n05:28\\n19:52\\n22.44\\n\\n\\n5438\\nSales\\n619\\n484982\\nCompany C\\nQuarterly Financial\\n2023-07\\nWeekly\\n04:42\\n00:11\\n17.28\\n\\n\\n7433\\nSales\\n151\\n207671\\nCompany A\\nQuarterly Financial\\n2021-12\\nDaily\\n17:35\\n06:15\\n22.53\\n\\n\\n7523\\nFinance\\n746\\n777356\\nCompany C\\nMarketing Analysis\\n2021-12\\nMonthly\\n13:38\\n20:15\\n10.46\\n\\n\\n1820\\nSales\\n290\\n371899\\nCompany C\\nMonthly Sales\\n2025-04\\nDaily\\n15:29\\n15:46\\n15.78\\n\\n\\n5004\\nSales\\n402\\n647056\\nCompany A\\nMarketing Analysis\\n2022-09\\nDaily\\n02:43\\n07:52\\n23.56\\n\\n\\n8254\\nMarketing\\n336\\n977477\\nCompany B\\nMonthly Sales\\n2022-07\\nDaily\\n11:29\\n12:39\\n12.82\\n\\n\\n3541\\nFinance\\n618\\n411684\\nCompany A\\nQuarterly Financial\\n2021-05\\nDaily\\n19:14\\n23:00\\n10.26\\n\\n\\n8428\\nSales\\n689\\n106995\\nCompany B\\nQuarterly Financial\\n2024-02\\nMonthly\\n04:05\\n18:18\\n14.3\\n\\n\\n8117\\nSales\\n387\\n642595\\nCompany C\\nQuarterly Financial\\n2022-10\\nMonthly\\n17:39\\n13:34\\n20.82\\n\\n\\n4689\\nMarketing\\n522\\n219981\\nCompany A\\nQuarterly Financial\\n2022-02\\nWeekly\\n02:43\\n18:11\\n15.49\\n\\n\\n8911\\nMarketing\\n673\\n222753\\nCompany B\\nQuarterly Financial\\n2023-04\\nWeekly\\n18:08\\n10:47\\n10.97\\n\\n\\n',\n",
       " '\\n\\n\\nCOMPANY_ID\\nENTITY\\nENTITY_ID\\nDB_KEY\\nCOMPANY_NAME\\nREPORT_NAME\\nREPORT_DATE\\nFREQUENCY\\nSTART_TIME\\nFINISH_TIME\\nELAPSED_HOURS\\n\\n\\n7065\\nMarketing\\n750\\n773017\\nCompany B\\nMonthly Sales\\n2023-06\\nDaily\\n02:33\\n04:06\\n17.39\\n\\n\\n7438\\nMarketing\\n705\\n365540\\nCompany C\\nMarketing Analysis\\n2023-06\\nMonthly\\n05:30\\n12:42\\n21.26\\n\\n\\n8868\\nMarketing\\n229\\n313340\\nCompany A\\nQuarterly Financial\\n2021-10\\nMonthly\\n05:28\\n19:52\\n22.44\\n\\n\\n5438\\nSales\\n619\\n484982\\nCompany C\\nQuarterly Financial\\n2023-07\\nWeekly\\n04:42\\n00:11\\n17.28\\n\\n\\n7433\\nSales\\n151\\n207671\\nCompany A\\nQuarterly Financial\\n2021-12\\nDaily\\n17:35\\n06:15\\n22.53\\n\\n\\n7523\\nFinance\\n746\\n777356\\nCompany C\\nMarketing Analysis\\n2021-12\\nMonthly\\n13:38\\n20:15\\n10.46\\n\\n\\n1820\\nSales\\n290\\n371899\\nCompany C\\nMonthly Sales\\n2025-04\\nDaily\\n15:29\\n15:46\\n15.78\\n\\n\\n5004\\nSales\\n402\\n647056\\nCompany A\\nMarketing Analysis\\n2022-09\\nDaily\\n02:43\\n07:52\\n23.56\\n\\n\\n8254\\nMarketing\\n336\\n977477\\nCompany B\\nMonthly Sales\\n2022-07\\nDaily\\n11:29\\n12:39\\n12.82\\n\\n\\n3541\\nFinance\\n618\\n411684\\nCompany A\\nQuarterly Financial\\n2021-05\\nDaily\\n19:14\\n23:00\\n10.26\\n\\n\\n8428\\nSales\\n689\\n106995\\nCompany B\\nQuarterly Financial\\n2024-02\\nMonthly\\n04:05\\n18:18\\n14.3\\n\\n\\n8117\\nSales\\n387\\n642595\\nCompany C\\nQuarterly Financial\\n2022-10\\nMonthly\\n17:39\\n13:34\\n20.82\\n\\n\\n4689\\nMarketing\\n522\\n219981\\nCompany A\\nQuarterly Financial\\n2022-02\\nWeekly\\n02:43\\n18:11\\n15.49\\n\\n\\n8911\\nMarketing\\n673\\n222753\\nCompany B\\nQuarterly Financial\\n2023-04\\nWeekly\\n18:08\\n10:47\\n10.97\\n\\n\\n']"
      ]
     },
     "execution_count": 40,
     "metadata": {},
     "output_type": "execute_result"
    }
   ],
   "source": [
    "context"
   ]
  },
  {
   "cell_type": "code",
   "execution_count": 41,
   "id": "8a922d5d",
   "metadata": {},
   "outputs": [
    {
     "data": {
      "text/plain": [
       "{'Top monthly Grpt DFR reports (>10 hrs)'}"
      ]
     },
     "execution_count": 41,
     "metadata": {},
     "output_type": "execute_result"
    }
   ],
   "source": [
    "sources"
   ]
  },
  {
   "cell_type": "code",
   "execution_count": null,
   "id": "d777c5eb",
   "metadata": {},
   "outputs": [],
   "source": []
  },
  {
   "cell_type": "markdown",
   "id": "a88e92dc",
   "metadata": {},
   "source": [
    "### Generation"
   ]
  },
  {
   "cell_type": "code",
   "execution_count": 42,
   "id": "33306815",
   "metadata": {},
   "outputs": [],
   "source": [
    "azure_openai_api_key = st.secrets[\"AZURE_OPENAI_API_KEY\"]\n",
    "azure_openai_endpoint = st.secrets[\"AZURE_OPENAI_ENDPOINT\"]\n",
    "os.environ[\"AZURE_OPENAI_API_KEY\"] = azure_openai_api_key\n",
    "os.environ[\"AZURE_OPENAI_ENDPOINT\"] = azure_openai_endpoint"
   ]
  },
  {
   "cell_type": "code",
   "execution_count": 43,
   "id": "dff05d80",
   "metadata": {},
   "outputs": [
    {
     "data": {
      "text/plain": [
       "'https://algoacev2.openai.azure.com/'"
      ]
     },
     "execution_count": 43,
     "metadata": {},
     "output_type": "execute_result"
    }
   ],
   "source": [
    "azure_openai_endpoint"
   ]
  },
  {
   "cell_type": "code",
   "execution_count": 44,
   "id": "40deea9a",
   "metadata": {},
   "outputs": [],
   "source": [
    "\n",
    "api_version = st.secrets[\"API_VERSION\"]\n",
    "gen_model = st.secrets[\"AZURE_OPENAI_GENERATION_MODEL\"]\n"
   ]
  },
  {
   "cell_type": "code",
   "execution_count": 46,
   "id": "d26439d8",
   "metadata": {},
   "outputs": [],
   "source": [
    "from llm_generate import get_response, get_response_streaming"
   ]
  },
  {
   "cell_type": "code",
   "execution_count": 47,
   "id": "6f94bb4e",
   "metadata": {},
   "outputs": [],
   "source": [
    "# res, token_metadata =  get_response(primary_model = gen_model, \n",
    "#                     api_version = api_version, \n",
    "#                     question = query, \n",
    "#                     context = context)\n",
    "\n",
    "res_gen, token_metadata = get_response_streaming(primary_model = gen_model, \n",
    "                                            api_version = api_version, \n",
    "                                            question = query, \n",
    "                                            context = context)"
   ]
  },
  {
   "cell_type": "code",
   "execution_count": 48,
   "id": "2760a0c7",
   "metadata": {},
   "outputs": [
    {
     "data": {
      "text/plain": [
       "<generator object get_response_streaming.<locals>.token_text_generator at 0x139cfbbc0>"
      ]
     },
     "execution_count": 48,
     "metadata": {},
     "output_type": "execute_result"
    }
   ],
   "source": [
    "res_gen"
   ]
  },
  {
   "cell_type": "code",
   "execution_count": 70,
   "id": "2d547626",
   "metadata": {},
   "outputs": [
    {
     "data": {
      "text/plain": [
       "{'prompt_tokens': 2077,\n",
       " 'completion_tokens': 242,\n",
       " 'total_tokens': 2319,\n",
       " 'total_cost (USD)': '0.000000'}"
      ]
     },
     "execution_count": 70,
     "metadata": {},
     "output_type": "execute_result"
    }
   ],
   "source": [
    "token_metadata"
   ]
  },
  {
   "cell_type": "code",
   "execution_count": null,
   "id": "81ac84ab",
   "metadata": {},
   "outputs": [],
   "source": []
  }
 ],
 "metadata": {
  "kernelspec": {
   "display_name": "graph_rag",
   "language": "python",
   "name": "python3"
  },
  "language_info": {
   "codemirror_mode": {
    "name": "ipython",
    "version": 3
   },
   "file_extension": ".py",
   "mimetype": "text/x-python",
   "name": "python",
   "nbconvert_exporter": "python",
   "pygments_lexer": "ipython3",
   "version": "3.11.9"
  }
 },
 "nbformat": 4,
 "nbformat_minor": 5
}
