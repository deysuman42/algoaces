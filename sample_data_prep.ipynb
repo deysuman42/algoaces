{
 "cells": [
  {
   "cell_type": "code",
   "execution_count": 1,
   "id": "e417c0bd",
   "metadata": {},
   "outputs": [],
   "source": [
    "import pandas as pd\n",
    "import numpy as np\n",
    "from datetime import datetime, timedelta"
   ]
  },
  {
   "cell_type": "code",
   "execution_count": 2,
   "id": "5e887f92",
   "metadata": {},
   "outputs": [],
   "source": [
    "# Helper functions\n",
    "def random_date(start, end):\n",
    "    return start + timedelta(seconds=np.random.randint(0, int((end - start).total_seconds())))\n",
    "\n",
    "def generate_sample_dates(start_date, end_date, num_records):\n",
    "    return [random_date(start_date, end_date).strftime('%Y-%m-%d') for _ in range(num_records)]\n",
    "\n",
    "def generate_time():\n",
    "    time = datetime.strptime('00:00', '%H:%M') + timedelta(minutes=np.random.randint(0, 1440))\n",
    "    return time.strftime('%H:%M')"
   ]
  },
  {
   "cell_type": "code",
   "execution_count": 6,
   "id": "3a599059",
   "metadata": {},
   "outputs": [
    {
     "name": "stdout",
     "output_type": "stream",
     "text": [
      "Excel file 'sample_data.xlsx' created successfully!\n"
     ]
    },
    {
     "name": "stderr",
     "output_type": "stream",
     "text": [
      "/var/folders/bn/r3jcwdgd6ss8l34kf4p54z9h0000gn/T/ipykernel_24863/3613060447.py:21: FutureWarning: 'M' is deprecated and will be removed in a future version, please use 'ME' instead.\n",
      "  'Month': pd.date_range('2021-04-01', periods=20, freq='M').strftime('%Y-%m'),\n",
      "/var/folders/bn/r3jcwdgd6ss8l34kf4p54z9h0000gn/T/ipykernel_24863/3613060447.py:26: FutureWarning: 'M' is deprecated and will be removed in a future version, please use 'ME' instead.\n",
      "  months = pd.date_range('2021-04-01', '2025-04-30', freq='M').strftime('%Y-%m').tolist()\n",
      "/Users/sumandey/anaconda3/envs/graph_rag/lib/python3.11/site-packages/openpyxl/workbook/child.py:99: UserWarning: Title is more than 31 characters. Some applications may not be able to read the file\n",
      "  warnings.warn(\"Title is more than 31 characters. Some applications may not be able to read the file\")\n"
     ]
    }
   ],
   "source": [
    "# Use context manager to write Excel file\n",
    "with pd.ExcelWriter('../data/sample_data.xlsx', engine='openpyxl') as writer:\n",
    "\n",
    "    # 1. Daily DFR\n",
    "    pd.DataFrame({\n",
    "        'REPORT_DATE': generate_sample_dates(datetime(2021, 4, 1), datetime(2025, 4, 30), 20),\n",
    "        'START_TIME': [generate_time() for _ in range(20)],\n",
    "        'FINISH_TIME': [generate_time() for _ in range(20)],\n",
    "        'ELAPSED_HOURS': np.random.uniform(1, 12, 20).round(2)\n",
    "    }).to_excel(writer, sheet_name='Daily DFR', index=False)\n",
    "\n",
    "    # 2. Volume All\n",
    "    pd.DataFrame({\n",
    "        'Date': generate_sample_dates(datetime(2021, 4, 1), datetime(2025, 4, 30), 20),\n",
    "        'Auth': np.random.randint(1000, 5000, 20),\n",
    "        'Txn': np.random.randint(100, 1000, 20)\n",
    "    }).to_excel(writer, sheet_name='Volume All', index=False)\n",
    "\n",
    "    # 3. Volume (Subm)-Top Merchants\n",
    "    pd.DataFrame({\n",
    "        'Month': pd.date_range('2021-04-01', periods=20, freq='M').strftime('%Y-%m'),\n",
    "        'Metropolitan (MTA)': np.random.randint(10000, 50000, 20)\n",
    "    }).to_excel(writer, sheet_name='Volume (Subm)-Top Merchants', index=False)\n",
    "\n",
    "    # For 3-year monthly data sheets (April 2021-April 2025)\n",
    "    months = pd.date_range('2021-04-01', '2025-04-30', freq='M').strftime('%Y-%m').tolist()\n",
    "    entities = ['Sales', 'Marketing', 'Finance']\n",
    "    companies = ['Company A', 'Company B', 'Company C']\n",
    "    reports = ['Monthly Sales', 'Quarterly Financial', 'Marketing Analysis']\n",
    "    frequencies = ['Monthly', 'Weekly', 'Daily']\n",
    "\n",
    "    common_data = {\n",
    "        'COMPANY_ID': np.random.randint(1000, 9999, 20),\n",
    "        'ENTITY': np.random.choice(entities, 20),\n",
    "        'BREAKDOWN_LVL': np.random.choice(['High', 'Medium', 'Low'], 20),\n",
    "        'ENTITY_ID': np.random.randint(100, 999, 20),\n",
    "        'DB_KEY': np.random.randint(100000, 999999, 20),\n",
    "        'COMPANY_NAME': np.random.choice(companies, 20),\n",
    "        'REPORT_NAME': np.random.choice(reports, 20),\n",
    "        'REPORT_DATE': np.random.choice(months, 20),\n",
    "        'FREQUENCY': np.random.choice(frequencies, 20),\n",
    "        'START_TIME': [generate_time() for _ in range(20)],\n",
    "        'FINISH_TIME': [generate_time() for _ in range(20)],\n",
    "        'ELAPSED_HOURS': np.random.uniform(1, 24, 20).round(2)\n",
    "    }\n",
    "\n",
    "    # Generate sheets\n",
    "    sheet_names = [\n",
    "        'Daily Top Web Reports', 'Daily Top GRPT DFR Reports', \n",
    "        'Top monthly web reports', 'Top monthly Grpt DFR reports (>10 hrs)'\n",
    "    ]\n",
    "\n",
    "    for name in sheet_names:\n",
    "        data = common_data.copy()\n",
    "        if 'BREAKDOWN_LVL' not in name:\n",
    "            data.pop('BREAKDOWN_LVL')\n",
    "        df = pd.DataFrame(data)\n",
    "        if name == 'Top monthly Grpt DFR reports (>10 hrs)':\n",
    "            df = df[df['ELAPSED_HOURS'] > 10]\n",
    "        df.to_excel(writer, sheet_name=name, index=False)\n",
    "\n",
    "    # Monthend Duration-Web, Grpt\n",
    "    pd.DataFrame({\n",
    "        'REPORT_DATE': months[:20],\n",
    "        'START_TIME': [generate_time() for _ in range(20)],\n",
    "        'FINISH_TIME': [generate_time() for _ in range(20)],\n",
    "        'MAX_DURATION_HOURS': np.random.uniform(5, 20, 20).round(2)\n",
    "    }).to_excel(writer, sheet_name='Monthend Duration Web GRPT', index=False)\n",
    "\n",
    "    # Daily Web\n",
    "    pd.DataFrame({\n",
    "        'REPORT_DATE': generate_sample_dates(datetime(2021, 4, 1), datetime(2025, 4, 30), 20),\n",
    "        'START_TIME': [generate_time() for _ in range(20)],\n",
    "        'FINISH_TIME': [generate_time() for _ in range(20)],\n",
    "        'ELAPSED_HOURS': np.random.uniform(1, 12, 20).round(2)\n",
    "    }).to_excel(writer, sheet_name='Daily Web', index=False)\n",
    "\n",
    "print(\"Excel file 'sample_data.xlsx' created successfully!\")"
   ]
  },
  {
   "cell_type": "code",
   "execution_count": 1,
   "id": "339d6e0a",
   "metadata": {},
   "outputs": [],
   "source": [
    "from langchain_community.document_loaders import UnstructuredExcelLoader"
   ]
  },
  {
   "cell_type": "code",
   "execution_count": 29,
   "id": "b97166d4",
   "metadata": {},
   "outputs": [
    {
     "name": "stdout",
     "output_type": "stream",
     "text": [
      "9\n"
     ]
    }
   ],
   "source": [
    "loader = UnstructuredExcelLoader(\"../data/sample_data.xlsx\", mode=\"elements\")\n",
    "docs = loader.load()\n",
    "\n",
    "print(len(docs))"
   ]
  },
  {
   "cell_type": "code",
   "execution_count": 30,
   "id": "d20b477e",
   "metadata": {},
   "outputs": [
    {
     "data": {
      "text/plain": [
       "{'source': '../data/sample_data.xlsx',\n",
       " 'filename': 'sample_data.xlsx',\n",
       " 'file_directory': '../data',\n",
       " 'last_modified': '2025-05-09T09:56:10',\n",
       " 'filetype': 'application/vnd.openxmlformats-officedocument.spreadsheetml.sheet',\n",
       " 'languages': ['eng'],\n",
       " 'page_number': 1,\n",
       " 'page_name': 'Daily DFR',\n",
       " 'text_as_html': '<table border=\"1\" class=\"dataframe\">\\n  <tbody>\\n    <tr>\\n      <td>REPORT_DATE</td>\\n      <td>START_TIME</td>\\n      <td>FINISH_TIME</td>\\n      <td>ELAPSED_HOURS</td>\\n    </tr>\\n    <tr>\\n      <td>2023-05-18</td>\\n      <td>07:07</td>\\n      <td>12:50</td>\\n      <td>11.49</td>\\n    </tr>\\n    <tr>\\n      <td>2025-01-26</td>\\n      <td>02:31</td>\\n      <td>16:07</td>\\n      <td>10.84</td>\\n    </tr>\\n    <tr>\\n      <td>2023-08-13</td>\\n      <td>21:46</td>\\n      <td>13:45</td>\\n      <td>6.66</td>\\n    </tr>\\n    <tr>\\n      <td>2022-03-08</td>\\n      <td>13:58</td>\\n      <td>12:40</td>\\n      <td>4.54</td>\\n    </tr>\\n    <tr>\\n      <td>2024-02-08</td>\\n      <td>06:44</td>\\n      <td>21:30</td>\\n      <td>9.64</td>\\n    </tr>\\n    <tr>\\n      <td>2025-04-01</td>\\n      <td>02:22</td>\\n      <td>06:46</td>\\n      <td>6.68</td>\\n    </tr>\\n    <tr>\\n      <td>2024-07-22</td>\\n      <td>09:08</td>\\n      <td>19:09</td>\\n      <td>6.75</td>\\n    </tr>\\n    <tr>\\n      <td>2024-09-14</td>\\n      <td>16:38</td>\\n      <td>04:10</td>\\n      <td>7.4</td>\\n    </tr>\\n    <tr>\\n      <td>2023-02-07</td>\\n      <td>20:17</td>\\n      <td>03:42</td>\\n      <td>1.88</td>\\n    </tr>\\n    <tr>\\n      <td>2024-01-08</td>\\n      <td>09:10</td>\\n      <td>00:21</td>\\n      <td>4.27</td>\\n    </tr>\\n    <tr>\\n      <td>2021-09-27</td>\\n      <td>09:30</td>\\n      <td>12:47</td>\\n      <td>5.59</td>\\n    </tr>\\n    <tr>\\n      <td>2023-12-12</td>\\n      <td>20:37</td>\\n      <td>02:11</td>\\n      <td>6.5</td>\\n    </tr>\\n    <tr>\\n      <td>2023-12-19</td>\\n      <td>19:47</td>\\n      <td>22:41</td>\\n      <td>11.02</td>\\n    </tr>\\n    <tr>\\n      <td>2022-01-15</td>\\n      <td>20:48</td>\\n      <td>02:32</td>\\n      <td>9.07</td>\\n    </tr>\\n    <tr>\\n      <td>2024-02-10</td>\\n      <td>14:28</td>\\n      <td>10:52</td>\\n      <td>7.96</td>\\n    </tr>\\n    <tr>\\n      <td>2021-11-08</td>\\n      <td>11:28</td>\\n      <td>03:58</td>\\n      <td>7.68</td>\\n    </tr>\\n    <tr>\\n      <td>2024-11-15</td>\\n      <td>12:44</td>\\n      <td>15:35</td>\\n      <td>2.1</td>\\n    </tr>\\n    <tr>\\n      <td>2025-01-28</td>\\n      <td>09:38</td>\\n      <td>16:59</td>\\n      <td>4.83</td>\\n    </tr>\\n    <tr>\\n      <td>2023-07-14</td>\\n      <td>09:24</td>\\n      <td>16:55</td>\\n      <td>7.69</td>\\n    </tr>\\n    <tr>\\n      <td>2024-12-24</td>\\n      <td>23:47</td>\\n      <td>22:21</td>\\n      <td>6.72</td>\\n    </tr>\\n  </tbody>\\n</table>',\n",
       " 'category': 'Table'}"
      ]
     },
     "execution_count": 30,
     "metadata": {},
     "output_type": "execute_result"
    }
   ],
   "source": [
    "docs[0].metadata\n"
   ]
  },
  {
   "cell_type": "code",
   "execution_count": 6,
   "id": "d24455eb",
   "metadata": {},
   "outputs": [],
   "source": [
    "from langchain.text_splitter import RecursiveCharacterTextSplitter"
   ]
  },
  {
   "cell_type": "code",
   "execution_count": 24,
   "id": "e00cda33",
   "metadata": {},
   "outputs": [],
   "source": [
    "text_splitter = RecursiveCharacterTextSplitter(chunk_size=1024, chunk_overlap=80)\n",
    "chunks = text_splitter.split_documents(docs)"
   ]
  },
  {
   "cell_type": "code",
   "execution_count": 25,
   "id": "0532616d",
   "metadata": {},
   "outputs": [
    {
     "data": {
      "text/plain": [
       "[Document(page_content='REPORT_DATE\\nSTART_TIME\\nFINISH_TIME\\nELAPSED_HOURS\\n\\n\\n2023-05-18\\n07:07\\n12:50\\n11.49\\n\\n\\n2025-01-26\\n02:31\\n16:07\\n10.84\\n\\n\\n2023-08-13\\n21:46\\n13:45\\n6.66\\n\\n\\n2022-03-08\\n13:58\\n12:40\\n4.54\\n\\n\\n2024-02-08\\n06:44\\n21:30\\n9.64\\n\\n\\n2025-04-01\\n02:22\\n06:46\\n6.68\\n\\n\\n2024-07-22\\n09:08\\n19:09\\n6.75\\n\\n\\n2024-09-14\\n16:38\\n04:10\\n7.4\\n\\n\\n2023-02-07\\n20:17\\n03:42\\n1.88\\n\\n\\n2024-01-08\\n09:10\\n00:21\\n4.27\\n\\n\\n2021-09-27\\n09:30\\n12:47\\n5.59\\n\\n\\n2023-12-12\\n20:37\\n02:11\\n6.5\\n\\n\\n2023-12-19\\n19:47\\n22:41\\n11.02\\n\\n\\n2022-01-15\\n20:48\\n02:32\\n9.07\\n\\n\\n2024-02-10\\n14:28\\n10:52\\n7.96\\n\\n\\n2021-11-08\\n11:28\\n03:58\\n7.68\\n\\n\\n2024-11-15\\n12:44\\n15:35\\n2.1\\n\\n\\n2025-01-28\\n09:38\\n16:59\\n4.83\\n\\n\\n2023-07-14\\n09:24\\n16:55\\n7.69\\n\\n\\n2024-12-24\\n23:47\\n22:21\\n6.72\\n\\n\\n\\n\\n\\n\\n\\nDate\\nAuth\\nTxn\\n\\n\\n2023-06-08\\n1284\\n458\\n\\n\\n2023-05-21\\n3044\\n834\\n\\n\\n2024-01-04\\n3929\\n787\\n\\n\\n2021-09-21\\n4647\\n375\\n\\n\\n2025-02-21\\n4711\\n791\\n\\n\\n2023-01-28\\n3526\\n551\\n\\n\\n2021-11-02\\n2455\\n650\\n\\n\\n2024-07-16\\n3675\\n334\\n\\n\\n2025-01-26\\n4651\\n542\\n\\n\\n2024-09-06\\n2223\\n589\\n\\n\\n2024-11-01\\n1352\\n334\\n\\n\\n2024-10-24\\n1666\\n113\\n\\n\\n2023-08-29\\n1106\\n908\\n\\n\\n2022-03-03\\n3124\\n390\\n\\n\\n2023-06-28\\n4224\\n902\\n\\n\\n2023-05-10\\n4609\\n721', metadata={'source': '../data/sample_data.xlsx'}),\n",
       " Document(page_content='2022-03-03\\n3124\\n390\\n\\n\\n2023-06-28\\n4224\\n902\\n\\n\\n2023-05-10\\n4609\\n721\\n\\n\\n2024-09-09\\n4184\\n863\\n\\n\\n2025-03-22\\n2421\\n142\\n\\n\\n2022-03-21\\n1339\\n420\\n\\n\\n2023-09-05\\n2987\\n107\\n\\n\\n\\n\\n\\n\\n\\nMonth\\nMetropolitan (MTA)\\n\\n\\n2021-04\\n14640\\n\\n\\n2021-05\\n26012\\n\\n\\n2021-06\\n22634\\n\\n\\n2021-07\\n19092\\n\\n\\n2021-08\\n40334\\n\\n\\n2021-09\\n46717\\n\\n\\n2021-10\\n34471\\n\\n\\n2021-11\\n19907\\n\\n\\n2021-12\\n17799\\n\\n\\n2022-01\\n33503\\n\\n\\n2022-02\\n18773\\n\\n\\n2022-03\\n39092\\n\\n\\n2022-04\\n43233\\n\\n\\n2022-05\\n17433\\n\\n\\n2022-06\\n48681\\n\\n\\n2022-07\\n13897\\n\\n\\n2022-08\\n25550\\n\\n\\n2022-09\\n47165\\n\\n\\n2022-10\\n11652\\n\\n\\n2022-11\\n31454\\n\\n\\n\\n\\n\\n\\n\\nCOMPANY_ID\\nENTITY\\nENTITY_ID\\nDB_KEY\\nCOMPANY_NAME\\nREPORT_NAME\\nREPORT_DATE\\nFREQUENCY\\nSTART_TIME\\nFINISH_TIME\\nELAPSED_HOURS\\n\\n\\n7065\\nMarketing\\n750\\n773017\\nCompany B\\nMonthly Sales\\n2023-06\\nDaily\\n02:33\\n04:06\\n17.39\\n\\n\\n7438\\nMarketing\\n705\\n365540\\nCompany C\\nMarketing Analysis\\n2023-06\\nMonthly\\n05:30\\n12:42\\n21.26\\n\\n\\n1642\\nSales\\n561\\n256618\\nCompany A\\nMarketing Analysis\\n2021-12\\nWeekly\\n07:20\\n04:30\\n4.17\\n\\n\\n8868\\nMarketing\\n229\\n313340\\nCompany A\\nQuarterly Financial\\n2021-10\\nMonthly\\n05:28\\n19:52\\n22.44', metadata={'source': '../data/sample_data.xlsx'}),\n",
       " Document(page_content='5438\\nSales\\n619\\n484982\\nCompany C\\nQuarterly Financial\\n2023-07\\nWeekly\\n04:42\\n00:11\\n17.28\\n\\n\\n7433\\nSales\\n151\\n207671\\nCompany A\\nQuarterly Financial\\n2021-12\\nDaily\\n17:35\\n06:15\\n22.53\\n\\n\\n7523\\nFinance\\n746\\n777356\\nCompany C\\nMarketing Analysis\\n2021-12\\nMonthly\\n13:38\\n20:15\\n10.46\\n\\n\\n4968\\nSales\\n979\\n281351\\nCompany B\\nQuarterly Financial\\n2023-06\\nWeekly\\n06:06\\n05:30\\n9.44\\n\\n\\n1820\\nSales\\n290\\n371899\\nCompany C\\nMonthly Sales\\n2025-04\\nDaily\\n15:29\\n15:46\\n15.78\\n\\n\\n5004\\nSales\\n402\\n647056\\nCompany A\\nMarketing Analysis\\n2022-09\\nDaily\\n02:43\\n07:52\\n23.56\\n\\n\\n8254\\nMarketing\\n336\\n977477\\nCompany B\\nMonthly Sales\\n2022-07\\nDaily\\n11:29\\n12:39\\n12.82\\n\\n\\n8615\\nFinance\\n377\\n213494\\nCompany A\\nMonthly Sales\\n2023-11\\nMonthly\\n08:04\\n00:02\\n1.53\\n\\n\\n3541\\nFinance\\n618\\n411684\\nCompany A\\nQuarterly Financial\\n2021-05\\nDaily\\n19:14\\n23:00\\n10.26\\n\\n\\n2391\\nMarketing\\n749\\n918046\\nCompany C\\nQuarterly Financial\\n2024-04\\nDaily\\n02:43\\n08:04\\n9.1\\n\\n\\n8428\\nSales\\n689\\n106995\\nCompany B\\nQuarterly Financial\\n2024-02\\nMonthly\\n04:05\\n18:18\\n14.3', metadata={'source': '../data/sample_data.xlsx'}),\n",
       " Document(page_content='8117\\nSales\\n387\\n642595\\nCompany C\\nQuarterly Financial\\n2022-10\\nMonthly\\n17:39\\n13:34\\n20.82\\n\\n\\n9424\\nSales\\n717\\n325033\\nCompany B\\nQuarterly Financial\\n2021-07\\nWeekly\\n06:37\\n21:39\\n1.84\\n\\n\\n4689\\nMarketing\\n522\\n219981\\nCompany A\\nQuarterly Financial\\n2022-02\\nWeekly\\n02:43\\n18:11\\n15.49\\n\\n\\n5125\\nFinance\\n651\\n645390\\nCompany A\\nMonthly Sales\\n2024-05\\nDaily\\n01:35\\n01:27\\n6.09\\n\\n\\n8911\\nMarketing\\n673\\n222753\\nCompany B\\nQuarterly Financial\\n2023-04\\nWeekly\\n18:08\\n10:47\\n10.97\\n\\n\\n\\n\\n\\n\\n\\nCOMPANY_ID\\nENTITY\\nENTITY_ID\\nDB_KEY\\nCOMPANY_NAME\\nREPORT_NAME\\nREPORT_DATE\\nFREQUENCY\\nSTART_TIME\\nFINISH_TIME\\nELAPSED_HOURS\\n\\n\\n7065\\nMarketing\\n750\\n773017\\nCompany B\\nMonthly Sales\\n2023-06\\nDaily\\n02:33\\n04:06\\n17.39\\n\\n\\n7438\\nMarketing\\n705\\n365540\\nCompany C\\nMarketing Analysis\\n2023-06\\nMonthly\\n05:30\\n12:42\\n21.26\\n\\n\\n1642\\nSales\\n561\\n256618\\nCompany A\\nMarketing Analysis\\n2021-12\\nWeekly\\n07:20\\n04:30\\n4.17\\n\\n\\n8868\\nMarketing\\n229\\n313340\\nCompany A\\nQuarterly Financial\\n2021-10\\nMonthly\\n05:28\\n19:52\\n22.44\\n\\n\\n5438\\nSales\\n619\\n484982\\nCompany C\\nQuarterly Financial\\n2023-07\\nWeekly\\n04:42\\n00:11\\n17.28', metadata={'source': '../data/sample_data.xlsx'}),\n",
       " Document(page_content='7433\\nSales\\n151\\n207671\\nCompany A\\nQuarterly Financial\\n2021-12\\nDaily\\n17:35\\n06:15\\n22.53\\n\\n\\n7523\\nFinance\\n746\\n777356\\nCompany C\\nMarketing Analysis\\n2021-12\\nMonthly\\n13:38\\n20:15\\n10.46\\n\\n\\n4968\\nSales\\n979\\n281351\\nCompany B\\nQuarterly Financial\\n2023-06\\nWeekly\\n06:06\\n05:30\\n9.44\\n\\n\\n1820\\nSales\\n290\\n371899\\nCompany C\\nMonthly Sales\\n2025-04\\nDaily\\n15:29\\n15:46\\n15.78\\n\\n\\n5004\\nSales\\n402\\n647056\\nCompany A\\nMarketing Analysis\\n2022-09\\nDaily\\n02:43\\n07:52\\n23.56\\n\\n\\n8254\\nMarketing\\n336\\n977477\\nCompany B\\nMonthly Sales\\n2022-07\\nDaily\\n11:29\\n12:39\\n12.82\\n\\n\\n8615\\nFinance\\n377\\n213494\\nCompany A\\nMonthly Sales\\n2023-11\\nMonthly\\n08:04\\n00:02\\n1.53\\n\\n\\n3541\\nFinance\\n618\\n411684\\nCompany A\\nQuarterly Financial\\n2021-05\\nDaily\\n19:14\\n23:00\\n10.26\\n\\n\\n2391\\nMarketing\\n749\\n918046\\nCompany C\\nQuarterly Financial\\n2024-04\\nDaily\\n02:43\\n08:04\\n9.1\\n\\n\\n8428\\nSales\\n689\\n106995\\nCompany B\\nQuarterly Financial\\n2024-02\\nMonthly\\n04:05\\n18:18\\n14.3\\n\\n\\n8117\\nSales\\n387\\n642595\\nCompany C\\nQuarterly Financial\\n2022-10\\nMonthly\\n17:39\\n13:34\\n20.82', metadata={'source': '../data/sample_data.xlsx'}),\n",
       " Document(page_content='9424\\nSales\\n717\\n325033\\nCompany B\\nQuarterly Financial\\n2021-07\\nWeekly\\n06:37\\n21:39\\n1.84\\n\\n\\n4689\\nMarketing\\n522\\n219981\\nCompany A\\nQuarterly Financial\\n2022-02\\nWeekly\\n02:43\\n18:11\\n15.49\\n\\n\\n5125\\nFinance\\n651\\n645390\\nCompany A\\nMonthly Sales\\n2024-05\\nDaily\\n01:35\\n01:27\\n6.09\\n\\n\\n8911\\nMarketing\\n673\\n222753\\nCompany B\\nQuarterly Financial\\n2023-04\\nWeekly\\n18:08\\n10:47\\n10.97\\n\\n\\n\\n\\n\\n\\n\\nCOMPANY_ID\\nENTITY\\nENTITY_ID\\nDB_KEY\\nCOMPANY_NAME\\nREPORT_NAME\\nREPORT_DATE\\nFREQUENCY\\nSTART_TIME\\nFINISH_TIME\\nELAPSED_HOURS\\n\\n\\n7065\\nMarketing\\n750\\n773017\\nCompany B\\nMonthly Sales\\n2023-06\\nDaily\\n02:33\\n04:06\\n17.39\\n\\n\\n7438\\nMarketing\\n705\\n365540\\nCompany C\\nMarketing Analysis\\n2023-06\\nMonthly\\n05:30\\n12:42\\n21.26\\n\\n\\n1642\\nSales\\n561\\n256618\\nCompany A\\nMarketing Analysis\\n2021-12\\nWeekly\\n07:20\\n04:30\\n4.17\\n\\n\\n8868\\nMarketing\\n229\\n313340\\nCompany A\\nQuarterly Financial\\n2021-10\\nMonthly\\n05:28\\n19:52\\n22.44\\n\\n\\n5438\\nSales\\n619\\n484982\\nCompany C\\nQuarterly Financial\\n2023-07\\nWeekly\\n04:42\\n00:11\\n17.28\\n\\n\\n7433\\nSales\\n151\\n207671\\nCompany A\\nQuarterly Financial\\n2021-12\\nDaily\\n17:35\\n06:15\\n22.53', metadata={'source': '../data/sample_data.xlsx'}),\n",
       " Document(page_content='7523\\nFinance\\n746\\n777356\\nCompany C\\nMarketing Analysis\\n2021-12\\nMonthly\\n13:38\\n20:15\\n10.46\\n\\n\\n4968\\nSales\\n979\\n281351\\nCompany B\\nQuarterly Financial\\n2023-06\\nWeekly\\n06:06\\n05:30\\n9.44\\n\\n\\n1820\\nSales\\n290\\n371899\\nCompany C\\nMonthly Sales\\n2025-04\\nDaily\\n15:29\\n15:46\\n15.78\\n\\n\\n5004\\nSales\\n402\\n647056\\nCompany A\\nMarketing Analysis\\n2022-09\\nDaily\\n02:43\\n07:52\\n23.56\\n\\n\\n8254\\nMarketing\\n336\\n977477\\nCompany B\\nMonthly Sales\\n2022-07\\nDaily\\n11:29\\n12:39\\n12.82\\n\\n\\n8615\\nFinance\\n377\\n213494\\nCompany A\\nMonthly Sales\\n2023-11\\nMonthly\\n08:04\\n00:02\\n1.53\\n\\n\\n3541\\nFinance\\n618\\n411684\\nCompany A\\nQuarterly Financial\\n2021-05\\nDaily\\n19:14\\n23:00\\n10.26\\n\\n\\n2391\\nMarketing\\n749\\n918046\\nCompany C\\nQuarterly Financial\\n2024-04\\nDaily\\n02:43\\n08:04\\n9.1\\n\\n\\n8428\\nSales\\n689\\n106995\\nCompany B\\nQuarterly Financial\\n2024-02\\nMonthly\\n04:05\\n18:18\\n14.3\\n\\n\\n8117\\nSales\\n387\\n642595\\nCompany C\\nQuarterly Financial\\n2022-10\\nMonthly\\n17:39\\n13:34\\n20.82\\n\\n\\n9424\\nSales\\n717\\n325033\\nCompany B\\nQuarterly Financial\\n2021-07\\nWeekly\\n06:37\\n21:39\\n1.84', metadata={'source': '../data/sample_data.xlsx'}),\n",
       " Document(page_content='4689\\nMarketing\\n522\\n219981\\nCompany A\\nQuarterly Financial\\n2022-02\\nWeekly\\n02:43\\n18:11\\n15.49\\n\\n\\n5125\\nFinance\\n651\\n645390\\nCompany A\\nMonthly Sales\\n2024-05\\nDaily\\n01:35\\n01:27\\n6.09\\n\\n\\n8911\\nMarketing\\n673\\n222753\\nCompany B\\nQuarterly Financial\\n2023-04\\nWeekly\\n18:08\\n10:47\\n10.97\\n\\n\\n\\n\\n\\n\\n\\nCOMPANY_ID\\nENTITY\\nENTITY_ID\\nDB_KEY\\nCOMPANY_NAME\\nREPORT_NAME\\nREPORT_DATE\\nFREQUENCY\\nSTART_TIME\\nFINISH_TIME\\nELAPSED_HOURS\\n\\n\\n7065\\nMarketing\\n750\\n773017\\nCompany B\\nMonthly Sales\\n2023-06\\nDaily\\n02:33\\n04:06\\n17.39\\n\\n\\n7438\\nMarketing\\n705\\n365540\\nCompany C\\nMarketing Analysis\\n2023-06\\nMonthly\\n05:30\\n12:42\\n21.26\\n\\n\\n8868\\nMarketing\\n229\\n313340\\nCompany A\\nQuarterly Financial\\n2021-10\\nMonthly\\n05:28\\n19:52\\n22.44\\n\\n\\n5438\\nSales\\n619\\n484982\\nCompany C\\nQuarterly Financial\\n2023-07\\nWeekly\\n04:42\\n00:11\\n17.28\\n\\n\\n7433\\nSales\\n151\\n207671\\nCompany A\\nQuarterly Financial\\n2021-12\\nDaily\\n17:35\\n06:15\\n22.53\\n\\n\\n7523\\nFinance\\n746\\n777356\\nCompany C\\nMarketing Analysis\\n2021-12\\nMonthly\\n13:38\\n20:15\\n10.46\\n\\n\\n1820\\nSales\\n290\\n371899\\nCompany C\\nMonthly Sales\\n2025-04\\nDaily\\n15:29\\n15:46\\n15.78', metadata={'source': '../data/sample_data.xlsx'}),\n",
       " Document(page_content='1820\\nSales\\n290\\n371899\\nCompany C\\nMonthly Sales\\n2025-04\\nDaily\\n15:29\\n15:46\\n15.78\\n\\n\\n5004\\nSales\\n402\\n647056\\nCompany A\\nMarketing Analysis\\n2022-09\\nDaily\\n02:43\\n07:52\\n23.56\\n\\n\\n8254\\nMarketing\\n336\\n977477\\nCompany B\\nMonthly Sales\\n2022-07\\nDaily\\n11:29\\n12:39\\n12.82\\n\\n\\n3541\\nFinance\\n618\\n411684\\nCompany A\\nQuarterly Financial\\n2021-05\\nDaily\\n19:14\\n23:00\\n10.26\\n\\n\\n8428\\nSales\\n689\\n106995\\nCompany B\\nQuarterly Financial\\n2024-02\\nMonthly\\n04:05\\n18:18\\n14.3\\n\\n\\n8117\\nSales\\n387\\n642595\\nCompany C\\nQuarterly Financial\\n2022-10\\nMonthly\\n17:39\\n13:34\\n20.82\\n\\n\\n4689\\nMarketing\\n522\\n219981\\nCompany A\\nQuarterly Financial\\n2022-02\\nWeekly\\n02:43\\n18:11\\n15.49\\n\\n\\n8911\\nMarketing\\n673\\n222753\\nCompany B\\nQuarterly Financial\\n2023-04\\nWeekly\\n18:08\\n10:47\\n10.97\\n\\n\\n\\n\\n\\n\\n\\nREPORT_DATE\\nSTART_TIME\\nFINISH_TIME\\nMAX_DURATION_HOURS\\n\\n\\n2021-04\\n08:47\\n04:10\\n6.11\\n\\n\\n2021-05\\n07:02\\n21:04\\n19.38\\n\\n\\n2021-06\\n12:16\\n01:40\\n9.12\\n\\n\\n2021-07\\n04:08\\n09:25\\n19.53\\n\\n\\n2021-08\\n14:56\\n20:30\\n13.16\\n\\n\\n2021-09\\n00:36\\n00:48\\n14.12\\n\\n\\n2021-10\\n03:54\\n20:02\\n15.68\\n\\n\\n2021-11\\n03:41\\n01:39\\n16.72\\n\\n\\n2021-12\\n15:55\\n22:42\\n10.99', metadata={'source': '../data/sample_data.xlsx'}),\n",
       " Document(page_content='2021-11\\n03:41\\n01:39\\n16.72\\n\\n\\n2021-12\\n15:55\\n22:42\\n10.99\\n\\n\\n2022-01\\n17:35\\n11:17\\n16.98\\n\\n\\n2022-02\\n13:09\\n21:04\\n9.09\\n\\n\\n2022-03\\n21:23\\n18:44\\n12.08\\n\\n\\n2022-04\\n03:21\\n15:51\\n7.12\\n\\n\\n2022-05\\n22:19\\n19:41\\n6.62\\n\\n\\n2022-06\\n06:52\\n16:48\\n9.39\\n\\n\\n2022-07\\n20:44\\n08:34\\n12.66\\n\\n\\n2022-08\\n20:14\\n08:38\\n13.28\\n\\n\\n2022-09\\n10:48\\n01:02\\n5.71\\n\\n\\n2022-10\\n08:43\\n13:36\\n18.48\\n\\n\\n2022-11\\n03:36\\n03:30\\n9.51\\n\\n\\n\\n\\n\\n\\n\\nREPORT_DATE\\nSTART_TIME\\nFINISH_TIME\\nELAPSED_HOURS\\n\\n\\n2023-08-10\\n17:30\\n20:20\\n1.45\\n\\n\\n2023-02-12\\n13:45\\n12:40\\n2.98\\n\\n\\n2023-11-14\\n12:43\\n14:48\\n3.8\\n\\n\\n2022-08-21\\n03:28\\n15:37\\n5.4\\n\\n\\n2021-12-15\\n08:46\\n16:27\\n4.71\\n\\n\\n2023-12-01\\n00:30\\n15:01\\n11.96\\n\\n\\n2025-02-01\\n10:40\\n22:06\\n5.26\\n\\n\\n2024-01-06\\n09:11\\n19:27\\n11.74\\n\\n\\n2023-12-06\\n23:22\\n06:05\\n7.77\\n\\n\\n2023-12-25\\n02:52\\n09:39\\n11.67\\n\\n\\n2021-11-05\\n15:19\\n02:16\\n10.54\\n\\n\\n2021-07-15\\n21:22\\n15:06\\n5.72\\n\\n\\n2024-11-28\\n19:33\\n04:08\\n9.77\\n\\n\\n2022-03-08\\n19:34\\n16:54\\n9.77\\n\\n\\n2023-10-17\\n15:01\\n13:22\\n3.46\\n\\n\\n2023-01-05\\n19:51\\n23:21\\n3.43\\n\\n\\n2022-04-18\\n03:10\\n08:27\\n2.75\\n\\n\\n2022-02-01\\n05:32\\n02:34\\n4.1\\n\\n\\n2025-01-29\\n17:34\\n20:27\\n8.21\\n\\n\\n2024-01-28\\n16:29\\n22:14\\n5.66', metadata={'source': '../data/sample_data.xlsx'})]"
      ]
     },
     "execution_count": 25,
     "metadata": {},
     "output_type": "execute_result"
    }
   ],
   "source": [
    "chunks"
   ]
  },
  {
   "cell_type": "code",
   "execution_count": 37,
   "id": "35a0bbd5",
   "metadata": {},
   "outputs": [
    {
     "data": {
      "text/plain": [
       "Document(page_content='REPORT_DATE\\nSTART_TIME\\nFINISH_TIME\\nELAPSED_HOURS\\n\\n\\n2023-05-18\\n07:07\\n12:50\\n11.49\\n\\n\\n2025-01-26\\n02:31\\n16:07\\n10.84\\n\\n\\n2023-08-13\\n21:46\\n13:45\\n6.66\\n\\n\\n2022-03-08\\n13:58\\n12:40\\n4.54\\n\\n\\n2024-02-08\\n06:44\\n21:30\\n9.64\\n\\n\\n2025-04-01\\n02:22\\n06:46\\n6.68\\n\\n\\n2024-07-22\\n09:08\\n19:09\\n6.75\\n\\n\\n2024-09-14\\n16:38\\n04:10\\n7.4\\n\\n\\n2023-02-07\\n20:17\\n03:42\\n1.88\\n\\n\\n2024-01-08\\n09:10\\n00:21\\n4.27\\n\\n\\n2021-09-27\\n09:30\\n12:47\\n5.59\\n\\n\\n2023-12-12\\n20:37\\n02:11\\n6.5\\n\\n\\n2023-12-19\\n19:47\\n22:41\\n11.02\\n\\n\\n2022-01-15\\n20:48\\n02:32\\n9.07\\n\\n\\n2024-02-10\\n14:28\\n10:52\\n7.96\\n\\n\\n2021-11-08\\n11:28\\n03:58\\n7.68\\n\\n\\n2024-11-15\\n12:44\\n15:35\\n2.1\\n\\n\\n2025-01-28\\n09:38\\n16:59\\n4.83\\n\\n\\n2023-07-14\\n09:24\\n16:55\\n7.69\\n\\n\\n2024-12-24\\n23:47\\n22:21\\n6.72\\n\\n\\n\\n\\n\\n\\n\\nDate\\nAuth\\nTxn\\n\\n\\n2023-06-08\\n1284\\n458\\n\\n\\n2023-05-21\\n3044\\n834\\n\\n\\n2024-01-04\\n3929\\n787\\n\\n\\n2021-09-21\\n4647\\n375\\n\\n\\n2025-02-21\\n4711\\n791\\n\\n\\n2023-01-28\\n3526\\n551\\n\\n\\n2021-11-02\\n2455\\n650\\n\\n\\n2024-07-16\\n3675\\n334\\n\\n\\n2025-01-26\\n4651\\n542\\n\\n\\n2024-09-06\\n2223\\n589\\n\\n\\n2024-11-01\\n1352\\n334\\n\\n\\n2024-10-24\\n1666\\n113\\n\\n\\n2023-08-29\\n1106\\n908\\n\\n\\n2022-03-03\\n3124\\n390\\n\\n\\n2023-06-28\\n4224\\n902\\n\\n\\n2023-05-10\\n4609\\n721', metadata={'source': '../data/sample_data.xlsx'})"
      ]
     },
     "execution_count": 37,
     "metadata": {},
     "output_type": "execute_result"
    }
   ],
   "source": [
    "chunks[0]"
   ]
  },
  {
   "cell_type": "code",
   "execution_count": 33,
   "id": "b2480285",
   "metadata": {},
   "outputs": [
    {
     "name": "stdout",
     "output_type": "stream",
     "text": [
      "page_content='\\n\\n\\nREPORT_DATE\\nSTART_TIME\\nFINISH_TIME\\nELAPSED_HOURS\\n\\n\\n2023-05-18\\n07:07\\n12:50\\n11.49\\n\\n\\n2025-01-26\\n02:31\\n16:07\\n10.84\\n\\n\\n2023-08-13\\n21:46\\n13:45\\n6.66\\n\\n\\n2022-03-08\\n13:58\\n12:40\\n4.54\\n\\n\\n2024-02-08\\n06:44\\n21:30\\n9.64\\n\\n\\n2025-04-01\\n02:22\\n06:46\\n6.68\\n\\n\\n2024-07-22\\n09:08\\n19:09\\n6.75\\n\\n\\n2024-09-14\\n16:38\\n04:10\\n7.4\\n\\n\\n2023-02-07\\n20:17\\n03:42\\n1.88\\n\\n\\n2024-01-08\\n09:10\\n00:21\\n4.27\\n\\n\\n2021-09-27\\n09:30\\n12:47\\n5.59\\n\\n\\n2023-12-12\\n20:37\\n02:11\\n6.5\\n\\n\\n2023-12-19\\n19:47\\n22:41\\n11.02\\n\\n\\n2022-01-15\\n20:48\\n02:32\\n9.07\\n\\n\\n2024-02-10\\n14:28\\n10:52\\n7.96\\n\\n\\n2021-11-08\\n11:28\\n03:58\\n7.68\\n\\n\\n2024-11-15\\n12:44\\n15:35\\n2.1\\n\\n\\n2025-01-28\\n09:38\\n16:59\\n4.83\\n\\n\\n2023-07-14\\n09:24\\n16:55\\n7.69\\n\\n\\n2024-12-24\\n23:47\\n22:21\\n6.72\\n\\n\\n' metadata={'source': '../data/sample_data.xlsx', 'filename': 'sample_data.xlsx', 'file_directory': '../data', 'last_modified': '2025-05-09T09:56:10', 'filetype': 'application/vnd.openxmlformats-officedocument.spreadsheetml.sheet', 'languages': ['eng'], 'page_number': 1, 'page_name': 'Daily DFR', 'text_as_html': '<table border=\"1\" class=\"dataframe\">\\n  <tbody>\\n    <tr>\\n      <td>REPORT_DATE</td>\\n      <td>START_TIME</td>\\n      <td>FINISH_TIME</td>\\n      <td>ELAPSED_HOURS</td>\\n    </tr>\\n    <tr>\\n      <td>2023-05-18</td>\\n      <td>07:07</td>\\n      <td>12:50</td>\\n      <td>11.49</td>\\n    </tr>\\n    <tr>\\n      <td>2025-01-26</td>\\n      <td>02:31</td>\\n      <td>16:07</td>\\n      <td>10.84</td>\\n    </tr>\\n    <tr>\\n      <td>2023-08-13</td>\\n      <td>21:46</td>\\n      <td>13:45</td>\\n      <td>6.66</td>\\n    </tr>\\n    <tr>\\n      <td>2022-03-08</td>\\n      <td>13:58</td>\\n      <td>12:40</td>\\n      <td>4.54</td>\\n    </tr>\\n    <tr>\\n      <td>2024-02-08</td>\\n      <td>06:44</td>\\n      <td>21:30</td>\\n      <td>9.64</td>\\n    </tr>\\n    <tr>\\n      <td>2025-04-01</td>\\n      <td>02:22</td>\\n      <td>06:46</td>\\n      <td>6.68</td>\\n    </tr>\\n    <tr>\\n      <td>2024-07-22</td>\\n      <td>09:08</td>\\n      <td>19:09</td>\\n      <td>6.75</td>\\n    </tr>\\n    <tr>\\n      <td>2024-09-14</td>\\n      <td>16:38</td>\\n      <td>04:10</td>\\n      <td>7.4</td>\\n    </tr>\\n    <tr>\\n      <td>2023-02-07</td>\\n      <td>20:17</td>\\n      <td>03:42</td>\\n      <td>1.88</td>\\n    </tr>\\n    <tr>\\n      <td>2024-01-08</td>\\n      <td>09:10</td>\\n      <td>00:21</td>\\n      <td>4.27</td>\\n    </tr>\\n    <tr>\\n      <td>2021-09-27</td>\\n      <td>09:30</td>\\n      <td>12:47</td>\\n      <td>5.59</td>\\n    </tr>\\n    <tr>\\n      <td>2023-12-12</td>\\n      <td>20:37</td>\\n      <td>02:11</td>\\n      <td>6.5</td>\\n    </tr>\\n    <tr>\\n      <td>2023-12-19</td>\\n      <td>19:47</td>\\n      <td>22:41</td>\\n      <td>11.02</td>\\n    </tr>\\n    <tr>\\n      <td>2022-01-15</td>\\n      <td>20:48</td>\\n      <td>02:32</td>\\n      <td>9.07</td>\\n    </tr>\\n    <tr>\\n      <td>2024-02-10</td>\\n      <td>14:28</td>\\n      <td>10:52</td>\\n      <td>7.96</td>\\n    </tr>\\n    <tr>\\n      <td>2021-11-08</td>\\n      <td>11:28</td>\\n      <td>03:58</td>\\n      <td>7.68</td>\\n    </tr>\\n    <tr>\\n      <td>2024-11-15</td>\\n      <td>12:44</td>\\n      <td>15:35</td>\\n      <td>2.1</td>\\n    </tr>\\n    <tr>\\n      <td>2025-01-28</td>\\n      <td>09:38</td>\\n      <td>16:59</td>\\n      <td>4.83</td>\\n    </tr>\\n    <tr>\\n      <td>2023-07-14</td>\\n      <td>09:24</td>\\n      <td>16:55</td>\\n      <td>7.69</td>\\n    </tr>\\n    <tr>\\n      <td>2024-12-24</td>\\n      <td>23:47</td>\\n      <td>22:21</td>\\n      <td>6.72</td>\\n    </tr>\\n  </tbody>\\n</table>', 'category': 'Table'}\n"
     ]
    }
   ],
   "source": [
    "print(docs[0])"
   ]
  },
  {
   "cell_type": "code",
   "execution_count": null,
   "id": "a6a4021e",
   "metadata": {},
   "outputs": [],
   "source": []
  }
 ],
 "metadata": {
  "kernelspec": {
   "display_name": "graph_rag",
   "language": "python",
   "name": "python3"
  },
  "language_info": {
   "codemirror_mode": {
    "name": "ipython",
    "version": 3
   },
   "file_extension": ".py",
   "mimetype": "text/x-python",
   "name": "python",
   "nbconvert_exporter": "python",
   "pygments_lexer": "ipython3",
   "version": "3.11.9"
  }
 },
 "nbformat": 4,
 "nbformat_minor": 5
}
