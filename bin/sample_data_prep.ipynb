{
 "cells": [
  {
   "cell_type": "code",
   "execution_count": 1,
   "id": "e417c0bd",
   "metadata": {},
   "outputs": [],
   "source": [
    "import pandas as pd\n",
    "import numpy as np\n",
    "from datetime import datetime, timedelta"
   ]
  },
  {
   "cell_type": "code",
   "execution_count": 2,
   "id": "5e887f92",
   "metadata": {},
   "outputs": [],
   "source": [
    "# Helper functions\n",
    "def random_date(start, end):\n",
    "    return start + timedelta(seconds=np.random.randint(0, int((end - start).total_seconds())))\n",
    "\n",
    "def generate_sample_dates(start_date, end_date, num_records):\n",
    "    return [random_date(start_date, end_date).strftime('%Y-%m-%d') for _ in range(num_records)]\n",
    "\n",
    "def generate_time():\n",
    "    time = datetime.strptime('00:00', '%H:%M') + timedelta(minutes=np.random.randint(0, 1440))\n",
    "    return time.strftime('%H:%M')"
   ]
  },
  {
   "cell_type": "code",
   "execution_count": 6,
   "id": "3a599059",
   "metadata": {},
   "outputs": [
    {
     "name": "stdout",
     "output_type": "stream",
     "text": [
      "Excel file 'sample_data.xlsx' created successfully!\n"
     ]
    },
    {
     "name": "stderr",
     "output_type": "stream",
     "text": [
      "/var/folders/bn/r3jcwdgd6ss8l34kf4p54z9h0000gn/T/ipykernel_24863/3613060447.py:21: FutureWarning: 'M' is deprecated and will be removed in a future version, please use 'ME' instead.\n",
      "  'Month': pd.date_range('2021-04-01', periods=20, freq='M').strftime('%Y-%m'),\n",
      "/var/folders/bn/r3jcwdgd6ss8l34kf4p54z9h0000gn/T/ipykernel_24863/3613060447.py:26: FutureWarning: 'M' is deprecated and will be removed in a future version, please use 'ME' instead.\n",
      "  months = pd.date_range('2021-04-01', '2025-04-30', freq='M').strftime('%Y-%m').tolist()\n",
      "/Users/sumandey/anaconda3/envs/graph_rag/lib/python3.11/site-packages/openpyxl/workbook/child.py:99: UserWarning: Title is more than 31 characters. Some applications may not be able to read the file\n",
      "  warnings.warn(\"Title is more than 31 characters. Some applications may not be able to read the file\")\n"
     ]
    }
   ],
   "source": [
    "# Use context manager to write Excel file\n",
    "with pd.ExcelWriter('../data/sample_data.xlsx', engine='openpyxl') as writer:\n",
    "\n",
    "    # 1. Daily DFR\n",
    "    pd.DataFrame({\n",
    "        'REPORT_DATE': generate_sample_dates(datetime(2021, 4, 1), datetime(2025, 4, 30), 20),\n",
    "        'START_TIME': [generate_time() for _ in range(20)],\n",
    "        'FINISH_TIME': [generate_time() for _ in range(20)],\n",
    "        'ELAPSED_HOURS': np.random.uniform(1, 12, 20).round(2)\n",
    "    }).to_excel(writer, sheet_name='Daily DFR', index=False)\n",
    "\n",
    "    # 2. Volume All\n",
    "    pd.DataFrame({\n",
    "        'Date': generate_sample_dates(datetime(2021, 4, 1), datetime(2025, 4, 30), 20),\n",
    "        'Auth': np.random.randint(1000, 5000, 20),\n",
    "        'Txn': np.random.randint(100, 1000, 20)\n",
    "    }).to_excel(writer, sheet_name='Volume All', index=False)\n",
    "\n",
    "    # 3. Volume (Subm)-Top Merchants\n",
    "    pd.DataFrame({\n",
    "        'Month': pd.date_range('2021-04-01', periods=20, freq='M').strftime('%Y-%m'),\n",
    "        'Metropolitan (MTA)': np.random.randint(10000, 50000, 20)\n",
    "    }).to_excel(writer, sheet_name='Volume (Subm)-Top Merchants', index=False)\n",
    "\n",
    "    # For 3-year monthly data sheets (April 2021-April 2025)\n",
    "    months = pd.date_range('2021-04-01', '2025-04-30', freq='M').strftime('%Y-%m').tolist()\n",
    "    entities = ['Sales', 'Marketing', 'Finance']\n",
    "    companies = ['Company A', 'Company B', 'Company C']\n",
    "    reports = ['Monthly Sales', 'Quarterly Financial', 'Marketing Analysis']\n",
    "    frequencies = ['Monthly', 'Weekly', 'Daily']\n",
    "\n",
    "    common_data = {\n",
    "        'COMPANY_ID': np.random.randint(1000, 9999, 20),\n",
    "        'ENTITY': np.random.choice(entities, 20),\n",
    "        'BREAKDOWN_LVL': np.random.choice(['High', 'Medium', 'Low'], 20),\n",
    "        'ENTITY_ID': np.random.randint(100, 999, 20),\n",
    "        'DB_KEY': np.random.randint(100000, 999999, 20),\n",
    "        'COMPANY_NAME': np.random.choice(companies, 20),\n",
    "        'REPORT_NAME': np.random.choice(reports, 20),\n",
    "        'REPORT_DATE': np.random.choice(months, 20),\n",
    "        'FREQUENCY': np.random.choice(frequencies, 20),\n",
    "        'START_TIME': [generate_time() for _ in range(20)],\n",
    "        'FINISH_TIME': [generate_time() for _ in range(20)],\n",
    "        'ELAPSED_HOURS': np.random.uniform(1, 24, 20).round(2)\n",
    "    }\n",
    "\n",
    "    # Generate sheets\n",
    "    sheet_names = [\n",
    "        'Daily Top Web Reports', 'Daily Top GRPT DFR Reports', \n",
    "        'Top monthly web reports', 'Top monthly Grpt DFR reports (>10 hrs)'\n",
    "    ]\n",
    "\n",
    "    for name in sheet_names:\n",
    "        data = common_data.copy()\n",
    "        if 'BREAKDOWN_LVL' not in name:\n",
    "            data.pop('BREAKDOWN_LVL')\n",
    "        df = pd.DataFrame(data)\n",
    "        if name == 'Top monthly Grpt DFR reports (>10 hrs)':\n",
    "            df = df[df['ELAPSED_HOURS'] > 10]\n",
    "        df.to_excel(writer, sheet_name=name, index=False)\n",
    "\n",
    "    # Monthend Duration-Web, Grpt\n",
    "    pd.DataFrame({\n",
    "        'REPORT_DATE': months[:20],\n",
    "        'START_TIME': [generate_time() for _ in range(20)],\n",
    "        'FINISH_TIME': [generate_time() for _ in range(20)],\n",
    "        'MAX_DURATION_HOURS': np.random.uniform(5, 20, 20).round(2)\n",
    "    }).to_excel(writer, sheet_name='Monthend Duration Web GRPT', index=False)\n",
    "\n",
    "    # Daily Web\n",
    "    pd.DataFrame({\n",
    "        'REPORT_DATE': generate_sample_dates(datetime(2021, 4, 1), datetime(2025, 4, 30), 20),\n",
    "        'START_TIME': [generate_time() for _ in range(20)],\n",
    "        'FINISH_TIME': [generate_time() for _ in range(20)],\n",
    "        'ELAPSED_HOURS': np.random.uniform(1, 12, 20).round(2)\n",
    "    }).to_excel(writer, sheet_name='Daily Web', index=False)\n",
    "\n",
    "print(\"Excel file 'sample_data.xlsx' created successfully!\")"
   ]
  },
  {
   "cell_type": "code",
   "execution_count": null,
   "id": "339d6e0a",
   "metadata": {},
   "outputs": [],
   "source": []
  }
 ],
 "metadata": {
  "kernelspec": {
   "display_name": "graph_rag",
   "language": "python",
   "name": "python3"
  },
  "language_info": {
   "codemirror_mode": {
    "name": "ipython",
    "version": 3
   },
   "file_extension": ".py",
   "mimetype": "text/x-python",
   "name": "python",
   "nbconvert_exporter": "python",
   "pygments_lexer": "ipython3",
   "version": "3.11.9"
  }
 },
 "nbformat": 4,
 "nbformat_minor": 5
}
